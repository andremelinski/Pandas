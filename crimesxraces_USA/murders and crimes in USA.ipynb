{
 "cells": [
  {
   "cell_type": "markdown",
   "metadata": {},
   "source": [
    "https://www.kaggle.com/jpmiller/police-violence-in-the-us?select=deaths_arrests_race.csv"
   ]
  },
  {
   "cell_type": "code",
   "execution_count": 29,
   "metadata": {},
   "outputs": [],
   "source": [
    "import pandas as pd\n",
    "import datetime\n",
    "import numpy as np\n",
    "import os\n",
    "import matplotlib.pyplot as plt\n",
    "import seaborn as sns\n",
    "import plotly.express as px"
   ]
  },
  {
   "cell_type": "markdown",
   "metadata": {},
   "source": [
    "- murders x PD\n",
    "- murder_races x PD\n",
    "- races x state\n",
    "- races x city\n",
    "- total of violent crimes \n",
    "- c_p = (total if violent crimes/total of people)*1000\n"
   ]
  },
  {
   "cell_type": "code",
   "execution_count": 2,
   "metadata": {},
   "outputs": [
    {
     "data": {
      "text/plain": [
       "'C:\\\\Users\\\\andre\\\\Desktop'"
      ]
     },
     "execution_count": 2,
     "metadata": {},
     "output_type": "execute_result"
    }
   ],
   "source": [
    "os.getcwd()"
   ]
  },
  {
   "cell_type": "code",
   "execution_count": 3,
   "metadata": {},
   "outputs": [],
   "source": [
    "dar=pd.read_csv('C:\\\\Users\\\\andre\\\\OneDrive\\\\Project_Challenge\\\\US Police Violence & Fatal Shootings/deaths_arrests_race.csv')"
   ]
  },
  {
   "cell_type": "code",
   "execution_count": 4,
   "metadata": {},
   "outputs": [
    {
     "data": {
      "text/plain": [
       "(100, 33)"
      ]
     },
     "execution_count": 4,
     "metadata": {},
     "output_type": "execute_result"
    }
   ],
   "source": [
    "dar.shape"
   ]
  },
  {
   "cell_type": "code",
   "execution_count": 5,
   "metadata": {},
   "outputs": [
    {
     "data": {
      "text/html": [
       "<div>\n",
       "<style scoped>\n",
       "    .dataframe tbody tr th:only-of-type {\n",
       "        vertical-align: middle;\n",
       "    }\n",
       "\n",
       "    .dataframe tbody tr th {\n",
       "        vertical-align: top;\n",
       "    }\n",
       "\n",
       "    .dataframe thead th {\n",
       "        text-align: right;\n",
       "    }\n",
       "</style>\n",
       "<table border=\"1\" class=\"dataframe\">\n",
       "  <thead>\n",
       "    <tr style=\"text-align: right;\">\n",
       "      <th></th>\n",
       "      <th>State</th>\n",
       "      <th>City</th>\n",
       "      <th>PD</th>\n",
       "      <th>Black People Killed by Police (1/1/2013-12/31/2019)</th>\n",
       "      <th>Hispanic People Killed by Police (1/1/2013-12/31/2019)</th>\n",
       "      <th>Native American People Killed by Police (1/1/2013-12/31/2019)</th>\n",
       "      <th>Asian People Killed by Police (1/1/2013-12/31/2019)</th>\n",
       "      <th>Pacific Islanders Killed by Police (1/1/2013-12/31/2019)</th>\n",
       "      <th>White People Killed by Police (1/1/2013-12/31/2019)</th>\n",
       "      <th>Unknown Race People Killed by Police (1/1/2013-12/31/2019)</th>\n",
       "    </tr>\n",
       "  </thead>\n",
       "  <tbody>\n",
       "    <tr>\n",
       "      <th>0</th>\n",
       "      <td>New Mexico</td>\n",
       "      <td>Albuquerque</td>\n",
       "      <td>Albuquerque Police Department</td>\n",
       "      <td>3.0</td>\n",
       "      <td>18.0</td>\n",
       "      <td>NaN</td>\n",
       "      <td>NaN</td>\n",
       "      <td>NaN</td>\n",
       "      <td>10.0</td>\n",
       "      <td>1.0</td>\n",
       "    </tr>\n",
       "    <tr>\n",
       "      <th>1</th>\n",
       "      <td>California</td>\n",
       "      <td>Anaheim</td>\n",
       "      <td>Anaheim Police Department</td>\n",
       "      <td>3.0</td>\n",
       "      <td>7.0</td>\n",
       "      <td>NaN</td>\n",
       "      <td>NaN</td>\n",
       "      <td>NaN</td>\n",
       "      <td>3.0</td>\n",
       "      <td>NaN</td>\n",
       "    </tr>\n",
       "    <tr>\n",
       "      <th>2</th>\n",
       "      <td>Alaska</td>\n",
       "      <td>Anchorage</td>\n",
       "      <td>Anchorage Police Department</td>\n",
       "      <td>1.0</td>\n",
       "      <td>1.0</td>\n",
       "      <td>2.0</td>\n",
       "      <td>NaN</td>\n",
       "      <td>NaN</td>\n",
       "      <td>5.0</td>\n",
       "      <td>4.0</td>\n",
       "    </tr>\n",
       "    <tr>\n",
       "      <th>3</th>\n",
       "      <td>Texas</td>\n",
       "      <td>Arlington</td>\n",
       "      <td>Arlington Police Department</td>\n",
       "      <td>7.0</td>\n",
       "      <td>1.0</td>\n",
       "      <td>NaN</td>\n",
       "      <td>1.0</td>\n",
       "      <td>NaN</td>\n",
       "      <td>4.0</td>\n",
       "      <td>1.0</td>\n",
       "    </tr>\n",
       "    <tr>\n",
       "      <th>4</th>\n",
       "      <td>Georgia</td>\n",
       "      <td>Atlanta</td>\n",
       "      <td>Atlanta Police Department</td>\n",
       "      <td>13.0</td>\n",
       "      <td>NaN</td>\n",
       "      <td>NaN</td>\n",
       "      <td>NaN</td>\n",
       "      <td>NaN</td>\n",
       "      <td>1.0</td>\n",
       "      <td>1.0</td>\n",
       "    </tr>\n",
       "    <tr>\n",
       "      <th>...</th>\n",
       "      <td>...</td>\n",
       "      <td>...</td>\n",
       "      <td>...</td>\n",
       "      <td>...</td>\n",
       "      <td>...</td>\n",
       "      <td>...</td>\n",
       "      <td>...</td>\n",
       "      <td>...</td>\n",
       "      <td>...</td>\n",
       "      <td>...</td>\n",
       "    </tr>\n",
       "    <tr>\n",
       "      <th>95</th>\n",
       "      <td>Arizona</td>\n",
       "      <td>Tucson</td>\n",
       "      <td>Tucson Police Department</td>\n",
       "      <td>2.0</td>\n",
       "      <td>10.0</td>\n",
       "      <td>NaN</td>\n",
       "      <td>NaN</td>\n",
       "      <td>NaN</td>\n",
       "      <td>10.0</td>\n",
       "      <td>6.0</td>\n",
       "    </tr>\n",
       "    <tr>\n",
       "      <th>96</th>\n",
       "      <td>Oklahoma</td>\n",
       "      <td>Tulsa</td>\n",
       "      <td>Tulsa Police Department</td>\n",
       "      <td>7.0</td>\n",
       "      <td>4.0</td>\n",
       "      <td>NaN</td>\n",
       "      <td>1.0</td>\n",
       "      <td>NaN</td>\n",
       "      <td>14.0</td>\n",
       "      <td>1.0</td>\n",
       "    </tr>\n",
       "    <tr>\n",
       "      <th>97</th>\n",
       "      <td>Virginia</td>\n",
       "      <td>Virginia Beach</td>\n",
       "      <td>Virginia Beach Police Department</td>\n",
       "      <td>3.0</td>\n",
       "      <td>NaN</td>\n",
       "      <td>NaN</td>\n",
       "      <td>NaN</td>\n",
       "      <td>NaN</td>\n",
       "      <td>2.0</td>\n",
       "      <td>1.0</td>\n",
       "    </tr>\n",
       "    <tr>\n",
       "      <th>98</th>\n",
       "      <td>Kansas</td>\n",
       "      <td>Wichita</td>\n",
       "      <td>Wichita Police Department</td>\n",
       "      <td>1.0</td>\n",
       "      <td>2.0</td>\n",
       "      <td>NaN</td>\n",
       "      <td>NaN</td>\n",
       "      <td>NaN</td>\n",
       "      <td>10.0</td>\n",
       "      <td>NaN</td>\n",
       "    </tr>\n",
       "    <tr>\n",
       "      <th>99</th>\n",
       "      <td>North Carolina</td>\n",
       "      <td>Winston-Salem</td>\n",
       "      <td>Winston-Salem Police Department</td>\n",
       "      <td>3.0</td>\n",
       "      <td>NaN</td>\n",
       "      <td>NaN</td>\n",
       "      <td>NaN</td>\n",
       "      <td>NaN</td>\n",
       "      <td>NaN</td>\n",
       "      <td>NaN</td>\n",
       "    </tr>\n",
       "  </tbody>\n",
       "</table>\n",
       "<p>100 rows × 10 columns</p>\n",
       "</div>"
      ],
      "text/plain": [
       "             State            City                                PD  \\\n",
       "0       New Mexico     Albuquerque     Albuquerque Police Department   \n",
       "1       California         Anaheim         Anaheim Police Department   \n",
       "2           Alaska       Anchorage       Anchorage Police Department   \n",
       "3            Texas       Arlington       Arlington Police Department   \n",
       "4          Georgia         Atlanta         Atlanta Police Department   \n",
       "..             ...             ...                               ...   \n",
       "95         Arizona          Tucson          Tucson Police Department   \n",
       "96        Oklahoma           Tulsa           Tulsa Police Department   \n",
       "97        Virginia  Virginia Beach  Virginia Beach Police Department   \n",
       "98          Kansas         Wichita         Wichita Police Department   \n",
       "99  North Carolina   Winston-Salem   Winston-Salem Police Department   \n",
       "\n",
       "    Black People Killed by Police (1/1/2013-12/31/2019)  \\\n",
       "0                                                 3.0     \n",
       "1                                                 3.0     \n",
       "2                                                 1.0     \n",
       "3                                                 7.0     \n",
       "4                                                13.0     \n",
       "..                                                ...     \n",
       "95                                                2.0     \n",
       "96                                                7.0     \n",
       "97                                                3.0     \n",
       "98                                                1.0     \n",
       "99                                                3.0     \n",
       "\n",
       "    Hispanic People Killed by Police (1/1/2013-12/31/2019)  \\\n",
       "0                                                18.0        \n",
       "1                                                 7.0        \n",
       "2                                                 1.0        \n",
       "3                                                 1.0        \n",
       "4                                                 NaN        \n",
       "..                                                ...        \n",
       "95                                               10.0        \n",
       "96                                                4.0        \n",
       "97                                                NaN        \n",
       "98                                                2.0        \n",
       "99                                                NaN        \n",
       "\n",
       "    Native American People Killed by Police (1/1/2013-12/31/2019)  \\\n",
       "0                                                 NaN               \n",
       "1                                                 NaN               \n",
       "2                                                 2.0               \n",
       "3                                                 NaN               \n",
       "4                                                 NaN               \n",
       "..                                                ...               \n",
       "95                                                NaN               \n",
       "96                                                NaN               \n",
       "97                                                NaN               \n",
       "98                                                NaN               \n",
       "99                                                NaN               \n",
       "\n",
       "    Asian People Killed by Police (1/1/2013-12/31/2019)  \\\n",
       "0                                                 NaN     \n",
       "1                                                 NaN     \n",
       "2                                                 NaN     \n",
       "3                                                 1.0     \n",
       "4                                                 NaN     \n",
       "..                                                ...     \n",
       "95                                                NaN     \n",
       "96                                                1.0     \n",
       "97                                                NaN     \n",
       "98                                                NaN     \n",
       "99                                                NaN     \n",
       "\n",
       "    Pacific Islanders Killed by Police (1/1/2013-12/31/2019)  \\\n",
       "0                                                 NaN          \n",
       "1                                                 NaN          \n",
       "2                                                 NaN          \n",
       "3                                                 NaN          \n",
       "4                                                 NaN          \n",
       "..                                                ...          \n",
       "95                                                NaN          \n",
       "96                                                NaN          \n",
       "97                                                NaN          \n",
       "98                                                NaN          \n",
       "99                                                NaN          \n",
       "\n",
       "    White People Killed by Police (1/1/2013-12/31/2019)  \\\n",
       "0                                                10.0     \n",
       "1                                                 3.0     \n",
       "2                                                 5.0     \n",
       "3                                                 4.0     \n",
       "4                                                 1.0     \n",
       "..                                                ...     \n",
       "95                                               10.0     \n",
       "96                                               14.0     \n",
       "97                                                2.0     \n",
       "98                                               10.0     \n",
       "99                                                NaN     \n",
       "\n",
       "    Unknown Race People Killed by Police (1/1/2013-12/31/2019)  \n",
       "0                                                 1.0           \n",
       "1                                                 NaN           \n",
       "2                                                 4.0           \n",
       "3                                                 1.0           \n",
       "4                                                 1.0           \n",
       "..                                                ...           \n",
       "95                                                6.0           \n",
       "96                                                1.0           \n",
       "97                                                1.0           \n",
       "98                                                NaN           \n",
       "99                                                NaN           \n",
       "\n",
       "[100 rows x 10 columns]"
      ]
     },
     "execution_count": 5,
     "metadata": {},
     "output_type": "execute_result"
    }
   ],
   "source": [
    "mp=dar.iloc[:,0:10].copy()\n",
    "mp"
   ]
  },
  {
   "cell_type": "markdown",
   "metadata": {},
   "source": [
    "- murders x PD\n",
    "- murder_races x PD\n",
    "- races x state\n",
    "- races x city"
   ]
  },
  {
   "cell_type": "code",
   "execution_count": 6,
   "metadata": {},
   "outputs": [],
   "source": [
    "mp.replace(np.nan, 0, inplace=True)"
   ]
  },
  {
   "cell_type": "code",
   "execution_count": 7,
   "metadata": {},
   "outputs": [
    {
     "data": {
      "text/plain": [
       "(100, 10)"
      ]
     },
     "execution_count": 7,
     "metadata": {},
     "output_type": "execute_result"
    }
   ],
   "source": [
    "mp.shape"
   ]
  },
  {
   "cell_type": "code",
   "execution_count": 8,
   "metadata": {},
   "outputs": [
    {
     "data": {
      "text/html": [
       "<div>\n",
       "<style scoped>\n",
       "    .dataframe tbody tr th:only-of-type {\n",
       "        vertical-align: middle;\n",
       "    }\n",
       "\n",
       "    .dataframe tbody tr th {\n",
       "        vertical-align: top;\n",
       "    }\n",
       "\n",
       "    .dataframe thead th {\n",
       "        text-align: right;\n",
       "    }\n",
       "</style>\n",
       "<table border=\"1\" class=\"dataframe\">\n",
       "  <thead>\n",
       "    <tr style=\"text-align: right;\">\n",
       "      <th></th>\n",
       "      <th>State</th>\n",
       "      <th>City</th>\n",
       "      <th>PD</th>\n",
       "      <th>Black People Killed by Police (1/1/2013-12/31/2019)</th>\n",
       "      <th>Hispanic People Killed by Police (1/1/2013-12/31/2019)</th>\n",
       "      <th>Native American People Killed by Police (1/1/2013-12/31/2019)</th>\n",
       "      <th>Asian People Killed by Police (1/1/2013-12/31/2019)</th>\n",
       "      <th>Pacific Islanders Killed by Police (1/1/2013-12/31/2019)</th>\n",
       "      <th>White People Killed by Police (1/1/2013-12/31/2019)</th>\n",
       "      <th>Unknown Race People Killed by Police (1/1/2013-12/31/2019)</th>\n",
       "      <th>Total_Killed_by_Police</th>\n",
       "    </tr>\n",
       "  </thead>\n",
       "  <tbody>\n",
       "    <tr>\n",
       "      <th>0</th>\n",
       "      <td>New Mexico</td>\n",
       "      <td>Albuquerque</td>\n",
       "      <td>Albuquerque Police Department</td>\n",
       "      <td>3.0</td>\n",
       "      <td>18.0</td>\n",
       "      <td>0.0</td>\n",
       "      <td>0.0</td>\n",
       "      <td>0.0</td>\n",
       "      <td>10.0</td>\n",
       "      <td>1.0</td>\n",
       "      <td>32.0</td>\n",
       "    </tr>\n",
       "    <tr>\n",
       "      <th>1</th>\n",
       "      <td>California</td>\n",
       "      <td>Anaheim</td>\n",
       "      <td>Anaheim Police Department</td>\n",
       "      <td>3.0</td>\n",
       "      <td>7.0</td>\n",
       "      <td>0.0</td>\n",
       "      <td>0.0</td>\n",
       "      <td>0.0</td>\n",
       "      <td>3.0</td>\n",
       "      <td>0.0</td>\n",
       "      <td>13.0</td>\n",
       "    </tr>\n",
       "    <tr>\n",
       "      <th>2</th>\n",
       "      <td>Alaska</td>\n",
       "      <td>Anchorage</td>\n",
       "      <td>Anchorage Police Department</td>\n",
       "      <td>1.0</td>\n",
       "      <td>1.0</td>\n",
       "      <td>2.0</td>\n",
       "      <td>0.0</td>\n",
       "      <td>0.0</td>\n",
       "      <td>5.0</td>\n",
       "      <td>4.0</td>\n",
       "      <td>13.0</td>\n",
       "    </tr>\n",
       "    <tr>\n",
       "      <th>3</th>\n",
       "      <td>Texas</td>\n",
       "      <td>Arlington</td>\n",
       "      <td>Arlington Police Department</td>\n",
       "      <td>7.0</td>\n",
       "      <td>1.0</td>\n",
       "      <td>0.0</td>\n",
       "      <td>1.0</td>\n",
       "      <td>0.0</td>\n",
       "      <td>4.0</td>\n",
       "      <td>1.0</td>\n",
       "      <td>14.0</td>\n",
       "    </tr>\n",
       "    <tr>\n",
       "      <th>4</th>\n",
       "      <td>Georgia</td>\n",
       "      <td>Atlanta</td>\n",
       "      <td>Atlanta Police Department</td>\n",
       "      <td>13.0</td>\n",
       "      <td>0.0</td>\n",
       "      <td>0.0</td>\n",
       "      <td>0.0</td>\n",
       "      <td>0.0</td>\n",
       "      <td>1.0</td>\n",
       "      <td>1.0</td>\n",
       "      <td>15.0</td>\n",
       "    </tr>\n",
       "    <tr>\n",
       "      <th>...</th>\n",
       "      <td>...</td>\n",
       "      <td>...</td>\n",
       "      <td>...</td>\n",
       "      <td>...</td>\n",
       "      <td>...</td>\n",
       "      <td>...</td>\n",
       "      <td>...</td>\n",
       "      <td>...</td>\n",
       "      <td>...</td>\n",
       "      <td>...</td>\n",
       "      <td>...</td>\n",
       "    </tr>\n",
       "    <tr>\n",
       "      <th>95</th>\n",
       "      <td>Arizona</td>\n",
       "      <td>Tucson</td>\n",
       "      <td>Tucson Police Department</td>\n",
       "      <td>2.0</td>\n",
       "      <td>10.0</td>\n",
       "      <td>0.0</td>\n",
       "      <td>0.0</td>\n",
       "      <td>0.0</td>\n",
       "      <td>10.0</td>\n",
       "      <td>6.0</td>\n",
       "      <td>28.0</td>\n",
       "    </tr>\n",
       "    <tr>\n",
       "      <th>96</th>\n",
       "      <td>Oklahoma</td>\n",
       "      <td>Tulsa</td>\n",
       "      <td>Tulsa Police Department</td>\n",
       "      <td>7.0</td>\n",
       "      <td>4.0</td>\n",
       "      <td>0.0</td>\n",
       "      <td>1.0</td>\n",
       "      <td>0.0</td>\n",
       "      <td>14.0</td>\n",
       "      <td>1.0</td>\n",
       "      <td>27.0</td>\n",
       "    </tr>\n",
       "    <tr>\n",
       "      <th>97</th>\n",
       "      <td>Virginia</td>\n",
       "      <td>Virginia Beach</td>\n",
       "      <td>Virginia Beach Police Department</td>\n",
       "      <td>3.0</td>\n",
       "      <td>0.0</td>\n",
       "      <td>0.0</td>\n",
       "      <td>0.0</td>\n",
       "      <td>0.0</td>\n",
       "      <td>2.0</td>\n",
       "      <td>1.0</td>\n",
       "      <td>6.0</td>\n",
       "    </tr>\n",
       "    <tr>\n",
       "      <th>98</th>\n",
       "      <td>Kansas</td>\n",
       "      <td>Wichita</td>\n",
       "      <td>Wichita Police Department</td>\n",
       "      <td>1.0</td>\n",
       "      <td>2.0</td>\n",
       "      <td>0.0</td>\n",
       "      <td>0.0</td>\n",
       "      <td>0.0</td>\n",
       "      <td>10.0</td>\n",
       "      <td>0.0</td>\n",
       "      <td>13.0</td>\n",
       "    </tr>\n",
       "    <tr>\n",
       "      <th>99</th>\n",
       "      <td>North Carolina</td>\n",
       "      <td>Winston-Salem</td>\n",
       "      <td>Winston-Salem Police Department</td>\n",
       "      <td>3.0</td>\n",
       "      <td>0.0</td>\n",
       "      <td>0.0</td>\n",
       "      <td>0.0</td>\n",
       "      <td>0.0</td>\n",
       "      <td>0.0</td>\n",
       "      <td>0.0</td>\n",
       "      <td>3.0</td>\n",
       "    </tr>\n",
       "  </tbody>\n",
       "</table>\n",
       "<p>100 rows × 11 columns</p>\n",
       "</div>"
      ],
      "text/plain": [
       "             State            City                                PD  \\\n",
       "0       New Mexico     Albuquerque     Albuquerque Police Department   \n",
       "1       California         Anaheim         Anaheim Police Department   \n",
       "2           Alaska       Anchorage       Anchorage Police Department   \n",
       "3            Texas       Arlington       Arlington Police Department   \n",
       "4          Georgia         Atlanta         Atlanta Police Department   \n",
       "..             ...             ...                               ...   \n",
       "95         Arizona          Tucson          Tucson Police Department   \n",
       "96        Oklahoma           Tulsa           Tulsa Police Department   \n",
       "97        Virginia  Virginia Beach  Virginia Beach Police Department   \n",
       "98          Kansas         Wichita         Wichita Police Department   \n",
       "99  North Carolina   Winston-Salem   Winston-Salem Police Department   \n",
       "\n",
       "    Black People Killed by Police (1/1/2013-12/31/2019)  \\\n",
       "0                                                 3.0     \n",
       "1                                                 3.0     \n",
       "2                                                 1.0     \n",
       "3                                                 7.0     \n",
       "4                                                13.0     \n",
       "..                                                ...     \n",
       "95                                                2.0     \n",
       "96                                                7.0     \n",
       "97                                                3.0     \n",
       "98                                                1.0     \n",
       "99                                                3.0     \n",
       "\n",
       "    Hispanic People Killed by Police (1/1/2013-12/31/2019)  \\\n",
       "0                                                18.0        \n",
       "1                                                 7.0        \n",
       "2                                                 1.0        \n",
       "3                                                 1.0        \n",
       "4                                                 0.0        \n",
       "..                                                ...        \n",
       "95                                               10.0        \n",
       "96                                                4.0        \n",
       "97                                                0.0        \n",
       "98                                                2.0        \n",
       "99                                                0.0        \n",
       "\n",
       "    Native American People Killed by Police (1/1/2013-12/31/2019)  \\\n",
       "0                                                 0.0               \n",
       "1                                                 0.0               \n",
       "2                                                 2.0               \n",
       "3                                                 0.0               \n",
       "4                                                 0.0               \n",
       "..                                                ...               \n",
       "95                                                0.0               \n",
       "96                                                0.0               \n",
       "97                                                0.0               \n",
       "98                                                0.0               \n",
       "99                                                0.0               \n",
       "\n",
       "    Asian People Killed by Police (1/1/2013-12/31/2019)  \\\n",
       "0                                                 0.0     \n",
       "1                                                 0.0     \n",
       "2                                                 0.0     \n",
       "3                                                 1.0     \n",
       "4                                                 0.0     \n",
       "..                                                ...     \n",
       "95                                                0.0     \n",
       "96                                                1.0     \n",
       "97                                                0.0     \n",
       "98                                                0.0     \n",
       "99                                                0.0     \n",
       "\n",
       "    Pacific Islanders Killed by Police (1/1/2013-12/31/2019)  \\\n",
       "0                                                 0.0          \n",
       "1                                                 0.0          \n",
       "2                                                 0.0          \n",
       "3                                                 0.0          \n",
       "4                                                 0.0          \n",
       "..                                                ...          \n",
       "95                                                0.0          \n",
       "96                                                0.0          \n",
       "97                                                0.0          \n",
       "98                                                0.0          \n",
       "99                                                0.0          \n",
       "\n",
       "    White People Killed by Police (1/1/2013-12/31/2019)  \\\n",
       "0                                                10.0     \n",
       "1                                                 3.0     \n",
       "2                                                 5.0     \n",
       "3                                                 4.0     \n",
       "4                                                 1.0     \n",
       "..                                                ...     \n",
       "95                                               10.0     \n",
       "96                                               14.0     \n",
       "97                                                2.0     \n",
       "98                                               10.0     \n",
       "99                                                0.0     \n",
       "\n",
       "    Unknown Race People Killed by Police (1/1/2013-12/31/2019)  \\\n",
       "0                                                 1.0            \n",
       "1                                                 0.0            \n",
       "2                                                 4.0            \n",
       "3                                                 1.0            \n",
       "4                                                 1.0            \n",
       "..                                                ...            \n",
       "95                                                6.0            \n",
       "96                                                1.0            \n",
       "97                                                1.0            \n",
       "98                                                0.0            \n",
       "99                                                0.0            \n",
       "\n",
       "    Total_Killed_by_Police  \n",
       "0                     32.0  \n",
       "1                     13.0  \n",
       "2                     13.0  \n",
       "3                     14.0  \n",
       "4                     15.0  \n",
       "..                     ...  \n",
       "95                    28.0  \n",
       "96                    27.0  \n",
       "97                     6.0  \n",
       "98                    13.0  \n",
       "99                     3.0  \n",
       "\n",
       "[100 rows x 11 columns]"
      ]
     },
     "execution_count": 8,
     "metadata": {},
     "output_type": "execute_result"
    }
   ],
   "source": [
    "mp['Total_Killed_by_Police']=mp.iloc[:,3:10].sum(axis=1)\n",
    "mp"
   ]
  },
  {
   "cell_type": "code",
   "execution_count": 9,
   "metadata": {},
   "outputs": [],
   "source": [
    "mp.rename(columns={'Black People Killed by Police (1/1/2013-12/31/2019)':'Black',\n",
    "                   'Hispanic People Killed by Police (1/1/2013-12/31/2019)':'Hispanic', \n",
    "                  'Native American People Killed by Police (1/1/2013-12/31/2019)':'Native',\n",
    "                  'Asian People Killed by Police (1/1/2013-12/31/2019)':'Asian', 'Pacific Islanders Killed by Police (1/1/2013-12/31/2019)':'Pacific_Islanders',\n",
    "                  'White People Killed by Police (1/1/2013-12/31/2019)':'White', 'Unknown Race People Killed by Police (1/1/2013-12/31/2019)':'Unknown'}, inplace=True)"
   ]
  },
  {
   "cell_type": "code",
   "execution_count": 10,
   "metadata": {},
   "outputs": [
    {
     "data": {
      "text/html": [
       "<div>\n",
       "<style scoped>\n",
       "    .dataframe tbody tr th:only-of-type {\n",
       "        vertical-align: middle;\n",
       "    }\n",
       "\n",
       "    .dataframe tbody tr th {\n",
       "        vertical-align: top;\n",
       "    }\n",
       "\n",
       "    .dataframe thead th {\n",
       "        text-align: right;\n",
       "    }\n",
       "</style>\n",
       "<table border=\"1\" class=\"dataframe\">\n",
       "  <thead>\n",
       "    <tr style=\"text-align: right;\">\n",
       "      <th></th>\n",
       "      <th>State</th>\n",
       "      <th>City</th>\n",
       "      <th>PD</th>\n",
       "      <th>Black</th>\n",
       "      <th>Hispanic</th>\n",
       "      <th>Native</th>\n",
       "      <th>Asian</th>\n",
       "      <th>Pacific_Islanders</th>\n",
       "      <th>White</th>\n",
       "      <th>Unknown</th>\n",
       "      <th>Total_Killed_by_Police</th>\n",
       "    </tr>\n",
       "  </thead>\n",
       "  <tbody>\n",
       "    <tr>\n",
       "      <th>0</th>\n",
       "      <td>New Mexico</td>\n",
       "      <td>Albuquerque</td>\n",
       "      <td>Albuquerque Police Department</td>\n",
       "      <td>3.0</td>\n",
       "      <td>18.0</td>\n",
       "      <td>0.0</td>\n",
       "      <td>0.0</td>\n",
       "      <td>0.0</td>\n",
       "      <td>10.0</td>\n",
       "      <td>1.0</td>\n",
       "      <td>32.0</td>\n",
       "    </tr>\n",
       "    <tr>\n",
       "      <th>1</th>\n",
       "      <td>California</td>\n",
       "      <td>Anaheim</td>\n",
       "      <td>Anaheim Police Department</td>\n",
       "      <td>3.0</td>\n",
       "      <td>7.0</td>\n",
       "      <td>0.0</td>\n",
       "      <td>0.0</td>\n",
       "      <td>0.0</td>\n",
       "      <td>3.0</td>\n",
       "      <td>0.0</td>\n",
       "      <td>13.0</td>\n",
       "    </tr>\n",
       "    <tr>\n",
       "      <th>2</th>\n",
       "      <td>Alaska</td>\n",
       "      <td>Anchorage</td>\n",
       "      <td>Anchorage Police Department</td>\n",
       "      <td>1.0</td>\n",
       "      <td>1.0</td>\n",
       "      <td>2.0</td>\n",
       "      <td>0.0</td>\n",
       "      <td>0.0</td>\n",
       "      <td>5.0</td>\n",
       "      <td>4.0</td>\n",
       "      <td>13.0</td>\n",
       "    </tr>\n",
       "    <tr>\n",
       "      <th>3</th>\n",
       "      <td>Texas</td>\n",
       "      <td>Arlington</td>\n",
       "      <td>Arlington Police Department</td>\n",
       "      <td>7.0</td>\n",
       "      <td>1.0</td>\n",
       "      <td>0.0</td>\n",
       "      <td>1.0</td>\n",
       "      <td>0.0</td>\n",
       "      <td>4.0</td>\n",
       "      <td>1.0</td>\n",
       "      <td>14.0</td>\n",
       "    </tr>\n",
       "    <tr>\n",
       "      <th>4</th>\n",
       "      <td>Georgia</td>\n",
       "      <td>Atlanta</td>\n",
       "      <td>Atlanta Police Department</td>\n",
       "      <td>13.0</td>\n",
       "      <td>0.0</td>\n",
       "      <td>0.0</td>\n",
       "      <td>0.0</td>\n",
       "      <td>0.0</td>\n",
       "      <td>1.0</td>\n",
       "      <td>1.0</td>\n",
       "      <td>15.0</td>\n",
       "    </tr>\n",
       "    <tr>\n",
       "      <th>...</th>\n",
       "      <td>...</td>\n",
       "      <td>...</td>\n",
       "      <td>...</td>\n",
       "      <td>...</td>\n",
       "      <td>...</td>\n",
       "      <td>...</td>\n",
       "      <td>...</td>\n",
       "      <td>...</td>\n",
       "      <td>...</td>\n",
       "      <td>...</td>\n",
       "      <td>...</td>\n",
       "    </tr>\n",
       "    <tr>\n",
       "      <th>95</th>\n",
       "      <td>Arizona</td>\n",
       "      <td>Tucson</td>\n",
       "      <td>Tucson Police Department</td>\n",
       "      <td>2.0</td>\n",
       "      <td>10.0</td>\n",
       "      <td>0.0</td>\n",
       "      <td>0.0</td>\n",
       "      <td>0.0</td>\n",
       "      <td>10.0</td>\n",
       "      <td>6.0</td>\n",
       "      <td>28.0</td>\n",
       "    </tr>\n",
       "    <tr>\n",
       "      <th>96</th>\n",
       "      <td>Oklahoma</td>\n",
       "      <td>Tulsa</td>\n",
       "      <td>Tulsa Police Department</td>\n",
       "      <td>7.0</td>\n",
       "      <td>4.0</td>\n",
       "      <td>0.0</td>\n",
       "      <td>1.0</td>\n",
       "      <td>0.0</td>\n",
       "      <td>14.0</td>\n",
       "      <td>1.0</td>\n",
       "      <td>27.0</td>\n",
       "    </tr>\n",
       "    <tr>\n",
       "      <th>97</th>\n",
       "      <td>Virginia</td>\n",
       "      <td>Virginia Beach</td>\n",
       "      <td>Virginia Beach Police Department</td>\n",
       "      <td>3.0</td>\n",
       "      <td>0.0</td>\n",
       "      <td>0.0</td>\n",
       "      <td>0.0</td>\n",
       "      <td>0.0</td>\n",
       "      <td>2.0</td>\n",
       "      <td>1.0</td>\n",
       "      <td>6.0</td>\n",
       "    </tr>\n",
       "    <tr>\n",
       "      <th>98</th>\n",
       "      <td>Kansas</td>\n",
       "      <td>Wichita</td>\n",
       "      <td>Wichita Police Department</td>\n",
       "      <td>1.0</td>\n",
       "      <td>2.0</td>\n",
       "      <td>0.0</td>\n",
       "      <td>0.0</td>\n",
       "      <td>0.0</td>\n",
       "      <td>10.0</td>\n",
       "      <td>0.0</td>\n",
       "      <td>13.0</td>\n",
       "    </tr>\n",
       "    <tr>\n",
       "      <th>99</th>\n",
       "      <td>North Carolina</td>\n",
       "      <td>Winston-Salem</td>\n",
       "      <td>Winston-Salem Police Department</td>\n",
       "      <td>3.0</td>\n",
       "      <td>0.0</td>\n",
       "      <td>0.0</td>\n",
       "      <td>0.0</td>\n",
       "      <td>0.0</td>\n",
       "      <td>0.0</td>\n",
       "      <td>0.0</td>\n",
       "      <td>3.0</td>\n",
       "    </tr>\n",
       "  </tbody>\n",
       "</table>\n",
       "<p>100 rows × 11 columns</p>\n",
       "</div>"
      ],
      "text/plain": [
       "             State            City                                PD  Black  \\\n",
       "0       New Mexico     Albuquerque     Albuquerque Police Department    3.0   \n",
       "1       California         Anaheim         Anaheim Police Department    3.0   \n",
       "2           Alaska       Anchorage       Anchorage Police Department    1.0   \n",
       "3            Texas       Arlington       Arlington Police Department    7.0   \n",
       "4          Georgia         Atlanta         Atlanta Police Department   13.0   \n",
       "..             ...             ...                               ...    ...   \n",
       "95         Arizona          Tucson          Tucson Police Department    2.0   \n",
       "96        Oklahoma           Tulsa           Tulsa Police Department    7.0   \n",
       "97        Virginia  Virginia Beach  Virginia Beach Police Department    3.0   \n",
       "98          Kansas         Wichita         Wichita Police Department    1.0   \n",
       "99  North Carolina   Winston-Salem   Winston-Salem Police Department    3.0   \n",
       "\n",
       "    Hispanic  Native  Asian  Pacific_Islanders  White  Unknown  \\\n",
       "0       18.0     0.0    0.0                0.0   10.0      1.0   \n",
       "1        7.0     0.0    0.0                0.0    3.0      0.0   \n",
       "2        1.0     2.0    0.0                0.0    5.0      4.0   \n",
       "3        1.0     0.0    1.0                0.0    4.0      1.0   \n",
       "4        0.0     0.0    0.0                0.0    1.0      1.0   \n",
       "..       ...     ...    ...                ...    ...      ...   \n",
       "95      10.0     0.0    0.0                0.0   10.0      6.0   \n",
       "96       4.0     0.0    1.0                0.0   14.0      1.0   \n",
       "97       0.0     0.0    0.0                0.0    2.0      1.0   \n",
       "98       2.0     0.0    0.0                0.0   10.0      0.0   \n",
       "99       0.0     0.0    0.0                0.0    0.0      0.0   \n",
       "\n",
       "    Total_Killed_by_Police  \n",
       "0                     32.0  \n",
       "1                     13.0  \n",
       "2                     13.0  \n",
       "3                     14.0  \n",
       "4                     15.0  \n",
       "..                     ...  \n",
       "95                    28.0  \n",
       "96                    27.0  \n",
       "97                     6.0  \n",
       "98                    13.0  \n",
       "99                     3.0  \n",
       "\n",
       "[100 rows x 11 columns]"
      ]
     },
     "execution_count": 10,
     "metadata": {},
     "output_type": "execute_result"
    }
   ],
   "source": [
    "mp"
   ]
  },
  {
   "cell_type": "markdown",
   "metadata": {},
   "source": [
    "__murders x State__"
   ]
  },
  {
   "cell_type": "code",
   "execution_count": 35,
   "metadata": {},
   "outputs": [],
   "source": [
    "murders_state=mp.groupby(['State'],as_index=False)[['Total_Killed_by_Police']].sum().sort_values('Total_Killed_by_Police', ascending=False)"
   ]
  },
  {
   "cell_type": "code",
   "execution_count": 36,
   "metadata": {},
   "outputs": [
    {
     "data": {
      "text/html": [
       "<div>\n",
       "<style scoped>\n",
       "    .dataframe tbody tr th:only-of-type {\n",
       "        vertical-align: middle;\n",
       "    }\n",
       "\n",
       "    .dataframe tbody tr th {\n",
       "        vertical-align: top;\n",
       "    }\n",
       "\n",
       "    .dataframe thead th {\n",
       "        text-align: right;\n",
       "    }\n",
       "</style>\n",
       "<table border=\"1\" class=\"dataframe\">\n",
       "  <thead>\n",
       "    <tr style=\"text-align: right;\">\n",
       "      <th></th>\n",
       "      <th>State</th>\n",
       "      <th>Total_Killed_by_Police</th>\n",
       "    </tr>\n",
       "  </thead>\n",
       "  <tbody>\n",
       "    <tr>\n",
       "      <th>3</th>\n",
       "      <td>California</td>\n",
       "      <td>361.0</td>\n",
       "    </tr>\n",
       "    <tr>\n",
       "      <th>31</th>\n",
       "      <td>Texas</td>\n",
       "      <td>282.0</td>\n",
       "    </tr>\n",
       "    <tr>\n",
       "      <th>2</th>\n",
       "      <td>Arizona</td>\n",
       "      <td>187.0</td>\n",
       "    </tr>\n",
       "    <tr>\n",
       "      <th>6</th>\n",
       "      <td>Florida</td>\n",
       "      <td>91.0</td>\n",
       "    </tr>\n",
       "    <tr>\n",
       "      <th>21</th>\n",
       "      <td>Nevada</td>\n",
       "      <td>87.0</td>\n",
       "    </tr>\n",
       "    <tr>\n",
       "      <th>24</th>\n",
       "      <td>New York</td>\n",
       "      <td>82.0</td>\n",
       "    </tr>\n",
       "    <tr>\n",
       "      <th>9</th>\n",
       "      <td>Illinois</td>\n",
       "      <td>76.0</td>\n",
       "    </tr>\n",
       "    <tr>\n",
       "      <th>27</th>\n",
       "      <td>Oklahoma</td>\n",
       "      <td>75.0</td>\n",
       "    </tr>\n",
       "    <tr>\n",
       "      <th>26</th>\n",
       "      <td>Ohio</td>\n",
       "      <td>69.0</td>\n",
       "    </tr>\n",
       "    <tr>\n",
       "      <th>19</th>\n",
       "      <td>Missouri</td>\n",
       "      <td>68.0</td>\n",
       "    </tr>\n",
       "  </tbody>\n",
       "</table>\n",
       "</div>"
      ],
      "text/plain": [
       "         State  Total_Killed_by_Police\n",
       "3   California                   361.0\n",
       "31       Texas                   282.0\n",
       "2      Arizona                   187.0\n",
       "6      Florida                    91.0\n",
       "21      Nevada                    87.0\n",
       "24    New York                    82.0\n",
       "9     Illinois                    76.0\n",
       "27    Oklahoma                    75.0\n",
       "26        Ohio                    69.0\n",
       "19    Missouri                    68.0"
      ]
     },
     "execution_count": 36,
     "metadata": {},
     "output_type": "execute_result"
    }
   ],
   "source": [
    "murders_state.head(10)"
   ]
  },
  {
   "cell_type": "code",
   "execution_count": 60,
   "metadata": {},
   "outputs": [
    {
     "data": {
      "application/vnd.plotly.v1+json": {
       "config": {
        "plotlyServerURL": "https://plot.ly"
       },
       "data": [
        {
         "alignmentgroup": "True",
         "hovertemplate": "State=%{x}<br>Total_Killed_by_Police=%{y}<extra></extra>",
         "legendgroup": "",
         "marker": {
          "color": "#636efa"
         },
         "name": "",
         "offsetgroup": "",
         "orientation": "v",
         "showlegend": false,
         "textposition": "auto",
         "type": "bar",
         "x": [
          "California",
          "Texas",
          "Arizona",
          "Florida",
          "Nevada",
          "New York",
          "Illinois",
          "Oklahoma",
          "Ohio",
          "Missouri",
          "Colorado",
          "Pennsylvania",
          "Washington",
          "North Carolina",
          "Indiana",
          "Tennessee",
          "New Mexico",
          "Maryland",
          "Kentucky",
          "Wisconsin",
          "Louisiana",
          "Hawaii",
          "Virginia",
          "New Jersey",
          "District of Columbia",
          "Nebraska",
          "Oregon",
          "Georgia",
          "Minnesota",
          "Alaska",
          "Kansas",
          "Michigan",
          "Massachusetts",
          "Minneapolis",
          "Alabama"
         ],
         "xaxis": "x",
         "y": [
          361,
          282,
          187,
          91,
          87,
          82,
          76,
          75,
          69,
          68,
          67,
          40,
          38,
          38,
          35,
          35,
          32,
          31,
          25,
          24,
          22,
          20,
          19,
          19,
          19,
          18,
          18,
          15,
          13,
          13,
          13,
          13,
          12,
          8,
          7
         ],
         "yaxis": "y"
        }
       ],
       "layout": {
        "barmode": "relative",
        "height": 500,
        "legend": {
         "tracegroupgap": 0
        },
        "template": {
         "data": {
          "bar": [
           {
            "error_x": {
             "color": "#2a3f5f"
            },
            "error_y": {
             "color": "#2a3f5f"
            },
            "marker": {
             "line": {
              "color": "#E5ECF6",
              "width": 0.5
             }
            },
            "type": "bar"
           }
          ],
          "barpolar": [
           {
            "marker": {
             "line": {
              "color": "#E5ECF6",
              "width": 0.5
             }
            },
            "type": "barpolar"
           }
          ],
          "carpet": [
           {
            "aaxis": {
             "endlinecolor": "#2a3f5f",
             "gridcolor": "white",
             "linecolor": "white",
             "minorgridcolor": "white",
             "startlinecolor": "#2a3f5f"
            },
            "baxis": {
             "endlinecolor": "#2a3f5f",
             "gridcolor": "white",
             "linecolor": "white",
             "minorgridcolor": "white",
             "startlinecolor": "#2a3f5f"
            },
            "type": "carpet"
           }
          ],
          "choropleth": [
           {
            "colorbar": {
             "outlinewidth": 0,
             "ticks": ""
            },
            "type": "choropleth"
           }
          ],
          "contour": [
           {
            "colorbar": {
             "outlinewidth": 0,
             "ticks": ""
            },
            "colorscale": [
             [
              0,
              "#0d0887"
             ],
             [
              0.1111111111111111,
              "#46039f"
             ],
             [
              0.2222222222222222,
              "#7201a8"
             ],
             [
              0.3333333333333333,
              "#9c179e"
             ],
             [
              0.4444444444444444,
              "#bd3786"
             ],
             [
              0.5555555555555556,
              "#d8576b"
             ],
             [
              0.6666666666666666,
              "#ed7953"
             ],
             [
              0.7777777777777778,
              "#fb9f3a"
             ],
             [
              0.8888888888888888,
              "#fdca26"
             ],
             [
              1,
              "#f0f921"
             ]
            ],
            "type": "contour"
           }
          ],
          "contourcarpet": [
           {
            "colorbar": {
             "outlinewidth": 0,
             "ticks": ""
            },
            "type": "contourcarpet"
           }
          ],
          "heatmap": [
           {
            "colorbar": {
             "outlinewidth": 0,
             "ticks": ""
            },
            "colorscale": [
             [
              0,
              "#0d0887"
             ],
             [
              0.1111111111111111,
              "#46039f"
             ],
             [
              0.2222222222222222,
              "#7201a8"
             ],
             [
              0.3333333333333333,
              "#9c179e"
             ],
             [
              0.4444444444444444,
              "#bd3786"
             ],
             [
              0.5555555555555556,
              "#d8576b"
             ],
             [
              0.6666666666666666,
              "#ed7953"
             ],
             [
              0.7777777777777778,
              "#fb9f3a"
             ],
             [
              0.8888888888888888,
              "#fdca26"
             ],
             [
              1,
              "#f0f921"
             ]
            ],
            "type": "heatmap"
           }
          ],
          "heatmapgl": [
           {
            "colorbar": {
             "outlinewidth": 0,
             "ticks": ""
            },
            "colorscale": [
             [
              0,
              "#0d0887"
             ],
             [
              0.1111111111111111,
              "#46039f"
             ],
             [
              0.2222222222222222,
              "#7201a8"
             ],
             [
              0.3333333333333333,
              "#9c179e"
             ],
             [
              0.4444444444444444,
              "#bd3786"
             ],
             [
              0.5555555555555556,
              "#d8576b"
             ],
             [
              0.6666666666666666,
              "#ed7953"
             ],
             [
              0.7777777777777778,
              "#fb9f3a"
             ],
             [
              0.8888888888888888,
              "#fdca26"
             ],
             [
              1,
              "#f0f921"
             ]
            ],
            "type": "heatmapgl"
           }
          ],
          "histogram": [
           {
            "marker": {
             "colorbar": {
              "outlinewidth": 0,
              "ticks": ""
             }
            },
            "type": "histogram"
           }
          ],
          "histogram2d": [
           {
            "colorbar": {
             "outlinewidth": 0,
             "ticks": ""
            },
            "colorscale": [
             [
              0,
              "#0d0887"
             ],
             [
              0.1111111111111111,
              "#46039f"
             ],
             [
              0.2222222222222222,
              "#7201a8"
             ],
             [
              0.3333333333333333,
              "#9c179e"
             ],
             [
              0.4444444444444444,
              "#bd3786"
             ],
             [
              0.5555555555555556,
              "#d8576b"
             ],
             [
              0.6666666666666666,
              "#ed7953"
             ],
             [
              0.7777777777777778,
              "#fb9f3a"
             ],
             [
              0.8888888888888888,
              "#fdca26"
             ],
             [
              1,
              "#f0f921"
             ]
            ],
            "type": "histogram2d"
           }
          ],
          "histogram2dcontour": [
           {
            "colorbar": {
             "outlinewidth": 0,
             "ticks": ""
            },
            "colorscale": [
             [
              0,
              "#0d0887"
             ],
             [
              0.1111111111111111,
              "#46039f"
             ],
             [
              0.2222222222222222,
              "#7201a8"
             ],
             [
              0.3333333333333333,
              "#9c179e"
             ],
             [
              0.4444444444444444,
              "#bd3786"
             ],
             [
              0.5555555555555556,
              "#d8576b"
             ],
             [
              0.6666666666666666,
              "#ed7953"
             ],
             [
              0.7777777777777778,
              "#fb9f3a"
             ],
             [
              0.8888888888888888,
              "#fdca26"
             ],
             [
              1,
              "#f0f921"
             ]
            ],
            "type": "histogram2dcontour"
           }
          ],
          "mesh3d": [
           {
            "colorbar": {
             "outlinewidth": 0,
             "ticks": ""
            },
            "type": "mesh3d"
           }
          ],
          "parcoords": [
           {
            "line": {
             "colorbar": {
              "outlinewidth": 0,
              "ticks": ""
             }
            },
            "type": "parcoords"
           }
          ],
          "pie": [
           {
            "automargin": true,
            "type": "pie"
           }
          ],
          "scatter": [
           {
            "marker": {
             "colorbar": {
              "outlinewidth": 0,
              "ticks": ""
             }
            },
            "type": "scatter"
           }
          ],
          "scatter3d": [
           {
            "line": {
             "colorbar": {
              "outlinewidth": 0,
              "ticks": ""
             }
            },
            "marker": {
             "colorbar": {
              "outlinewidth": 0,
              "ticks": ""
             }
            },
            "type": "scatter3d"
           }
          ],
          "scattercarpet": [
           {
            "marker": {
             "colorbar": {
              "outlinewidth": 0,
              "ticks": ""
             }
            },
            "type": "scattercarpet"
           }
          ],
          "scattergeo": [
           {
            "marker": {
             "colorbar": {
              "outlinewidth": 0,
              "ticks": ""
             }
            },
            "type": "scattergeo"
           }
          ],
          "scattergl": [
           {
            "marker": {
             "colorbar": {
              "outlinewidth": 0,
              "ticks": ""
             }
            },
            "type": "scattergl"
           }
          ],
          "scattermapbox": [
           {
            "marker": {
             "colorbar": {
              "outlinewidth": 0,
              "ticks": ""
             }
            },
            "type": "scattermapbox"
           }
          ],
          "scatterpolar": [
           {
            "marker": {
             "colorbar": {
              "outlinewidth": 0,
              "ticks": ""
             }
            },
            "type": "scatterpolar"
           }
          ],
          "scatterpolargl": [
           {
            "marker": {
             "colorbar": {
              "outlinewidth": 0,
              "ticks": ""
             }
            },
            "type": "scatterpolargl"
           }
          ],
          "scatterternary": [
           {
            "marker": {
             "colorbar": {
              "outlinewidth": 0,
              "ticks": ""
             }
            },
            "type": "scatterternary"
           }
          ],
          "surface": [
           {
            "colorbar": {
             "outlinewidth": 0,
             "ticks": ""
            },
            "colorscale": [
             [
              0,
              "#0d0887"
             ],
             [
              0.1111111111111111,
              "#46039f"
             ],
             [
              0.2222222222222222,
              "#7201a8"
             ],
             [
              0.3333333333333333,
              "#9c179e"
             ],
             [
              0.4444444444444444,
              "#bd3786"
             ],
             [
              0.5555555555555556,
              "#d8576b"
             ],
             [
              0.6666666666666666,
              "#ed7953"
             ],
             [
              0.7777777777777778,
              "#fb9f3a"
             ],
             [
              0.8888888888888888,
              "#fdca26"
             ],
             [
              1,
              "#f0f921"
             ]
            ],
            "type": "surface"
           }
          ],
          "table": [
           {
            "cells": {
             "fill": {
              "color": "#EBF0F8"
             },
             "line": {
              "color": "white"
             }
            },
            "header": {
             "fill": {
              "color": "#C8D4E3"
             },
             "line": {
              "color": "white"
             }
            },
            "type": "table"
           }
          ]
         },
         "layout": {
          "annotationdefaults": {
           "arrowcolor": "#2a3f5f",
           "arrowhead": 0,
           "arrowwidth": 1
          },
          "coloraxis": {
           "colorbar": {
            "outlinewidth": 0,
            "ticks": ""
           }
          },
          "colorscale": {
           "diverging": [
            [
             0,
             "#8e0152"
            ],
            [
             0.1,
             "#c51b7d"
            ],
            [
             0.2,
             "#de77ae"
            ],
            [
             0.3,
             "#f1b6da"
            ],
            [
             0.4,
             "#fde0ef"
            ],
            [
             0.5,
             "#f7f7f7"
            ],
            [
             0.6,
             "#e6f5d0"
            ],
            [
             0.7,
             "#b8e186"
            ],
            [
             0.8,
             "#7fbc41"
            ],
            [
             0.9,
             "#4d9221"
            ],
            [
             1,
             "#276419"
            ]
           ],
           "sequential": [
            [
             0,
             "#0d0887"
            ],
            [
             0.1111111111111111,
             "#46039f"
            ],
            [
             0.2222222222222222,
             "#7201a8"
            ],
            [
             0.3333333333333333,
             "#9c179e"
            ],
            [
             0.4444444444444444,
             "#bd3786"
            ],
            [
             0.5555555555555556,
             "#d8576b"
            ],
            [
             0.6666666666666666,
             "#ed7953"
            ],
            [
             0.7777777777777778,
             "#fb9f3a"
            ],
            [
             0.8888888888888888,
             "#fdca26"
            ],
            [
             1,
             "#f0f921"
            ]
           ],
           "sequentialminus": [
            [
             0,
             "#0d0887"
            ],
            [
             0.1111111111111111,
             "#46039f"
            ],
            [
             0.2222222222222222,
             "#7201a8"
            ],
            [
             0.3333333333333333,
             "#9c179e"
            ],
            [
             0.4444444444444444,
             "#bd3786"
            ],
            [
             0.5555555555555556,
             "#d8576b"
            ],
            [
             0.6666666666666666,
             "#ed7953"
            ],
            [
             0.7777777777777778,
             "#fb9f3a"
            ],
            [
             0.8888888888888888,
             "#fdca26"
            ],
            [
             1,
             "#f0f921"
            ]
           ]
          },
          "colorway": [
           "#636efa",
           "#EF553B",
           "#00cc96",
           "#ab63fa",
           "#FFA15A",
           "#19d3f3",
           "#FF6692",
           "#B6E880",
           "#FF97FF",
           "#FECB52"
          ],
          "font": {
           "color": "#2a3f5f"
          },
          "geo": {
           "bgcolor": "white",
           "lakecolor": "white",
           "landcolor": "#E5ECF6",
           "showlakes": true,
           "showland": true,
           "subunitcolor": "white"
          },
          "hoverlabel": {
           "align": "left"
          },
          "hovermode": "closest",
          "mapbox": {
           "style": "light"
          },
          "paper_bgcolor": "white",
          "plot_bgcolor": "#E5ECF6",
          "polar": {
           "angularaxis": {
            "gridcolor": "white",
            "linecolor": "white",
            "ticks": ""
           },
           "bgcolor": "#E5ECF6",
           "radialaxis": {
            "gridcolor": "white",
            "linecolor": "white",
            "ticks": ""
           }
          },
          "scene": {
           "xaxis": {
            "backgroundcolor": "#E5ECF6",
            "gridcolor": "white",
            "gridwidth": 2,
            "linecolor": "white",
            "showbackground": true,
            "ticks": "",
            "zerolinecolor": "white"
           },
           "yaxis": {
            "backgroundcolor": "#E5ECF6",
            "gridcolor": "white",
            "gridwidth": 2,
            "linecolor": "white",
            "showbackground": true,
            "ticks": "",
            "zerolinecolor": "white"
           },
           "zaxis": {
            "backgroundcolor": "#E5ECF6",
            "gridcolor": "white",
            "gridwidth": 2,
            "linecolor": "white",
            "showbackground": true,
            "ticks": "",
            "zerolinecolor": "white"
           }
          },
          "shapedefaults": {
           "line": {
            "color": "#2a3f5f"
           }
          },
          "ternary": {
           "aaxis": {
            "gridcolor": "white",
            "linecolor": "white",
            "ticks": ""
           },
           "baxis": {
            "gridcolor": "white",
            "linecolor": "white",
            "ticks": ""
           },
           "bgcolor": "#E5ECF6",
           "caxis": {
            "gridcolor": "white",
            "linecolor": "white",
            "ticks": ""
           }
          },
          "title": {
           "x": 0.05
          },
          "xaxis": {
           "automargin": true,
           "gridcolor": "white",
           "linecolor": "white",
           "ticks": "",
           "title": {
            "standoff": 15
           },
           "zerolinecolor": "white",
           "zerolinewidth": 2
          },
          "yaxis": {
           "automargin": true,
           "gridcolor": "white",
           "linecolor": "white",
           "ticks": "",
           "title": {
            "standoff": 15
           },
           "zerolinecolor": "white",
           "zerolinewidth": 2
          }
         }
        },
        "title": {
         "text": "State x Total killed by Police"
        },
        "xaxis": {
         "anchor": "y",
         "domain": [
          0,
          1
         ],
         "title": {
          "text": ""
         }
        },
        "yaxis": {
         "anchor": "x",
         "domain": [
          0,
          1
         ],
         "title": {
          "text": "Total killed by Police"
         }
        }
       }
      },
      "text/html": [
       "<div>\n",
       "        \n",
       "        \n",
       "            <div id=\"f2b46f4d-5540-41e2-9a0c-8034f35e0820\" class=\"plotly-graph-div\" style=\"height:500px; width:100%;\"></div>\n",
       "            <script type=\"text/javascript\">\n",
       "                require([\"plotly\"], function(Plotly) {\n",
       "                    window.PLOTLYENV=window.PLOTLYENV || {};\n",
       "                    \n",
       "                if (document.getElementById(\"f2b46f4d-5540-41e2-9a0c-8034f35e0820\")) {\n",
       "                    Plotly.newPlot(\n",
       "                        'f2b46f4d-5540-41e2-9a0c-8034f35e0820',\n",
       "                        [{\"alignmentgroup\": \"True\", \"hovertemplate\": \"State=%{x}<br>Total_Killed_by_Police=%{y}<extra></extra>\", \"legendgroup\": \"\", \"marker\": {\"color\": \"#636efa\"}, \"name\": \"\", \"offsetgroup\": \"\", \"orientation\": \"v\", \"showlegend\": false, \"textposition\": \"auto\", \"type\": \"bar\", \"x\": [\"California\", \"Texas\", \"Arizona\", \"Florida\", \"Nevada\", \"New York\", \"Illinois\", \"Oklahoma\", \"Ohio\", \"Missouri\", \"Colorado\", \"Pennsylvania\", \"Washington\", \"North Carolina\", \"Indiana\", \"Tennessee\", \"New Mexico\", \"Maryland\", \"Kentucky\", \"Wisconsin\", \"Louisiana\", \"Hawaii\", \"Virginia\", \"New Jersey\", \"District of Columbia\", \"Nebraska\", \"Oregon\", \"Georgia\", \"Minnesota\", \"Alaska\", \"Kansas\", \"Michigan\", \"Massachusetts\", \"Minneapolis\", \"Alabama\"], \"xaxis\": \"x\", \"y\": [361.0, 282.0, 187.0, 91.0, 87.0, 82.0, 76.0, 75.0, 69.0, 68.0, 67.0, 40.0, 38.0, 38.0, 35.0, 35.0, 32.0, 31.0, 25.0, 24.0, 22.0, 20.0, 19.0, 19.0, 19.0, 18.0, 18.0, 15.0, 13.0, 13.0, 13.0, 13.0, 12.0, 8.0, 7.0], \"yaxis\": \"y\"}],\n",
       "                        {\"barmode\": \"relative\", \"height\": 500, \"legend\": {\"tracegroupgap\": 0}, \"template\": {\"data\": {\"bar\": [{\"error_x\": {\"color\": \"#2a3f5f\"}, \"error_y\": {\"color\": \"#2a3f5f\"}, \"marker\": {\"line\": {\"color\": \"#E5ECF6\", \"width\": 0.5}}, \"type\": \"bar\"}], \"barpolar\": [{\"marker\": {\"line\": {\"color\": \"#E5ECF6\", \"width\": 0.5}}, \"type\": \"barpolar\"}], \"carpet\": [{\"aaxis\": {\"endlinecolor\": \"#2a3f5f\", \"gridcolor\": \"white\", \"linecolor\": \"white\", \"minorgridcolor\": \"white\", \"startlinecolor\": \"#2a3f5f\"}, \"baxis\": {\"endlinecolor\": \"#2a3f5f\", \"gridcolor\": \"white\", \"linecolor\": \"white\", \"minorgridcolor\": \"white\", \"startlinecolor\": \"#2a3f5f\"}, \"type\": \"carpet\"}], \"choropleth\": [{\"colorbar\": {\"outlinewidth\": 0, \"ticks\": \"\"}, \"type\": \"choropleth\"}], \"contour\": [{\"colorbar\": {\"outlinewidth\": 0, \"ticks\": \"\"}, \"colorscale\": [[0.0, \"#0d0887\"], [0.1111111111111111, \"#46039f\"], [0.2222222222222222, \"#7201a8\"], [0.3333333333333333, \"#9c179e\"], [0.4444444444444444, \"#bd3786\"], [0.5555555555555556, \"#d8576b\"], [0.6666666666666666, \"#ed7953\"], [0.7777777777777778, \"#fb9f3a\"], [0.8888888888888888, \"#fdca26\"], [1.0, \"#f0f921\"]], \"type\": \"contour\"}], \"contourcarpet\": [{\"colorbar\": {\"outlinewidth\": 0, \"ticks\": \"\"}, \"type\": \"contourcarpet\"}], \"heatmap\": [{\"colorbar\": {\"outlinewidth\": 0, \"ticks\": \"\"}, \"colorscale\": [[0.0, \"#0d0887\"], [0.1111111111111111, \"#46039f\"], [0.2222222222222222, \"#7201a8\"], [0.3333333333333333, \"#9c179e\"], [0.4444444444444444, \"#bd3786\"], [0.5555555555555556, \"#d8576b\"], [0.6666666666666666, \"#ed7953\"], [0.7777777777777778, \"#fb9f3a\"], [0.8888888888888888, \"#fdca26\"], [1.0, \"#f0f921\"]], \"type\": \"heatmap\"}], \"heatmapgl\": [{\"colorbar\": {\"outlinewidth\": 0, \"ticks\": \"\"}, \"colorscale\": [[0.0, \"#0d0887\"], [0.1111111111111111, \"#46039f\"], [0.2222222222222222, \"#7201a8\"], [0.3333333333333333, \"#9c179e\"], [0.4444444444444444, \"#bd3786\"], [0.5555555555555556, \"#d8576b\"], [0.6666666666666666, \"#ed7953\"], [0.7777777777777778, \"#fb9f3a\"], [0.8888888888888888, \"#fdca26\"], [1.0, \"#f0f921\"]], \"type\": \"heatmapgl\"}], \"histogram\": [{\"marker\": {\"colorbar\": {\"outlinewidth\": 0, \"ticks\": \"\"}}, \"type\": \"histogram\"}], \"histogram2d\": [{\"colorbar\": {\"outlinewidth\": 0, \"ticks\": \"\"}, \"colorscale\": [[0.0, \"#0d0887\"], [0.1111111111111111, \"#46039f\"], [0.2222222222222222, \"#7201a8\"], [0.3333333333333333, \"#9c179e\"], [0.4444444444444444, \"#bd3786\"], [0.5555555555555556, \"#d8576b\"], [0.6666666666666666, \"#ed7953\"], [0.7777777777777778, \"#fb9f3a\"], [0.8888888888888888, \"#fdca26\"], [1.0, \"#f0f921\"]], \"type\": \"histogram2d\"}], \"histogram2dcontour\": [{\"colorbar\": {\"outlinewidth\": 0, \"ticks\": \"\"}, \"colorscale\": [[0.0, \"#0d0887\"], [0.1111111111111111, \"#46039f\"], [0.2222222222222222, \"#7201a8\"], [0.3333333333333333, \"#9c179e\"], [0.4444444444444444, \"#bd3786\"], [0.5555555555555556, \"#d8576b\"], [0.6666666666666666, \"#ed7953\"], [0.7777777777777778, \"#fb9f3a\"], [0.8888888888888888, \"#fdca26\"], [1.0, \"#f0f921\"]], \"type\": \"histogram2dcontour\"}], \"mesh3d\": [{\"colorbar\": {\"outlinewidth\": 0, \"ticks\": \"\"}, \"type\": \"mesh3d\"}], \"parcoords\": [{\"line\": {\"colorbar\": {\"outlinewidth\": 0, \"ticks\": \"\"}}, \"type\": \"parcoords\"}], \"pie\": [{\"automargin\": true, \"type\": \"pie\"}], \"scatter\": [{\"marker\": {\"colorbar\": {\"outlinewidth\": 0, \"ticks\": \"\"}}, \"type\": \"scatter\"}], \"scatter3d\": [{\"line\": {\"colorbar\": {\"outlinewidth\": 0, \"ticks\": \"\"}}, \"marker\": {\"colorbar\": {\"outlinewidth\": 0, \"ticks\": \"\"}}, \"type\": \"scatter3d\"}], \"scattercarpet\": [{\"marker\": {\"colorbar\": {\"outlinewidth\": 0, \"ticks\": \"\"}}, \"type\": \"scattercarpet\"}], \"scattergeo\": [{\"marker\": {\"colorbar\": {\"outlinewidth\": 0, \"ticks\": \"\"}}, \"type\": \"scattergeo\"}], \"scattergl\": [{\"marker\": {\"colorbar\": {\"outlinewidth\": 0, \"ticks\": \"\"}}, \"type\": \"scattergl\"}], \"scattermapbox\": [{\"marker\": {\"colorbar\": {\"outlinewidth\": 0, \"ticks\": \"\"}}, \"type\": \"scattermapbox\"}], \"scatterpolar\": [{\"marker\": {\"colorbar\": {\"outlinewidth\": 0, \"ticks\": \"\"}}, \"type\": \"scatterpolar\"}], \"scatterpolargl\": [{\"marker\": {\"colorbar\": {\"outlinewidth\": 0, \"ticks\": \"\"}}, \"type\": \"scatterpolargl\"}], \"scatterternary\": [{\"marker\": {\"colorbar\": {\"outlinewidth\": 0, \"ticks\": \"\"}}, \"type\": \"scatterternary\"}], \"surface\": [{\"colorbar\": {\"outlinewidth\": 0, \"ticks\": \"\"}, \"colorscale\": [[0.0, \"#0d0887\"], [0.1111111111111111, \"#46039f\"], [0.2222222222222222, \"#7201a8\"], [0.3333333333333333, \"#9c179e\"], [0.4444444444444444, \"#bd3786\"], [0.5555555555555556, \"#d8576b\"], [0.6666666666666666, \"#ed7953\"], [0.7777777777777778, \"#fb9f3a\"], [0.8888888888888888, \"#fdca26\"], [1.0, \"#f0f921\"]], \"type\": \"surface\"}], \"table\": [{\"cells\": {\"fill\": {\"color\": \"#EBF0F8\"}, \"line\": {\"color\": \"white\"}}, \"header\": {\"fill\": {\"color\": \"#C8D4E3\"}, \"line\": {\"color\": \"white\"}}, \"type\": \"table\"}]}, \"layout\": {\"annotationdefaults\": {\"arrowcolor\": \"#2a3f5f\", \"arrowhead\": 0, \"arrowwidth\": 1}, \"coloraxis\": {\"colorbar\": {\"outlinewidth\": 0, \"ticks\": \"\"}}, \"colorscale\": {\"diverging\": [[0, \"#8e0152\"], [0.1, \"#c51b7d\"], [0.2, \"#de77ae\"], [0.3, \"#f1b6da\"], [0.4, \"#fde0ef\"], [0.5, \"#f7f7f7\"], [0.6, \"#e6f5d0\"], [0.7, \"#b8e186\"], [0.8, \"#7fbc41\"], [0.9, \"#4d9221\"], [1, \"#276419\"]], \"sequential\": [[0.0, \"#0d0887\"], [0.1111111111111111, \"#46039f\"], [0.2222222222222222, \"#7201a8\"], [0.3333333333333333, \"#9c179e\"], [0.4444444444444444, \"#bd3786\"], [0.5555555555555556, \"#d8576b\"], [0.6666666666666666, \"#ed7953\"], [0.7777777777777778, \"#fb9f3a\"], [0.8888888888888888, \"#fdca26\"], [1.0, \"#f0f921\"]], \"sequentialminus\": [[0.0, \"#0d0887\"], [0.1111111111111111, \"#46039f\"], [0.2222222222222222, \"#7201a8\"], [0.3333333333333333, \"#9c179e\"], [0.4444444444444444, \"#bd3786\"], [0.5555555555555556, \"#d8576b\"], [0.6666666666666666, \"#ed7953\"], [0.7777777777777778, \"#fb9f3a\"], [0.8888888888888888, \"#fdca26\"], [1.0, \"#f0f921\"]]}, \"colorway\": [\"#636efa\", \"#EF553B\", \"#00cc96\", \"#ab63fa\", \"#FFA15A\", \"#19d3f3\", \"#FF6692\", \"#B6E880\", \"#FF97FF\", \"#FECB52\"], \"font\": {\"color\": \"#2a3f5f\"}, \"geo\": {\"bgcolor\": \"white\", \"lakecolor\": \"white\", \"landcolor\": \"#E5ECF6\", \"showlakes\": true, \"showland\": true, \"subunitcolor\": \"white\"}, \"hoverlabel\": {\"align\": \"left\"}, \"hovermode\": \"closest\", \"mapbox\": {\"style\": \"light\"}, \"paper_bgcolor\": \"white\", \"plot_bgcolor\": \"#E5ECF6\", \"polar\": {\"angularaxis\": {\"gridcolor\": \"white\", \"linecolor\": \"white\", \"ticks\": \"\"}, \"bgcolor\": \"#E5ECF6\", \"radialaxis\": {\"gridcolor\": \"white\", \"linecolor\": \"white\", \"ticks\": \"\"}}, \"scene\": {\"xaxis\": {\"backgroundcolor\": \"#E5ECF6\", \"gridcolor\": \"white\", \"gridwidth\": 2, \"linecolor\": \"white\", \"showbackground\": true, \"ticks\": \"\", \"zerolinecolor\": \"white\"}, \"yaxis\": {\"backgroundcolor\": \"#E5ECF6\", \"gridcolor\": \"white\", \"gridwidth\": 2, \"linecolor\": \"white\", \"showbackground\": true, \"ticks\": \"\", \"zerolinecolor\": \"white\"}, \"zaxis\": {\"backgroundcolor\": \"#E5ECF6\", \"gridcolor\": \"white\", \"gridwidth\": 2, \"linecolor\": \"white\", \"showbackground\": true, \"ticks\": \"\", \"zerolinecolor\": \"white\"}}, \"shapedefaults\": {\"line\": {\"color\": \"#2a3f5f\"}}, \"ternary\": {\"aaxis\": {\"gridcolor\": \"white\", \"linecolor\": \"white\", \"ticks\": \"\"}, \"baxis\": {\"gridcolor\": \"white\", \"linecolor\": \"white\", \"ticks\": \"\"}, \"bgcolor\": \"#E5ECF6\", \"caxis\": {\"gridcolor\": \"white\", \"linecolor\": \"white\", \"ticks\": \"\"}}, \"title\": {\"x\": 0.05}, \"xaxis\": {\"automargin\": true, \"gridcolor\": \"white\", \"linecolor\": \"white\", \"ticks\": \"\", \"title\": {\"standoff\": 15}, \"zerolinecolor\": \"white\", \"zerolinewidth\": 2}, \"yaxis\": {\"automargin\": true, \"gridcolor\": \"white\", \"linecolor\": \"white\", \"ticks\": \"\", \"title\": {\"standoff\": 15}, \"zerolinecolor\": \"white\", \"zerolinewidth\": 2}}}, \"title\": {\"text\": \"State x Total killed by Police\"}, \"xaxis\": {\"anchor\": \"y\", \"domain\": [0.0, 1.0], \"title\": {\"text\": \"\"}}, \"yaxis\": {\"anchor\": \"x\", \"domain\": [0.0, 1.0], \"title\": {\"text\": \"Total killed by Police\"}}},\n",
       "                        {\"responsive\": true}\n",
       "                    ).then(function(){\n",
       "                            \n",
       "var gd = document.getElementById('f2b46f4d-5540-41e2-9a0c-8034f35e0820');\n",
       "var x = new MutationObserver(function (mutations, observer) {{\n",
       "        var display = window.getComputedStyle(gd).display;\n",
       "        if (!display || display === 'none') {{\n",
       "            console.log([gd, 'removed!']);\n",
       "            Plotly.purge(gd);\n",
       "            observer.disconnect();\n",
       "        }}\n",
       "}});\n",
       "\n",
       "// Listen for the removal of the full notebook cells\n",
       "var notebookContainer = gd.closest('#notebook-container');\n",
       "if (notebookContainer) {{\n",
       "    x.observe(notebookContainer, {childList: true});\n",
       "}}\n",
       "\n",
       "// Listen for the clearing of the current output cell\n",
       "var outputEl = gd.closest('.output');\n",
       "if (outputEl) {{\n",
       "    x.observe(outputEl, {childList: true});\n",
       "}}\n",
       "\n",
       "                        })\n",
       "                };\n",
       "                });\n",
       "            </script>\n",
       "        </div>"
      ]
     },
     "metadata": {},
     "output_type": "display_data"
    }
   ],
   "source": [
    "fig = px.bar(murders_state, x='State', y='Total_Killed_by_Police', title='State x Total killed by Police',height=500)\n",
    "fig.update_layout(yaxis=dict(title='Total killed by Police'), xaxis=dict(title=''))\n",
    "fig.show()"
   ]
  },
  {
   "cell_type": "markdown",
   "metadata": {},
   "source": [
    "__murder_races x PD__"
   ]
  },
  {
   "cell_type": "code",
   "execution_count": 13,
   "metadata": {},
   "outputs": [
    {
     "data": {
      "text/html": [
       "<div>\n",
       "<style scoped>\n",
       "    .dataframe tbody tr th:only-of-type {\n",
       "        vertical-align: middle;\n",
       "    }\n",
       "\n",
       "    .dataframe tbody tr th {\n",
       "        vertical-align: top;\n",
       "    }\n",
       "\n",
       "    .dataframe thead th {\n",
       "        text-align: right;\n",
       "    }\n",
       "</style>\n",
       "<table border=\"1\" class=\"dataframe\">\n",
       "  <thead>\n",
       "    <tr style=\"text-align: right;\">\n",
       "      <th></th>\n",
       "      <th>Black</th>\n",
       "      <th>Hispanic</th>\n",
       "      <th>Native</th>\n",
       "      <th>Asian</th>\n",
       "      <th>Pacific_Islanders</th>\n",
       "      <th>White</th>\n",
       "      <th>Unknown</th>\n",
       "      <th>Total_Killed_by_Police</th>\n",
       "    </tr>\n",
       "    <tr>\n",
       "      <th>PD</th>\n",
       "      <th></th>\n",
       "      <th></th>\n",
       "      <th></th>\n",
       "      <th></th>\n",
       "      <th></th>\n",
       "      <th></th>\n",
       "      <th></th>\n",
       "      <th></th>\n",
       "    </tr>\n",
       "  </thead>\n",
       "  <tbody>\n",
       "    <tr>\n",
       "      <th>Chicago Police Department</th>\n",
       "      <td>56.0</td>\n",
       "      <td>13.0</td>\n",
       "      <td>0.0</td>\n",
       "      <td>0.0</td>\n",
       "      <td>0.0</td>\n",
       "      <td>2.0</td>\n",
       "      <td>5.0</td>\n",
       "      <td>76.0</td>\n",
       "    </tr>\n",
       "    <tr>\n",
       "      <th>New York Police Department</th>\n",
       "      <td>48.0</td>\n",
       "      <td>10.0</td>\n",
       "      <td>0.0</td>\n",
       "      <td>0.0</td>\n",
       "      <td>0.0</td>\n",
       "      <td>9.0</td>\n",
       "      <td>8.0</td>\n",
       "      <td>75.0</td>\n",
       "    </tr>\n",
       "    <tr>\n",
       "      <th>St. Louis Metropolitan Police Department</th>\n",
       "      <td>36.0</td>\n",
       "      <td>0.0</td>\n",
       "      <td>0.0</td>\n",
       "      <td>0.0</td>\n",
       "      <td>0.0</td>\n",
       "      <td>3.0</td>\n",
       "      <td>1.0</td>\n",
       "      <td>40.0</td>\n",
       "    </tr>\n",
       "    <tr>\n",
       "      <th>Houston Police Department</th>\n",
       "      <td>34.0</td>\n",
       "      <td>20.0</td>\n",
       "      <td>0.0</td>\n",
       "      <td>1.0</td>\n",
       "      <td>0.0</td>\n",
       "      <td>11.0</td>\n",
       "      <td>4.0</td>\n",
       "      <td>70.0</td>\n",
       "    </tr>\n",
       "    <tr>\n",
       "      <th>Los Angeles Police Department</th>\n",
       "      <td>27.0</td>\n",
       "      <td>71.0</td>\n",
       "      <td>0.0</td>\n",
       "      <td>2.0</td>\n",
       "      <td>0.0</td>\n",
       "      <td>20.0</td>\n",
       "      <td>4.0</td>\n",
       "      <td>124.0</td>\n",
       "    </tr>\n",
       "    <tr>\n",
       "      <th>...</th>\n",
       "      <td>...</td>\n",
       "      <td>...</td>\n",
       "      <td>...</td>\n",
       "      <td>...</td>\n",
       "      <td>...</td>\n",
       "      <td>...</td>\n",
       "      <td>...</td>\n",
       "      <td>...</td>\n",
       "    </tr>\n",
       "    <tr>\n",
       "      <th>Chandler Police Department</th>\n",
       "      <td>0.0</td>\n",
       "      <td>3.0</td>\n",
       "      <td>0.0</td>\n",
       "      <td>0.0</td>\n",
       "      <td>0.0</td>\n",
       "      <td>2.0</td>\n",
       "      <td>0.0</td>\n",
       "      <td>5.0</td>\n",
       "    </tr>\n",
       "    <tr>\n",
       "      <th>Lubbock Police Department</th>\n",
       "      <td>0.0</td>\n",
       "      <td>3.0</td>\n",
       "      <td>0.0</td>\n",
       "      <td>0.0</td>\n",
       "      <td>0.0</td>\n",
       "      <td>0.0</td>\n",
       "      <td>0.0</td>\n",
       "      <td>3.0</td>\n",
       "    </tr>\n",
       "    <tr>\n",
       "      <th>Chula Vista Police Department</th>\n",
       "      <td>0.0</td>\n",
       "      <td>1.0</td>\n",
       "      <td>0.0</td>\n",
       "      <td>0.0</td>\n",
       "      <td>0.0</td>\n",
       "      <td>1.0</td>\n",
       "      <td>0.0</td>\n",
       "      <td>2.0</td>\n",
       "    </tr>\n",
       "    <tr>\n",
       "      <th>Plano Police Department</th>\n",
       "      <td>0.0</td>\n",
       "      <td>1.0</td>\n",
       "      <td>0.0</td>\n",
       "      <td>0.0</td>\n",
       "      <td>0.0</td>\n",
       "      <td>1.0</td>\n",
       "      <td>0.0</td>\n",
       "      <td>2.0</td>\n",
       "    </tr>\n",
       "    <tr>\n",
       "      <th>Irvine Police Department</th>\n",
       "      <td>0.0</td>\n",
       "      <td>0.0</td>\n",
       "      <td>0.0</td>\n",
       "      <td>0.0</td>\n",
       "      <td>0.0</td>\n",
       "      <td>0.0</td>\n",
       "      <td>0.0</td>\n",
       "      <td>0.0</td>\n",
       "    </tr>\n",
       "  </tbody>\n",
       "</table>\n",
       "<p>100 rows × 8 columns</p>\n",
       "</div>"
      ],
      "text/plain": [
       "                                          Black  Hispanic  Native  Asian  \\\n",
       "PD                                                                         \n",
       "Chicago Police Department                  56.0      13.0     0.0    0.0   \n",
       "New York Police Department                 48.0      10.0     0.0    0.0   \n",
       "St. Louis Metropolitan Police Department   36.0       0.0     0.0    0.0   \n",
       "Houston Police Department                  34.0      20.0     0.0    1.0   \n",
       "Los Angeles Police Department              27.0      71.0     0.0    2.0   \n",
       "...                                         ...       ...     ...    ...   \n",
       "Chandler Police Department                  0.0       3.0     0.0    0.0   \n",
       "Lubbock Police Department                   0.0       3.0     0.0    0.0   \n",
       "Chula Vista Police Department               0.0       1.0     0.0    0.0   \n",
       "Plano Police Department                     0.0       1.0     0.0    0.0   \n",
       "Irvine Police Department                    0.0       0.0     0.0    0.0   \n",
       "\n",
       "                                          Pacific_Islanders  White  Unknown  \\\n",
       "PD                                                                            \n",
       "Chicago Police Department                               0.0    2.0      5.0   \n",
       "New York Police Department                              0.0    9.0      8.0   \n",
       "St. Louis Metropolitan Police Department                0.0    3.0      1.0   \n",
       "Houston Police Department                               0.0   11.0      4.0   \n",
       "Los Angeles Police Department                           0.0   20.0      4.0   \n",
       "...                                                     ...    ...      ...   \n",
       "Chandler Police Department                              0.0    2.0      0.0   \n",
       "Lubbock Police Department                               0.0    0.0      0.0   \n",
       "Chula Vista Police Department                           0.0    1.0      0.0   \n",
       "Plano Police Department                                 0.0    1.0      0.0   \n",
       "Irvine Police Department                                0.0    0.0      0.0   \n",
       "\n",
       "                                          Total_Killed_by_Police  \n",
       "PD                                                                \n",
       "Chicago Police Department                                   76.0  \n",
       "New York Police Department                                  75.0  \n",
       "St. Louis Metropolitan Police Department                    40.0  \n",
       "Houston Police Department                                   70.0  \n",
       "Los Angeles Police Department                              124.0  \n",
       "...                                                          ...  \n",
       "Chandler Police Department                                   5.0  \n",
       "Lubbock Police Department                                    3.0  \n",
       "Chula Vista Police Department                                2.0  \n",
       "Plano Police Department                                      2.0  \n",
       "Irvine Police Department                                     0.0  \n",
       "\n",
       "[100 rows x 8 columns]"
      ]
     },
     "execution_count": 13,
     "metadata": {},
     "output_type": "execute_result"
    }
   ],
   "source": [
    "mp.groupby(['PD'])[['Black','Hispanic','Native','Asian','Pacific_Islanders','White','Unknown','Total_Killed_by_Police']].sum().sort_values(['Black','Hispanic','Native','Asian','Pacific_Islanders','White'], ascending=[0,0,0,0,0,0])"
   ]
  },
  {
   "cell_type": "code",
   "execution_count": 14,
   "metadata": {},
   "outputs": [
    {
     "data": {
      "text/plain": [
       "7"
      ]
     },
     "execution_count": 14,
     "metadata": {},
     "output_type": "execute_result"
    }
   ],
   "source": [
    "int(mp.Black.mean())"
   ]
  },
  {
   "cell_type": "code",
   "execution_count": 15,
   "metadata": {},
   "outputs": [
    {
     "data": {
      "text/plain": [
       "5"
      ]
     },
     "execution_count": 15,
     "metadata": {},
     "output_type": "execute_result"
    }
   ],
   "source": [
    "int(mp.White.mean())"
   ]
  },
  {
   "cell_type": "markdown",
   "metadata": {},
   "source": [
    "- races x state\n",
    "- races x city"
   ]
  },
  {
   "cell_type": "code",
   "execution_count": 16,
   "metadata": {},
   "outputs": [
    {
     "data": {
      "text/html": [
       "<div>\n",
       "<style scoped>\n",
       "    .dataframe tbody tr th:only-of-type {\n",
       "        vertical-align: middle;\n",
       "    }\n",
       "\n",
       "    .dataframe tbody tr th {\n",
       "        vertical-align: top;\n",
       "    }\n",
       "\n",
       "    .dataframe thead th {\n",
       "        text-align: right;\n",
       "    }\n",
       "</style>\n",
       "<table border=\"1\" class=\"dataframe\">\n",
       "  <thead>\n",
       "    <tr style=\"text-align: right;\">\n",
       "      <th></th>\n",
       "      <th>State</th>\n",
       "      <th>City</th>\n",
       "      <th>Total</th>\n",
       "      <th>Black</th>\n",
       "      <th>White</th>\n",
       "      <th>Amer. Indian</th>\n",
       "      <th>Asian</th>\n",
       "      <th>Hawaiian</th>\n",
       "      <th>Other</th>\n",
       "      <th>Two or\\nmore races</th>\n",
       "      <th>Hispanic</th>\n",
       "    </tr>\n",
       "  </thead>\n",
       "  <tbody>\n",
       "    <tr>\n",
       "      <th>0</th>\n",
       "      <td>New Mexico</td>\n",
       "      <td>Albuquerque</td>\n",
       "      <td>545,852</td>\n",
       "      <td>14,878</td>\n",
       "      <td>229,933</td>\n",
       "      <td>20,627</td>\n",
       "      <td>13,674</td>\n",
       "      <td>418</td>\n",
       "      <td>1,224</td>\n",
       "      <td>10,043</td>\n",
       "      <td>255,055</td>\n",
       "    </tr>\n",
       "    <tr>\n",
       "      <th>1</th>\n",
       "      <td>California</td>\n",
       "      <td>Anaheim</td>\n",
       "      <td>336,265</td>\n",
       "      <td>8,209</td>\n",
       "      <td>92,362</td>\n",
       "      <td>743</td>\n",
       "      <td>49,210</td>\n",
       "      <td>1,437</td>\n",
       "      <td>628</td>\n",
       "      <td>6,209</td>\n",
       "      <td>177,467</td>\n",
       "    </tr>\n",
       "    <tr>\n",
       "      <th>2</th>\n",
       "      <td>Alaska</td>\n",
       "      <td>Anchorage</td>\n",
       "      <td>291,826</td>\n",
       "      <td>15,308</td>\n",
       "      <td>182,814</td>\n",
       "      <td>22,047</td>\n",
       "      <td>23,208</td>\n",
       "      <td>5,776</td>\n",
       "      <td>562</td>\n",
       "      <td>20,050</td>\n",
       "      <td>22,061</td>\n",
       "    </tr>\n",
       "    <tr>\n",
       "      <th>3</th>\n",
       "      <td>Texas</td>\n",
       "      <td>Arlington</td>\n",
       "      <td>365,438</td>\n",
       "      <td>67,087</td>\n",
       "      <td>164,022</td>\n",
       "      <td>1,338</td>\n",
       "      <td>24,564</td>\n",
       "      <td>373</td>\n",
       "      <td>597</td>\n",
       "      <td>7,188</td>\n",
       "      <td>100,269</td>\n",
       "    </tr>\n",
       "    <tr>\n",
       "      <th>4</th>\n",
       "      <td>Georgia</td>\n",
       "      <td>Atlanta</td>\n",
       "      <td>420,003</td>\n",
       "      <td>224,316</td>\n",
       "      <td>152,377</td>\n",
       "      <td>754</td>\n",
       "      <td>13,098</td>\n",
       "      <td>115</td>\n",
       "      <td>739</td>\n",
       "      <td>6,789</td>\n",
       "      <td>21,815</td>\n",
       "    </tr>\n",
       "    <tr>\n",
       "      <th>...</th>\n",
       "      <td>...</td>\n",
       "      <td>...</td>\n",
       "      <td>...</td>\n",
       "      <td>...</td>\n",
       "      <td>...</td>\n",
       "      <td>...</td>\n",
       "      <td>...</td>\n",
       "      <td>...</td>\n",
       "      <td>...</td>\n",
       "      <td>...</td>\n",
       "      <td>...</td>\n",
       "    </tr>\n",
       "    <tr>\n",
       "      <th>95</th>\n",
       "      <td>Arizona</td>\n",
       "      <td>Tucson</td>\n",
       "      <td>520,116</td>\n",
       "      <td>23,362</td>\n",
       "      <td>245,323</td>\n",
       "      <td>8,776</td>\n",
       "      <td>14,211</td>\n",
       "      <td>951</td>\n",
       "      <td>792</td>\n",
       "      <td>10,393</td>\n",
       "      <td>216,308</td>\n",
       "    </tr>\n",
       "    <tr>\n",
       "      <th>96</th>\n",
       "      <td>Oklahoma</td>\n",
       "      <td>Tulsa</td>\n",
       "      <td>391,906</td>\n",
       "      <td>61,230</td>\n",
       "      <td>227,021</td>\n",
       "      <td>19,473</td>\n",
       "      <td>8,926</td>\n",
       "      <td>278</td>\n",
       "      <td>473</td>\n",
       "      <td>19,239</td>\n",
       "      <td>55,266</td>\n",
       "    </tr>\n",
       "    <tr>\n",
       "      <th>97</th>\n",
       "      <td>Virginia</td>\n",
       "      <td>Virginia Beach</td>\n",
       "      <td>437,994</td>\n",
       "      <td>83,210</td>\n",
       "      <td>282,470</td>\n",
       "      <td>1,349</td>\n",
       "      <td>26,312</td>\n",
       "      <td>602</td>\n",
       "      <td>863</td>\n",
       "      <td>14,201</td>\n",
       "      <td>28,987</td>\n",
       "    </tr>\n",
       "    <tr>\n",
       "      <th>98</th>\n",
       "      <td>Kansas</td>\n",
       "      <td>Wichita</td>\n",
       "      <td>382,368</td>\n",
       "      <td>42,676</td>\n",
       "      <td>246,744</td>\n",
       "      <td>3,424</td>\n",
       "      <td>18,272</td>\n",
       "      <td>311</td>\n",
       "      <td>472</td>\n",
       "      <td>12,121</td>\n",
       "      <td>58,348</td>\n",
       "    </tr>\n",
       "    <tr>\n",
       "      <th>99</th>\n",
       "      <td>North Carolina</td>\n",
       "      <td>Winston-Salem</td>\n",
       "      <td>229,617</td>\n",
       "      <td>78,065</td>\n",
       "      <td>108,222</td>\n",
       "      <td>567</td>\n",
       "      <td>4,536</td>\n",
       "      <td>138</td>\n",
       "      <td>535</td>\n",
       "      <td>3,801</td>\n",
       "      <td>33,753</td>\n",
       "    </tr>\n",
       "  </tbody>\n",
       "</table>\n",
       "<p>100 rows × 11 columns</p>\n",
       "</div>"
      ],
      "text/plain": [
       "             State            City    Total    Black    White Amer. Indian  \\\n",
       "0       New Mexico     Albuquerque  545,852   14,878  229,933       20,627   \n",
       "1       California         Anaheim  336,265    8,209   92,362          743   \n",
       "2           Alaska       Anchorage  291,826   15,308  182,814       22,047   \n",
       "3            Texas       Arlington  365,438   67,087  164,022        1,338   \n",
       "4          Georgia         Atlanta  420,003  224,316  152,377          754   \n",
       "..             ...             ...      ...      ...      ...          ...   \n",
       "95         Arizona          Tucson  520,116   23,362  245,323        8,776   \n",
       "96        Oklahoma           Tulsa  391,906   61,230  227,021       19,473   \n",
       "97        Virginia  Virginia Beach  437,994   83,210  282,470        1,349   \n",
       "98          Kansas         Wichita  382,368   42,676  246,744        3,424   \n",
       "99  North Carolina   Winston-Salem  229,617   78,065  108,222          567   \n",
       "\n",
       "     Asian Hawaiian  Other Two or\\nmore races Hispanic  \n",
       "0   13,674      418  1,224             10,043  255,055  \n",
       "1   49,210    1,437    628              6,209  177,467  \n",
       "2   23,208    5,776    562             20,050   22,061  \n",
       "3   24,564      373    597              7,188  100,269  \n",
       "4   13,098      115    739              6,789   21,815  \n",
       "..     ...      ...    ...                ...      ...  \n",
       "95  14,211      951    792             10,393  216,308  \n",
       "96   8,926      278    473             19,239   55,266  \n",
       "97  26,312      602    863             14,201   28,987  \n",
       "98  18,272      311    472             12,121   58,348  \n",
       "99   4,536      138    535              3,801   33,753  \n",
       "\n",
       "[100 rows x 11 columns]"
      ]
     },
     "execution_count": 16,
     "metadata": {},
     "output_type": "execute_result"
    }
   ],
   "source": [
    "rcs=dar.iloc[:,[0,1,10,11,12,13,14,15,16,17,18]].copy()\n",
    "rcs"
   ]
  },
  {
   "cell_type": "code",
   "execution_count": 17,
   "metadata": {},
   "outputs": [],
   "source": [
    "rcs.rename(columns={'Amer. Indian':'Amer_Indian', 'Two or\\nmore races':'two_or_more_races'},inplace=True)"
   ]
  },
  {
   "cell_type": "code",
   "execution_count": 18,
   "metadata": {},
   "outputs": [
    {
     "name": "stdout",
     "output_type": "stream",
     "text": [
      "<class 'pandas.core.frame.DataFrame'>\n",
      "RangeIndex: 100 entries, 0 to 99\n",
      "Data columns (total 11 columns):\n",
      " #   Column             Non-Null Count  Dtype \n",
      "---  ------             --------------  ----- \n",
      " 0   State              100 non-null    object\n",
      " 1   City               100 non-null    object\n",
      " 2   Total              100 non-null    object\n",
      " 3   Black              100 non-null    object\n",
      " 4   White              100 non-null    object\n",
      " 5   Amer_Indian        100 non-null    object\n",
      " 6   Asian              100 non-null    object\n",
      " 7   Hawaiian           100 non-null    object\n",
      " 8   Other              99 non-null     object\n",
      " 9   two_or_more_races  100 non-null    object\n",
      " 10  Hispanic           100 non-null    object\n",
      "dtypes: object(11)\n",
      "memory usage: 8.7+ KB\n"
     ]
    }
   ],
   "source": [
    "rcs.info()"
   ]
  },
  {
   "cell_type": "code",
   "execution_count": 19,
   "metadata": {},
   "outputs": [],
   "source": [
    "rcs['Total']=rcs.Total.apply(lambda x: x.replace(',',''))\n",
    "rcs['Black']=rcs.Black.apply(lambda x: x.replace(',',''))\n",
    "rcs['White']=rcs.White.apply(lambda x: x.replace(',',''))\n",
    "rcs['Amer_Indian']=rcs.Amer_Indian.apply(lambda x: x.replace(',',''))\n",
    "rcs['Asian']=rcs.Asian.apply(lambda x: x.replace(',',''))\n",
    "rcs['Hawaiian']=rcs.Hawaiian.apply(lambda x: x.replace(',',''))\n",
    "rcs['two_or_more_races']=rcs.two_or_more_races.apply(lambda x: x.replace(',',''))\n",
    "rcs['Hispanic']=rcs.Hispanic.apply(lambda x: x.replace(',',''))\n"
   ]
  },
  {
   "cell_type": "code",
   "execution_count": 20,
   "metadata": {},
   "outputs": [
    {
     "data": {
      "text/plain": [
       "True"
      ]
     },
     "execution_count": 20,
     "metadata": {},
     "output_type": "execute_result"
    }
   ],
   "source": [
    "rcs.Other.isna().any()"
   ]
  },
  {
   "cell_type": "code",
   "execution_count": 21,
   "metadata": {},
   "outputs": [],
   "source": [
    "rcs.replace(np.nan,'0',inplace=True)"
   ]
  },
  {
   "cell_type": "code",
   "execution_count": 22,
   "metadata": {},
   "outputs": [],
   "source": [
    "rcs['Other']=rcs.Other.apply(lambda x: x.replace(',',''))"
   ]
  },
  {
   "cell_type": "code",
   "execution_count": 23,
   "metadata": {},
   "outputs": [],
   "source": [
    "rcs['Total']=rcs.Total.astype('int64')\n",
    "rcs['Black']=rcs.Black.astype('int64')\n",
    "rcs['White']=rcs.White.astype('int64')\n",
    "rcs['Amer_Indian']=rcs.Amer_Indian.astype('int64')\n",
    "rcs['Asian']=rcs.Asian.astype('int64')\n",
    "rcs['Hawaiian']=rcs.Hawaiian.astype('int')\n",
    "rcs['Other']=rcs.Other.astype('int64')\n",
    "rcs['two_or_more_races']=rcs.two_or_more_races.astype('int64')\n",
    "rcs['Hispanic']=rcs.Hispanic.astype('int64')"
   ]
  },
  {
   "cell_type": "code",
   "execution_count": 24,
   "metadata": {},
   "outputs": [],
   "source": [
    "rcs['Black_per1000']=(rcs['Black'].div(rcs['Total'])).mul(1000).astype('int')\n",
    "rcs['White_per1000']=(rcs['White'].div(rcs['Total'])).mul(1000).astype('int')\n",
    "rcs['Amer_Indian_per1000']=(rcs['Amer_Indian'].div(rcs['Total'])).mul(1000).astype('int')\n",
    "rcs['Asian_per1000']=(rcs['Asian'].div(rcs['Total'])).mul(1000).astype('int')\n",
    "rcs['Hawaiian_per1000']=(rcs['Hawaiian'].div(rcs['Total'])).mul(1000).astype('int')\n",
    "rcs['Other_per1000']=(rcs['Other'].div(rcs['Total'])).mul(1000).astype('int')\n",
    "rcs['two_or_more_races']=(rcs['two_or_more_races'].div(rcs['Total'])).mul(1000).astype('int')\n",
    "rcs['Hispanic']=(rcs['Hispanic'].div(rcs['Total'])).mul(1000).astype('int')"
   ]
  },
  {
   "cell_type": "code",
   "execution_count": 62,
   "metadata": {},
   "outputs": [
    {
     "data": {
      "text/html": [
       "<div>\n",
       "<style scoped>\n",
       "    .dataframe tbody tr th:only-of-type {\n",
       "        vertical-align: middle;\n",
       "    }\n",
       "\n",
       "    .dataframe tbody tr th {\n",
       "        vertical-align: top;\n",
       "    }\n",
       "\n",
       "    .dataframe thead th {\n",
       "        text-align: right;\n",
       "    }\n",
       "</style>\n",
       "<table border=\"1\" class=\"dataframe\">\n",
       "  <thead>\n",
       "    <tr style=\"text-align: right;\">\n",
       "      <th></th>\n",
       "      <th>State</th>\n",
       "      <th>City</th>\n",
       "      <th>Total</th>\n",
       "      <th>Black</th>\n",
       "      <th>White</th>\n",
       "      <th>Amer_Indian</th>\n",
       "      <th>Asian</th>\n",
       "      <th>Hawaiian</th>\n",
       "      <th>Other</th>\n",
       "      <th>two_or_more_races</th>\n",
       "      <th>Hispanic</th>\n",
       "      <th>Black_per1000</th>\n",
       "      <th>White_per1000</th>\n",
       "      <th>Amer_Indian_per1000</th>\n",
       "      <th>Asian_per1000</th>\n",
       "      <th>Hawaiian_per1000</th>\n",
       "      <th>Other_per1000</th>\n",
       "    </tr>\n",
       "  </thead>\n",
       "  <tbody>\n",
       "    <tr>\n",
       "      <th>26</th>\n",
       "      <td>Michigan</td>\n",
       "      <td>Detroit</td>\n",
       "      <td>713777</td>\n",
       "      <td>586573</td>\n",
       "      <td>55604</td>\n",
       "      <td>1927</td>\n",
       "      <td>7436</td>\n",
       "      <td>82</td>\n",
       "      <td>994</td>\n",
       "      <td>17</td>\n",
       "      <td>68</td>\n",
       "      <td>821</td>\n",
       "      <td>77</td>\n",
       "      <td>2</td>\n",
       "      <td>10</td>\n",
       "      <td>0</td>\n",
       "      <td>1</td>\n",
       "    </tr>\n",
       "    <tr>\n",
       "      <th>10</th>\n",
       "      <td>Alabama</td>\n",
       "      <td>Birmingham</td>\n",
       "      <td>212237</td>\n",
       "      <td>155258</td>\n",
       "      <td>44819</td>\n",
       "      <td>361</td>\n",
       "      <td>2132</td>\n",
       "      <td>48</td>\n",
       "      <td>150</td>\n",
       "      <td>8</td>\n",
       "      <td>36</td>\n",
       "      <td>731</td>\n",
       "      <td>211</td>\n",
       "      <td>1</td>\n",
       "      <td>10</td>\n",
       "      <td>0</td>\n",
       "      <td>0</td>\n",
       "    </tr>\n",
       "    <tr>\n",
       "      <th>8</th>\n",
       "      <td>Maryland</td>\n",
       "      <td>Baltimore</td>\n",
       "      <td>620961</td>\n",
       "      <td>392938</td>\n",
       "      <td>174120</td>\n",
       "      <td>1884</td>\n",
       "      <td>14397</td>\n",
       "      <td>192</td>\n",
       "      <td>942</td>\n",
       "      <td>16</td>\n",
       "      <td>41</td>\n",
       "      <td>632</td>\n",
       "      <td>280</td>\n",
       "      <td>3</td>\n",
       "      <td>23</td>\n",
       "      <td>0</td>\n",
       "      <td>1</td>\n",
       "    </tr>\n",
       "    <tr>\n",
       "      <th>55</th>\n",
       "      <td>Tennessee</td>\n",
       "      <td>Memphis</td>\n",
       "      <td>646889</td>\n",
       "      <td>408075</td>\n",
       "      <td>177735</td>\n",
       "      <td>1186</td>\n",
       "      <td>10067</td>\n",
       "      <td>159</td>\n",
       "      <td>742</td>\n",
       "      <td>10</td>\n",
       "      <td>64</td>\n",
       "      <td>630</td>\n",
       "      <td>274</td>\n",
       "      <td>1</td>\n",
       "      <td>15</td>\n",
       "      <td>0</td>\n",
       "      <td>1</td>\n",
       "    </tr>\n",
       "    <tr>\n",
       "      <th>61</th>\n",
       "      <td>Louisiana</td>\n",
       "      <td>New Orleans</td>\n",
       "      <td>343829</td>\n",
       "      <td>204866</td>\n",
       "      <td>104770</td>\n",
       "      <td>827</td>\n",
       "      <td>9883</td>\n",
       "      <td>105</td>\n",
       "      <td>967</td>\n",
       "      <td>12</td>\n",
       "      <td>52</td>\n",
       "      <td>595</td>\n",
       "      <td>304</td>\n",
       "      <td>2</td>\n",
       "      <td>28</td>\n",
       "      <td>0</td>\n",
       "      <td>2</td>\n",
       "    </tr>\n",
       "    <tr>\n",
       "      <th>...</th>\n",
       "      <td>...</td>\n",
       "      <td>...</td>\n",
       "      <td>...</td>\n",
       "      <td>...</td>\n",
       "      <td>...</td>\n",
       "      <td>...</td>\n",
       "      <td>...</td>\n",
       "      <td>...</td>\n",
       "      <td>...</td>\n",
       "      <td>...</td>\n",
       "      <td>...</td>\n",
       "      <td>...</td>\n",
       "      <td>...</td>\n",
       "      <td>...</td>\n",
       "      <td>...</td>\n",
       "      <td>...</td>\n",
       "      <td>...</td>\n",
       "    </tr>\n",
       "    <tr>\n",
       "      <th>88</th>\n",
       "      <td>Washington</td>\n",
       "      <td>Spokane</td>\n",
       "      <td>208916</td>\n",
       "      <td>4643</td>\n",
       "      <td>175482</td>\n",
       "      <td>3663</td>\n",
       "      <td>5266</td>\n",
       "      <td>1152</td>\n",
       "      <td>281</td>\n",
       "      <td>38</td>\n",
       "      <td>50</td>\n",
       "      <td>22</td>\n",
       "      <td>839</td>\n",
       "      <td>17</td>\n",
       "      <td>25</td>\n",
       "      <td>5</td>\n",
       "      <td>1</td>\n",
       "    </tr>\n",
       "    <tr>\n",
       "      <th>86</th>\n",
       "      <td>Arizona</td>\n",
       "      <td>Scottsdale</td>\n",
       "      <td>217385</td>\n",
       "      <td>3484</td>\n",
       "      <td>182011</td>\n",
       "      <td>1462</td>\n",
       "      <td>7128</td>\n",
       "      <td>189</td>\n",
       "      <td>276</td>\n",
       "      <td>16</td>\n",
       "      <td>88</td>\n",
       "      <td>16</td>\n",
       "      <td>837</td>\n",
       "      <td>6</td>\n",
       "      <td>32</td>\n",
       "      <td>0</td>\n",
       "      <td>1</td>\n",
       "    </tr>\n",
       "    <tr>\n",
       "      <th>41</th>\n",
       "      <td>California</td>\n",
       "      <td>Irvine</td>\n",
       "      <td>212375</td>\n",
       "      <td>3494</td>\n",
       "      <td>95822</td>\n",
       "      <td>199</td>\n",
       "      <td>82722</td>\n",
       "      <td>295</td>\n",
       "      <td>554</td>\n",
       "      <td>45</td>\n",
       "      <td>92</td>\n",
       "      <td>16</td>\n",
       "      <td>451</td>\n",
       "      <td>0</td>\n",
       "      <td>389</td>\n",
       "      <td>1</td>\n",
       "      <td>2</td>\n",
       "    </tr>\n",
       "    <tr>\n",
       "      <th>85</th>\n",
       "      <td>California</td>\n",
       "      <td>Santa Ana</td>\n",
       "      <td>324528</td>\n",
       "      <td>3177</td>\n",
       "      <td>29950</td>\n",
       "      <td>507</td>\n",
       "      <td>33618</td>\n",
       "      <td>826</td>\n",
       "      <td>375</td>\n",
       "      <td>6</td>\n",
       "      <td>782</td>\n",
       "      <td>9</td>\n",
       "      <td>92</td>\n",
       "      <td>1</td>\n",
       "      <td>103</td>\n",
       "      <td>2</td>\n",
       "      <td>1</td>\n",
       "    </tr>\n",
       "    <tr>\n",
       "      <th>46</th>\n",
       "      <td>Texas</td>\n",
       "      <td>Laredo</td>\n",
       "      <td>236091</td>\n",
       "      <td>478</td>\n",
       "      <td>8086</td>\n",
       "      <td>87</td>\n",
       "      <td>1313</td>\n",
       "      <td>11</td>\n",
       "      <td>121</td>\n",
       "      <td>1</td>\n",
       "      <td>956</td>\n",
       "      <td>2</td>\n",
       "      <td>34</td>\n",
       "      <td>0</td>\n",
       "      <td>5</td>\n",
       "      <td>0</td>\n",
       "      <td>0</td>\n",
       "    </tr>\n",
       "  </tbody>\n",
       "</table>\n",
       "<p>100 rows × 17 columns</p>\n",
       "</div>"
      ],
      "text/plain": [
       "         State         City   Total   Black   White  Amer_Indian  Asian  \\\n",
       "26    Michigan      Detroit  713777  586573   55604         1927   7436   \n",
       "10     Alabama   Birmingham  212237  155258   44819          361   2132   \n",
       "8     Maryland    Baltimore  620961  392938  174120         1884  14397   \n",
       "55   Tennessee      Memphis  646889  408075  177735         1186  10067   \n",
       "61   Louisiana  New Orleans  343829  204866  104770          827   9883   \n",
       "..         ...          ...     ...     ...     ...          ...    ...   \n",
       "88  Washington      Spokane  208916    4643  175482         3663   5266   \n",
       "86     Arizona   Scottsdale  217385    3484  182011         1462   7128   \n",
       "41  California       Irvine  212375    3494   95822          199  82722   \n",
       "85  California    Santa Ana  324528    3177   29950          507  33618   \n",
       "46       Texas       Laredo  236091     478    8086           87   1313   \n",
       "\n",
       "    Hawaiian  Other  two_or_more_races  Hispanic  Black_per1000  \\\n",
       "26        82    994                 17        68            821   \n",
       "10        48    150                  8        36            731   \n",
       "8        192    942                 16        41            632   \n",
       "55       159    742                 10        64            630   \n",
       "61       105    967                 12        52            595   \n",
       "..       ...    ...                ...       ...            ...   \n",
       "88      1152    281                 38        50             22   \n",
       "86       189    276                 16        88             16   \n",
       "41       295    554                 45        92             16   \n",
       "85       826    375                  6       782              9   \n",
       "46        11    121                  1       956              2   \n",
       "\n",
       "    White_per1000  Amer_Indian_per1000  Asian_per1000  Hawaiian_per1000  \\\n",
       "26             77                    2             10                 0   \n",
       "10            211                    1             10                 0   \n",
       "8             280                    3             23                 0   \n",
       "55            274                    1             15                 0   \n",
       "61            304                    2             28                 0   \n",
       "..            ...                  ...            ...               ...   \n",
       "88            839                   17             25                 5   \n",
       "86            837                    6             32                 0   \n",
       "41            451                    0            389                 1   \n",
       "85             92                    1            103                 2   \n",
       "46             34                    0              5                 0   \n",
       "\n",
       "    Other_per1000  \n",
       "26              1  \n",
       "10              0  \n",
       "8               1  \n",
       "55              1  \n",
       "61              2  \n",
       "..            ...  \n",
       "88              1  \n",
       "86              1  \n",
       "41              2  \n",
       "85              1  \n",
       "46              0  \n",
       "\n",
       "[100 rows x 17 columns]"
      ]
     },
     "execution_count": 62,
     "metadata": {},
     "output_type": "execute_result"
    }
   ],
   "source": [
    "rcs_1000=rcs.sort_values(['Black_per1000', 'White_per1000'], ascending=[0,0])\n",
    "rcs_1000"
   ]
  },
  {
   "cell_type": "code",
   "execution_count": 26,
   "metadata": {
    "scrolled": true
   },
   "outputs": [
    {
     "data": {
      "text/html": [
       "<div>\n",
       "<style scoped>\n",
       "    .dataframe tbody tr th:only-of-type {\n",
       "        vertical-align: middle;\n",
       "    }\n",
       "\n",
       "    .dataframe tbody tr th {\n",
       "        vertical-align: top;\n",
       "    }\n",
       "\n",
       "    .dataframe thead th {\n",
       "        text-align: right;\n",
       "    }\n",
       "</style>\n",
       "<table border=\"1\" class=\"dataframe\">\n",
       "  <thead>\n",
       "    <tr style=\"text-align: right;\">\n",
       "      <th></th>\n",
       "      <th>Black_per1000</th>\n",
       "      <th>White_per1000</th>\n",
       "    </tr>\n",
       "    <tr>\n",
       "      <th>City</th>\n",
       "      <th></th>\n",
       "      <th></th>\n",
       "    </tr>\n",
       "  </thead>\n",
       "  <tbody>\n",
       "    <tr>\n",
       "      <th>Detroit</th>\n",
       "      <td>821</td>\n",
       "      <td>77</td>\n",
       "    </tr>\n",
       "    <tr>\n",
       "      <th>Birmingham</th>\n",
       "      <td>731</td>\n",
       "      <td>211</td>\n",
       "    </tr>\n",
       "    <tr>\n",
       "      <th>Baltimore</th>\n",
       "      <td>632</td>\n",
       "      <td>280</td>\n",
       "    </tr>\n",
       "    <tr>\n",
       "      <th>Memphis</th>\n",
       "      <td>630</td>\n",
       "      <td>274</td>\n",
       "    </tr>\n",
       "    <tr>\n",
       "      <th>New Orleans</th>\n",
       "      <td>595</td>\n",
       "      <td>304</td>\n",
       "    </tr>\n",
       "  </tbody>\n",
       "</table>\n",
       "</div>"
      ],
      "text/plain": [
       "             Black_per1000  White_per1000\n",
       "City                                     \n",
       "Detroit                821             77\n",
       "Birmingham             731            211\n",
       "Baltimore              632            280\n",
       "Memphis                630            274\n",
       "New Orleans            595            304"
      ]
     },
     "execution_count": 26,
     "metadata": {},
     "output_type": "execute_result"
    }
   ],
   "source": [
    "city_BxW=rcs.groupby(['City'])[['Black_per1000','White_per1000']].sum().sort_values(['Black_per1000','White_per1000'],ascending=[0,0])\n",
    "city_BxW.head(5)"
   ]
  },
  {
   "cell_type": "code",
   "execution_count": 69,
   "metadata": {},
   "outputs": [
    {
     "data": {
      "text/html": [
       "<div>\n",
       "<style scoped>\n",
       "    .dataframe tbody tr th:only-of-type {\n",
       "        vertical-align: middle;\n",
       "    }\n",
       "\n",
       "    .dataframe tbody tr th {\n",
       "        vertical-align: top;\n",
       "    }\n",
       "\n",
       "    .dataframe thead th {\n",
       "        text-align: right;\n",
       "    }\n",
       "</style>\n",
       "<table border=\"1\" class=\"dataframe\">\n",
       "  <thead>\n",
       "    <tr style=\"text-align: right;\">\n",
       "      <th></th>\n",
       "      <th>State</th>\n",
       "      <th>Black_per1000</th>\n",
       "      <th>White_per1000</th>\n",
       "      <th>Amer_Indian_per1000</th>\n",
       "      <th>Asian_per1000</th>\n",
       "      <th>Hawaiian_per1000</th>\n",
       "      <th>Other_per1000</th>\n",
       "    </tr>\n",
       "  </thead>\n",
       "  <tbody>\n",
       "    <tr>\n",
       "      <th>16</th>\n",
       "      <td>Michigan</td>\n",
       "      <td>821.0</td>\n",
       "      <td>77.0</td>\n",
       "      <td>2.0</td>\n",
       "      <td>10.0</td>\n",
       "      <td>0.0</td>\n",
       "      <td>1.0</td>\n",
       "    </tr>\n",
       "    <tr>\n",
       "      <th>0</th>\n",
       "      <td>Alabama</td>\n",
       "      <td>731.0</td>\n",
       "      <td>211.0</td>\n",
       "      <td>1.0</td>\n",
       "      <td>10.0</td>\n",
       "      <td>0.0</td>\n",
       "      <td>0.0</td>\n",
       "    </tr>\n",
       "    <tr>\n",
       "      <th>14</th>\n",
       "      <td>Maryland</td>\n",
       "      <td>632.0</td>\n",
       "      <td>280.0</td>\n",
       "      <td>3.0</td>\n",
       "      <td>23.0</td>\n",
       "      <td>0.0</td>\n",
       "      <td>1.0</td>\n",
       "    </tr>\n",
       "    <tr>\n",
       "      <th>13</th>\n",
       "      <td>Louisiana</td>\n",
       "      <td>568.5</td>\n",
       "      <td>340.5</td>\n",
       "      <td>1.5</td>\n",
       "      <td>30.0</td>\n",
       "      <td>0.0</td>\n",
       "      <td>1.5</td>\n",
       "    </tr>\n",
       "    <tr>\n",
       "      <th>7</th>\n",
       "      <td>Georgia</td>\n",
       "      <td>534.0</td>\n",
       "      <td>362.0</td>\n",
       "      <td>1.0</td>\n",
       "      <td>31.0</td>\n",
       "      <td>0.0</td>\n",
       "      <td>1.0</td>\n",
       "    </tr>\n",
       "  </tbody>\n",
       "</table>\n",
       "</div>"
      ],
      "text/plain": [
       "        State  Black_per1000  White_per1000  Amer_Indian_per1000  \\\n",
       "16   Michigan          821.0           77.0                  2.0   \n",
       "0     Alabama          731.0          211.0                  1.0   \n",
       "14   Maryland          632.0          280.0                  3.0   \n",
       "13  Louisiana          568.5          340.5                  1.5   \n",
       "7     Georgia          534.0          362.0                  1.0   \n",
       "\n",
       "    Asian_per1000  Hawaiian_per1000  Other_per1000  \n",
       "16           10.0               0.0            1.0  \n",
       "0            10.0               0.0            0.0  \n",
       "14           23.0               0.0            1.0  \n",
       "13           30.0               0.0            1.5  \n",
       "7            31.0               0.0            1.0  "
      ]
     },
     "execution_count": 69,
     "metadata": {},
     "output_type": "execute_result"
    }
   ],
   "source": [
    "state_races=rcs.groupby(['State'], as_index=False)[['Black_per1000','White_per1000','Amer_Indian_per1000','Asian_per1000','Hawaiian_per1000','Other_per1000']].mean().sort_values(['Black_per1000','White_per1000'],ascending=[0,0])\n",
    "state_races.head(5)"
   ]
  },
  {
   "cell_type": "code",
   "execution_count": 147,
   "metadata": {},
   "outputs": [
    {
     "data": {
      "application/vnd.plotly.v1+json": {
       "config": {
        "plotlyServerURL": "https://plot.ly"
       },
       "data": [
        {
         "hovertemplate": "variable=Black_per1000<br>State=%{x}<br>value=%{y}<extra></extra>",
         "legendgroup": "Black_per1000",
         "marker": {
          "color": "#636efa",
          "symbol": "circle"
         },
         "mode": "markers",
         "name": "Black_per1000",
         "orientation": "v",
         "showlegend": true,
         "type": "scatter",
         "x": [
          "Michigan",
          "Alabama",
          "Maryland",
          "Louisiana",
          "Georgia",
          "District of Columbia",
          "Tennessee",
          "Missouri",
          "Ohio",
          "New Jersey",
          "North Carolina",
          "Pennsylvania",
          "New York",
          "Illinois",
          "Virginia",
          "Wisconsin",
          "Massachusetts",
          "Indiana",
          "Florida",
          "Kentucky",
          "Minneapolis",
          "Minnesota",
          "Oklahoma",
          "Texas",
          "Kansas",
          "Colorado",
          "Nebraska",
          "California",
          "Nevada",
          "Oregon",
          "Alaska",
          "Washington",
          "Arizona",
          "Hawaii",
          "New Mexico"
         ],
         "xaxis": "x",
         "y": [
          821,
          731,
          632,
          568.5,
          534,
          500,
          455.5,
          392,
          378,
          368,
          355,
          339.5,
          331.6666666666667,
          323,
          301,
          231,
          223,
          211,
          206,
          184.5,
          182,
          153,
          151.5,
          112.46153846153847,
          111,
          101.66666666666667,
          85,
          80.82352941176471,
          73.75,
          60,
          52,
          49.5,
          42,
          28,
          27
         ],
         "yaxis": "y"
        },
        {
         "hovertemplate": "variable=White_per1000<br>State=%{x}<br>value=%{y}<extra></extra>",
         "legendgroup": "White_per1000",
         "marker": {
          "color": "#EF553B",
          "symbol": "circle"
         },
         "mode": "markers",
         "name": "White_per1000",
         "orientation": "v",
         "showlegend": true,
         "type": "scatter",
         "x": [
          "Michigan",
          "Alabama",
          "Maryland",
          "Louisiana",
          "Georgia",
          "District of Columbia",
          "Tennessee",
          "Missouri",
          "Ohio",
          "New Jersey",
          "North Carolina",
          "Pennsylvania",
          "New York",
          "Illinois",
          "Virginia",
          "Wisconsin",
          "Massachusetts",
          "Indiana",
          "Florida",
          "Kentucky",
          "Minneapolis",
          "Minnesota",
          "Oklahoma",
          "Texas",
          "Kansas",
          "Colorado",
          "Nebraska",
          "California",
          "Nevada",
          "Oregon",
          "Alaska",
          "Washington",
          "Arizona",
          "Hawaii",
          "New Mexico"
         ],
         "xaxis": "x",
         "y": [
          77,
          211,
          280,
          340.5,
          362,
          348,
          418.5,
          484.5,
          505.25,
          165,
          457.2,
          508,
          389,
          317,
          563.3333333333334,
          563,
          470,
          644.5,
          371.6666666666667,
          706.5,
          602,
          559,
          572.5,
          344.84615384615387,
          645,
          566.6666666666666,
          755.5,
          297.6470588235294,
          439.5,
          722,
          626,
          751,
          591.3333333333334,
          179,
          421
         ],
         "yaxis": "y"
        },
        {
         "hovertemplate": "variable=Amer_Indian_per1000<br>State=%{x}<br>value=%{y}<extra></extra>",
         "legendgroup": "Amer_Indian_per1000",
         "marker": {
          "color": "#00cc96",
          "symbol": "circle"
         },
         "mode": "markers",
         "name": "Amer_Indian_per1000",
         "orientation": "v",
         "showlegend": true,
         "type": "scatter",
         "x": [
          "Michigan",
          "Alabama",
          "Maryland",
          "Louisiana",
          "Georgia",
          "District of Columbia",
          "Tennessee",
          "Missouri",
          "Ohio",
          "New Jersey",
          "North Carolina",
          "Pennsylvania",
          "New York",
          "Illinois",
          "Virginia",
          "Wisconsin",
          "Massachusetts",
          "Indiana",
          "Florida",
          "Kentucky",
          "Minneapolis",
          "Minnesota",
          "Oklahoma",
          "Texas",
          "Kansas",
          "Colorado",
          "Nebraska",
          "California",
          "Nevada",
          "Oregon",
          "Alaska",
          "Washington",
          "Arizona",
          "Hawaii",
          "New Mexico"
         ],
         "xaxis": "x",
         "y": [
          2,
          1,
          3,
          1.5,
          1,
          2,
          1.5,
          2.5,
          1.75,
          2,
          2.6,
          1.5,
          3.6666666666666665,
          1,
          3,
          4,
          1,
          2,
          1.5,
          2,
          16,
          8,
          40,
          2.230769230769231,
          8,
          4.666666666666667,
          5.5,
          2.823529411764706,
          4.5,
          7,
          75,
          11.5,
          13.166666666666666,
          0,
          37
         ],
         "yaxis": "y"
        },
        {
         "hovertemplate": "variable=Asian_per1000<br>State=%{x}<br>value=%{y}<extra></extra>",
         "legendgroup": "Asian_per1000",
         "marker": {
          "color": "#ab63fa",
          "symbol": "circle"
         },
         "mode": "markers",
         "name": "Asian_per1000",
         "orientation": "v",
         "showlegend": true,
         "type": "scatter",
         "x": [
          "Michigan",
          "Alabama",
          "Maryland",
          "Louisiana",
          "Georgia",
          "District of Columbia",
          "Tennessee",
          "Missouri",
          "Ohio",
          "New Jersey",
          "North Carolina",
          "Pennsylvania",
          "New York",
          "Illinois",
          "Virginia",
          "Wisconsin",
          "Massachusetts",
          "Indiana",
          "Florida",
          "Kentucky",
          "Minneapolis",
          "Minnesota",
          "Oklahoma",
          "Texas",
          "Kansas",
          "Colorado",
          "Nebraska",
          "California",
          "Nevada",
          "Oregon",
          "Alaska",
          "Washington",
          "Arizona",
          "Hawaii",
          "New Mexico"
         ],
         "xaxis": "x",
         "y": [
          10,
          10,
          23,
          30,
          31,
          34,
          22.5,
          26,
          21.75,
          124.5,
          39.8,
          52.5,
          62,
          53,
          40,
          53.5,
          88,
          26,
          25.666666666666668,
          26.5,
          55,
          149,
          30.5,
          56.15384615384615,
          47,
          36.666666666666664,
          30.5,
          185.7058823529412,
          52,
          70,
          79,
          81,
          37.5,
          430,
          25
         ],
         "yaxis": "y"
        },
        {
         "hovertemplate": "variable=Hawaiian_per1000<br>State=%{x}<br>value=%{y}<extra></extra>",
         "legendgroup": "Hawaiian_per1000",
         "marker": {
          "color": "#FFA15A",
          "symbol": "circle"
         },
         "mode": "markers",
         "name": "Hawaiian_per1000",
         "orientation": "v",
         "showlegend": true,
         "type": "scatter",
         "x": [
          "Michigan",
          "Alabama",
          "Maryland",
          "Louisiana",
          "Georgia",
          "District of Columbia",
          "Tennessee",
          "Missouri",
          "Ohio",
          "New Jersey",
          "North Carolina",
          "Pennsylvania",
          "New York",
          "Illinois",
          "Virginia",
          "Wisconsin",
          "Massachusetts",
          "Indiana",
          "Florida",
          "Kentucky",
          "Minneapolis",
          "Minnesota",
          "Oklahoma",
          "Texas",
          "Kansas",
          "Colorado",
          "Nebraska",
          "California",
          "Nevada",
          "Oregon",
          "Alaska",
          "Washington",
          "Arizona",
          "Hawaii",
          "New Mexico"
         ],
         "xaxis": "x",
         "y": [
          0,
          0,
          0,
          0,
          0,
          0,
          0,
          0.5,
          0,
          0,
          0,
          0,
          0,
          0,
          0.6666666666666666,
          0,
          0,
          0,
          0,
          0,
          0,
          0,
          0,
          0.23076923076923078,
          0,
          1.3333333333333333,
          0,
          3.8823529411764706,
          4.75,
          5,
          19,
          4,
          1.1666666666666667,
          96,
          0
         ],
         "yaxis": "y"
        },
        {
         "hovertemplate": "variable=Other_per1000<br>State=%{x}<br>value=%{y}<extra></extra>",
         "legendgroup": "Other_per1000",
         "marker": {
          "color": "#19d3f3",
          "symbol": "circle"
         },
         "mode": "markers",
         "name": "Other_per1000",
         "orientation": "v",
         "showlegend": true,
         "type": "scatter",
         "x": [
          "Michigan",
          "Alabama",
          "Maryland",
          "Louisiana",
          "Georgia",
          "District of Columbia",
          "Tennessee",
          "Missouri",
          "Ohio",
          "New Jersey",
          "North Carolina",
          "Pennsylvania",
          "New York",
          "Illinois",
          "Virginia",
          "Wisconsin",
          "Massachusetts",
          "Indiana",
          "Florida",
          "Kentucky",
          "Minneapolis",
          "Minnesota",
          "Oklahoma",
          "Texas",
          "Kansas",
          "Colorado",
          "Nebraska",
          "California",
          "Nevada",
          "Oregon",
          "Alaska",
          "Washington",
          "Arizona",
          "Hawaii",
          "New Mexico"
         ],
         "xaxis": "x",
         "y": [
          1,
          0,
          1,
          1.5,
          1,
          2,
          1,
          1,
          1.5,
          11.5,
          2,
          2,
          3,
          1,
          1,
          1,
          16,
          2,
          2.3333333333333335,
          1,
          2,
          1,
          1,
          0.9230769230769231,
          1,
          1.6666666666666667,
          1,
          1.6470588235294117,
          0.75,
          2,
          1,
          1.5,
          1,
          0,
          2
         ],
         "yaxis": "y"
        }
       ],
       "layout": {
        "height": 500,
        "legend": {
         "title": {
          "text": "variable"
         },
         "tracegroupgap": 0
        },
        "template": {
         "data": {
          "bar": [
           {
            "error_x": {
             "color": "#2a3f5f"
            },
            "error_y": {
             "color": "#2a3f5f"
            },
            "marker": {
             "line": {
              "color": "#E5ECF6",
              "width": 0.5
             }
            },
            "type": "bar"
           }
          ],
          "barpolar": [
           {
            "marker": {
             "line": {
              "color": "#E5ECF6",
              "width": 0.5
             }
            },
            "type": "barpolar"
           }
          ],
          "carpet": [
           {
            "aaxis": {
             "endlinecolor": "#2a3f5f",
             "gridcolor": "white",
             "linecolor": "white",
             "minorgridcolor": "white",
             "startlinecolor": "#2a3f5f"
            },
            "baxis": {
             "endlinecolor": "#2a3f5f",
             "gridcolor": "white",
             "linecolor": "white",
             "minorgridcolor": "white",
             "startlinecolor": "#2a3f5f"
            },
            "type": "carpet"
           }
          ],
          "choropleth": [
           {
            "colorbar": {
             "outlinewidth": 0,
             "ticks": ""
            },
            "type": "choropleth"
           }
          ],
          "contour": [
           {
            "colorbar": {
             "outlinewidth": 0,
             "ticks": ""
            },
            "colorscale": [
             [
              0,
              "#0d0887"
             ],
             [
              0.1111111111111111,
              "#46039f"
             ],
             [
              0.2222222222222222,
              "#7201a8"
             ],
             [
              0.3333333333333333,
              "#9c179e"
             ],
             [
              0.4444444444444444,
              "#bd3786"
             ],
             [
              0.5555555555555556,
              "#d8576b"
             ],
             [
              0.6666666666666666,
              "#ed7953"
             ],
             [
              0.7777777777777778,
              "#fb9f3a"
             ],
             [
              0.8888888888888888,
              "#fdca26"
             ],
             [
              1,
              "#f0f921"
             ]
            ],
            "type": "contour"
           }
          ],
          "contourcarpet": [
           {
            "colorbar": {
             "outlinewidth": 0,
             "ticks": ""
            },
            "type": "contourcarpet"
           }
          ],
          "heatmap": [
           {
            "colorbar": {
             "outlinewidth": 0,
             "ticks": ""
            },
            "colorscale": [
             [
              0,
              "#0d0887"
             ],
             [
              0.1111111111111111,
              "#46039f"
             ],
             [
              0.2222222222222222,
              "#7201a8"
             ],
             [
              0.3333333333333333,
              "#9c179e"
             ],
             [
              0.4444444444444444,
              "#bd3786"
             ],
             [
              0.5555555555555556,
              "#d8576b"
             ],
             [
              0.6666666666666666,
              "#ed7953"
             ],
             [
              0.7777777777777778,
              "#fb9f3a"
             ],
             [
              0.8888888888888888,
              "#fdca26"
             ],
             [
              1,
              "#f0f921"
             ]
            ],
            "type": "heatmap"
           }
          ],
          "heatmapgl": [
           {
            "colorbar": {
             "outlinewidth": 0,
             "ticks": ""
            },
            "colorscale": [
             [
              0,
              "#0d0887"
             ],
             [
              0.1111111111111111,
              "#46039f"
             ],
             [
              0.2222222222222222,
              "#7201a8"
             ],
             [
              0.3333333333333333,
              "#9c179e"
             ],
             [
              0.4444444444444444,
              "#bd3786"
             ],
             [
              0.5555555555555556,
              "#d8576b"
             ],
             [
              0.6666666666666666,
              "#ed7953"
             ],
             [
              0.7777777777777778,
              "#fb9f3a"
             ],
             [
              0.8888888888888888,
              "#fdca26"
             ],
             [
              1,
              "#f0f921"
             ]
            ],
            "type": "heatmapgl"
           }
          ],
          "histogram": [
           {
            "marker": {
             "colorbar": {
              "outlinewidth": 0,
              "ticks": ""
             }
            },
            "type": "histogram"
           }
          ],
          "histogram2d": [
           {
            "colorbar": {
             "outlinewidth": 0,
             "ticks": ""
            },
            "colorscale": [
             [
              0,
              "#0d0887"
             ],
             [
              0.1111111111111111,
              "#46039f"
             ],
             [
              0.2222222222222222,
              "#7201a8"
             ],
             [
              0.3333333333333333,
              "#9c179e"
             ],
             [
              0.4444444444444444,
              "#bd3786"
             ],
             [
              0.5555555555555556,
              "#d8576b"
             ],
             [
              0.6666666666666666,
              "#ed7953"
             ],
             [
              0.7777777777777778,
              "#fb9f3a"
             ],
             [
              0.8888888888888888,
              "#fdca26"
             ],
             [
              1,
              "#f0f921"
             ]
            ],
            "type": "histogram2d"
           }
          ],
          "histogram2dcontour": [
           {
            "colorbar": {
             "outlinewidth": 0,
             "ticks": ""
            },
            "colorscale": [
             [
              0,
              "#0d0887"
             ],
             [
              0.1111111111111111,
              "#46039f"
             ],
             [
              0.2222222222222222,
              "#7201a8"
             ],
             [
              0.3333333333333333,
              "#9c179e"
             ],
             [
              0.4444444444444444,
              "#bd3786"
             ],
             [
              0.5555555555555556,
              "#d8576b"
             ],
             [
              0.6666666666666666,
              "#ed7953"
             ],
             [
              0.7777777777777778,
              "#fb9f3a"
             ],
             [
              0.8888888888888888,
              "#fdca26"
             ],
             [
              1,
              "#f0f921"
             ]
            ],
            "type": "histogram2dcontour"
           }
          ],
          "mesh3d": [
           {
            "colorbar": {
             "outlinewidth": 0,
             "ticks": ""
            },
            "type": "mesh3d"
           }
          ],
          "parcoords": [
           {
            "line": {
             "colorbar": {
              "outlinewidth": 0,
              "ticks": ""
             }
            },
            "type": "parcoords"
           }
          ],
          "pie": [
           {
            "automargin": true,
            "type": "pie"
           }
          ],
          "scatter": [
           {
            "marker": {
             "colorbar": {
              "outlinewidth": 0,
              "ticks": ""
             }
            },
            "type": "scatter"
           }
          ],
          "scatter3d": [
           {
            "line": {
             "colorbar": {
              "outlinewidth": 0,
              "ticks": ""
             }
            },
            "marker": {
             "colorbar": {
              "outlinewidth": 0,
              "ticks": ""
             }
            },
            "type": "scatter3d"
           }
          ],
          "scattercarpet": [
           {
            "marker": {
             "colorbar": {
              "outlinewidth": 0,
              "ticks": ""
             }
            },
            "type": "scattercarpet"
           }
          ],
          "scattergeo": [
           {
            "marker": {
             "colorbar": {
              "outlinewidth": 0,
              "ticks": ""
             }
            },
            "type": "scattergeo"
           }
          ],
          "scattergl": [
           {
            "marker": {
             "colorbar": {
              "outlinewidth": 0,
              "ticks": ""
             }
            },
            "type": "scattergl"
           }
          ],
          "scattermapbox": [
           {
            "marker": {
             "colorbar": {
              "outlinewidth": 0,
              "ticks": ""
             }
            },
            "type": "scattermapbox"
           }
          ],
          "scatterpolar": [
           {
            "marker": {
             "colorbar": {
              "outlinewidth": 0,
              "ticks": ""
             }
            },
            "type": "scatterpolar"
           }
          ],
          "scatterpolargl": [
           {
            "marker": {
             "colorbar": {
              "outlinewidth": 0,
              "ticks": ""
             }
            },
            "type": "scatterpolargl"
           }
          ],
          "scatterternary": [
           {
            "marker": {
             "colorbar": {
              "outlinewidth": 0,
              "ticks": ""
             }
            },
            "type": "scatterternary"
           }
          ],
          "surface": [
           {
            "colorbar": {
             "outlinewidth": 0,
             "ticks": ""
            },
            "colorscale": [
             [
              0,
              "#0d0887"
             ],
             [
              0.1111111111111111,
              "#46039f"
             ],
             [
              0.2222222222222222,
              "#7201a8"
             ],
             [
              0.3333333333333333,
              "#9c179e"
             ],
             [
              0.4444444444444444,
              "#bd3786"
             ],
             [
              0.5555555555555556,
              "#d8576b"
             ],
             [
              0.6666666666666666,
              "#ed7953"
             ],
             [
              0.7777777777777778,
              "#fb9f3a"
             ],
             [
              0.8888888888888888,
              "#fdca26"
             ],
             [
              1,
              "#f0f921"
             ]
            ],
            "type": "surface"
           }
          ],
          "table": [
           {
            "cells": {
             "fill": {
              "color": "#EBF0F8"
             },
             "line": {
              "color": "white"
             }
            },
            "header": {
             "fill": {
              "color": "#C8D4E3"
             },
             "line": {
              "color": "white"
             }
            },
            "type": "table"
           }
          ]
         },
         "layout": {
          "annotationdefaults": {
           "arrowcolor": "#2a3f5f",
           "arrowhead": 0,
           "arrowwidth": 1
          },
          "coloraxis": {
           "colorbar": {
            "outlinewidth": 0,
            "ticks": ""
           }
          },
          "colorscale": {
           "diverging": [
            [
             0,
             "#8e0152"
            ],
            [
             0.1,
             "#c51b7d"
            ],
            [
             0.2,
             "#de77ae"
            ],
            [
             0.3,
             "#f1b6da"
            ],
            [
             0.4,
             "#fde0ef"
            ],
            [
             0.5,
             "#f7f7f7"
            ],
            [
             0.6,
             "#e6f5d0"
            ],
            [
             0.7,
             "#b8e186"
            ],
            [
             0.8,
             "#7fbc41"
            ],
            [
             0.9,
             "#4d9221"
            ],
            [
             1,
             "#276419"
            ]
           ],
           "sequential": [
            [
             0,
             "#0d0887"
            ],
            [
             0.1111111111111111,
             "#46039f"
            ],
            [
             0.2222222222222222,
             "#7201a8"
            ],
            [
             0.3333333333333333,
             "#9c179e"
            ],
            [
             0.4444444444444444,
             "#bd3786"
            ],
            [
             0.5555555555555556,
             "#d8576b"
            ],
            [
             0.6666666666666666,
             "#ed7953"
            ],
            [
             0.7777777777777778,
             "#fb9f3a"
            ],
            [
             0.8888888888888888,
             "#fdca26"
            ],
            [
             1,
             "#f0f921"
            ]
           ],
           "sequentialminus": [
            [
             0,
             "#0d0887"
            ],
            [
             0.1111111111111111,
             "#46039f"
            ],
            [
             0.2222222222222222,
             "#7201a8"
            ],
            [
             0.3333333333333333,
             "#9c179e"
            ],
            [
             0.4444444444444444,
             "#bd3786"
            ],
            [
             0.5555555555555556,
             "#d8576b"
            ],
            [
             0.6666666666666666,
             "#ed7953"
            ],
            [
             0.7777777777777778,
             "#fb9f3a"
            ],
            [
             0.8888888888888888,
             "#fdca26"
            ],
            [
             1,
             "#f0f921"
            ]
           ]
          },
          "colorway": [
           "#636efa",
           "#EF553B",
           "#00cc96",
           "#ab63fa",
           "#FFA15A",
           "#19d3f3",
           "#FF6692",
           "#B6E880",
           "#FF97FF",
           "#FECB52"
          ],
          "font": {
           "color": "#2a3f5f"
          },
          "geo": {
           "bgcolor": "white",
           "lakecolor": "white",
           "landcolor": "#E5ECF6",
           "showlakes": true,
           "showland": true,
           "subunitcolor": "white"
          },
          "hoverlabel": {
           "align": "left"
          },
          "hovermode": "closest",
          "mapbox": {
           "style": "light"
          },
          "paper_bgcolor": "white",
          "plot_bgcolor": "#E5ECF6",
          "polar": {
           "angularaxis": {
            "gridcolor": "white",
            "linecolor": "white",
            "ticks": ""
           },
           "bgcolor": "#E5ECF6",
           "radialaxis": {
            "gridcolor": "white",
            "linecolor": "white",
            "ticks": ""
           }
          },
          "scene": {
           "xaxis": {
            "backgroundcolor": "#E5ECF6",
            "gridcolor": "white",
            "gridwidth": 2,
            "linecolor": "white",
            "showbackground": true,
            "ticks": "",
            "zerolinecolor": "white"
           },
           "yaxis": {
            "backgroundcolor": "#E5ECF6",
            "gridcolor": "white",
            "gridwidth": 2,
            "linecolor": "white",
            "showbackground": true,
            "ticks": "",
            "zerolinecolor": "white"
           },
           "zaxis": {
            "backgroundcolor": "#E5ECF6",
            "gridcolor": "white",
            "gridwidth": 2,
            "linecolor": "white",
            "showbackground": true,
            "ticks": "",
            "zerolinecolor": "white"
           }
          },
          "shapedefaults": {
           "line": {
            "color": "#2a3f5f"
           }
          },
          "ternary": {
           "aaxis": {
            "gridcolor": "white",
            "linecolor": "white",
            "ticks": ""
           },
           "baxis": {
            "gridcolor": "white",
            "linecolor": "white",
            "ticks": ""
           },
           "bgcolor": "#E5ECF6",
           "caxis": {
            "gridcolor": "white",
            "linecolor": "white",
            "ticks": ""
           }
          },
          "title": {
           "x": 0.05
          },
          "xaxis": {
           "automargin": true,
           "gridcolor": "white",
           "linecolor": "white",
           "ticks": "",
           "title": {
            "standoff": 15
           },
           "zerolinecolor": "white",
           "zerolinewidth": 2
          },
          "yaxis": {
           "automargin": true,
           "gridcolor": "white",
           "linecolor": "white",
           "ticks": "",
           "title": {
            "standoff": 15
           },
           "zerolinecolor": "white",
           "zerolinewidth": 2
          }
         }
        },
        "title": {
         "text": "Racer per 1000 hab x State"
        },
        "xaxis": {
         "anchor": "y",
         "domain": [
          0,
          1
         ],
         "title": {
          "text": ""
         }
        },
        "yaxis": {
         "anchor": "x",
         "domain": [
          0,
          1
         ],
         "title": {
          "text": "Race per 1000 hab"
         }
        }
       }
      },
      "text/html": [
       "<div>\n",
       "        \n",
       "        \n",
       "            <div id=\"904352fd-ba88-4ea3-a27a-d825532d76eb\" class=\"plotly-graph-div\" style=\"height:500px; width:100%;\"></div>\n",
       "            <script type=\"text/javascript\">\n",
       "                require([\"plotly\"], function(Plotly) {\n",
       "                    window.PLOTLYENV=window.PLOTLYENV || {};\n",
       "                    \n",
       "                if (document.getElementById(\"904352fd-ba88-4ea3-a27a-d825532d76eb\")) {\n",
       "                    Plotly.newPlot(\n",
       "                        '904352fd-ba88-4ea3-a27a-d825532d76eb',\n",
       "                        [{\"hovertemplate\": \"variable=Black_per1000<br>State=%{x}<br>value=%{y}<extra></extra>\", \"legendgroup\": \"Black_per1000\", \"marker\": {\"color\": \"#636efa\", \"symbol\": \"circle\"}, \"mode\": \"markers\", \"name\": \"Black_per1000\", \"orientation\": \"v\", \"showlegend\": true, \"type\": \"scatter\", \"x\": [\"Michigan\", \"Alabama\", \"Maryland\", \"Louisiana\", \"Georgia\", \"District of Columbia\", \"Tennessee\", \"Missouri\", \"Ohio\", \"New Jersey\", \"North Carolina\", \"Pennsylvania\", \"New York\", \"Illinois\", \"Virginia\", \"Wisconsin\", \"Massachusetts\", \"Indiana\", \"Florida\", \"Kentucky\", \"Minneapolis\", \"Minnesota\", \"Oklahoma\", \"Texas\", \"Kansas\", \"Colorado\", \"Nebraska\", \"California\", \"Nevada\", \"Oregon\", \"Alaska\", \"Washington\", \"Arizona\", \"Hawaii\", \"New Mexico\"], \"xaxis\": \"x\", \"y\": [821.0, 731.0, 632.0, 568.5, 534.0, 500.0, 455.5, 392.0, 378.0, 368.0, 355.0, 339.5, 331.6666666666667, 323.0, 301.0, 231.0, 223.0, 211.0, 206.0, 184.5, 182.0, 153.0, 151.5, 112.46153846153847, 111.0, 101.66666666666667, 85.0, 80.82352941176471, 73.75, 60.0, 52.0, 49.5, 42.0, 28.0, 27.0], \"yaxis\": \"y\"}, {\"hovertemplate\": \"variable=White_per1000<br>State=%{x}<br>value=%{y}<extra></extra>\", \"legendgroup\": \"White_per1000\", \"marker\": {\"color\": \"#EF553B\", \"symbol\": \"circle\"}, \"mode\": \"markers\", \"name\": \"White_per1000\", \"orientation\": \"v\", \"showlegend\": true, \"type\": \"scatter\", \"x\": [\"Michigan\", \"Alabama\", \"Maryland\", \"Louisiana\", \"Georgia\", \"District of Columbia\", \"Tennessee\", \"Missouri\", \"Ohio\", \"New Jersey\", \"North Carolina\", \"Pennsylvania\", \"New York\", \"Illinois\", \"Virginia\", \"Wisconsin\", \"Massachusetts\", \"Indiana\", \"Florida\", \"Kentucky\", \"Minneapolis\", \"Minnesota\", \"Oklahoma\", \"Texas\", \"Kansas\", \"Colorado\", \"Nebraska\", \"California\", \"Nevada\", \"Oregon\", \"Alaska\", \"Washington\", \"Arizona\", \"Hawaii\", \"New Mexico\"], \"xaxis\": \"x\", \"y\": [77.0, 211.0, 280.0, 340.5, 362.0, 348.0, 418.5, 484.5, 505.25, 165.0, 457.2, 508.0, 389.0, 317.0, 563.3333333333334, 563.0, 470.0, 644.5, 371.6666666666667, 706.5, 602.0, 559.0, 572.5, 344.84615384615387, 645.0, 566.6666666666666, 755.5, 297.6470588235294, 439.5, 722.0, 626.0, 751.0, 591.3333333333334, 179.0, 421.0], \"yaxis\": \"y\"}, {\"hovertemplate\": \"variable=Amer_Indian_per1000<br>State=%{x}<br>value=%{y}<extra></extra>\", \"legendgroup\": \"Amer_Indian_per1000\", \"marker\": {\"color\": \"#00cc96\", \"symbol\": \"circle\"}, \"mode\": \"markers\", \"name\": \"Amer_Indian_per1000\", \"orientation\": \"v\", \"showlegend\": true, \"type\": \"scatter\", \"x\": [\"Michigan\", \"Alabama\", \"Maryland\", \"Louisiana\", \"Georgia\", \"District of Columbia\", \"Tennessee\", \"Missouri\", \"Ohio\", \"New Jersey\", \"North Carolina\", \"Pennsylvania\", \"New York\", \"Illinois\", \"Virginia\", \"Wisconsin\", \"Massachusetts\", \"Indiana\", \"Florida\", \"Kentucky\", \"Minneapolis\", \"Minnesota\", \"Oklahoma\", \"Texas\", \"Kansas\", \"Colorado\", \"Nebraska\", \"California\", \"Nevada\", \"Oregon\", \"Alaska\", \"Washington\", \"Arizona\", \"Hawaii\", \"New Mexico\"], \"xaxis\": \"x\", \"y\": [2.0, 1.0, 3.0, 1.5, 1.0, 2.0, 1.5, 2.5, 1.75, 2.0, 2.6, 1.5, 3.6666666666666665, 1.0, 3.0, 4.0, 1.0, 2.0, 1.5, 2.0, 16.0, 8.0, 40.0, 2.230769230769231, 8.0, 4.666666666666667, 5.5, 2.823529411764706, 4.5, 7.0, 75.0, 11.5, 13.166666666666666, 0.0, 37.0], \"yaxis\": \"y\"}, {\"hovertemplate\": \"variable=Asian_per1000<br>State=%{x}<br>value=%{y}<extra></extra>\", \"legendgroup\": \"Asian_per1000\", \"marker\": {\"color\": \"#ab63fa\", \"symbol\": \"circle\"}, \"mode\": \"markers\", \"name\": \"Asian_per1000\", \"orientation\": \"v\", \"showlegend\": true, \"type\": \"scatter\", \"x\": [\"Michigan\", \"Alabama\", \"Maryland\", \"Louisiana\", \"Georgia\", \"District of Columbia\", \"Tennessee\", \"Missouri\", \"Ohio\", \"New Jersey\", \"North Carolina\", \"Pennsylvania\", \"New York\", \"Illinois\", \"Virginia\", \"Wisconsin\", \"Massachusetts\", \"Indiana\", \"Florida\", \"Kentucky\", \"Minneapolis\", \"Minnesota\", \"Oklahoma\", \"Texas\", \"Kansas\", \"Colorado\", \"Nebraska\", \"California\", \"Nevada\", \"Oregon\", \"Alaska\", \"Washington\", \"Arizona\", \"Hawaii\", \"New Mexico\"], \"xaxis\": \"x\", \"y\": [10.0, 10.0, 23.0, 30.0, 31.0, 34.0, 22.5, 26.0, 21.75, 124.5, 39.8, 52.5, 62.0, 53.0, 40.0, 53.5, 88.0, 26.0, 25.666666666666668, 26.5, 55.0, 149.0, 30.5, 56.15384615384615, 47.0, 36.666666666666664, 30.5, 185.7058823529412, 52.0, 70.0, 79.0, 81.0, 37.5, 430.0, 25.0], \"yaxis\": \"y\"}, {\"hovertemplate\": \"variable=Hawaiian_per1000<br>State=%{x}<br>value=%{y}<extra></extra>\", \"legendgroup\": \"Hawaiian_per1000\", \"marker\": {\"color\": \"#FFA15A\", \"symbol\": \"circle\"}, \"mode\": \"markers\", \"name\": \"Hawaiian_per1000\", \"orientation\": \"v\", \"showlegend\": true, \"type\": \"scatter\", \"x\": [\"Michigan\", \"Alabama\", \"Maryland\", \"Louisiana\", \"Georgia\", \"District of Columbia\", \"Tennessee\", \"Missouri\", \"Ohio\", \"New Jersey\", \"North Carolina\", \"Pennsylvania\", \"New York\", \"Illinois\", \"Virginia\", \"Wisconsin\", \"Massachusetts\", \"Indiana\", \"Florida\", \"Kentucky\", \"Minneapolis\", \"Minnesota\", \"Oklahoma\", \"Texas\", \"Kansas\", \"Colorado\", \"Nebraska\", \"California\", \"Nevada\", \"Oregon\", \"Alaska\", \"Washington\", \"Arizona\", \"Hawaii\", \"New Mexico\"], \"xaxis\": \"x\", \"y\": [0.0, 0.0, 0.0, 0.0, 0.0, 0.0, 0.0, 0.5, 0.0, 0.0, 0.0, 0.0, 0.0, 0.0, 0.6666666666666666, 0.0, 0.0, 0.0, 0.0, 0.0, 0.0, 0.0, 0.0, 0.23076923076923078, 0.0, 1.3333333333333333, 0.0, 3.8823529411764706, 4.75, 5.0, 19.0, 4.0, 1.1666666666666667, 96.0, 0.0], \"yaxis\": \"y\"}, {\"hovertemplate\": \"variable=Other_per1000<br>State=%{x}<br>value=%{y}<extra></extra>\", \"legendgroup\": \"Other_per1000\", \"marker\": {\"color\": \"#19d3f3\", \"symbol\": \"circle\"}, \"mode\": \"markers\", \"name\": \"Other_per1000\", \"orientation\": \"v\", \"showlegend\": true, \"type\": \"scatter\", \"x\": [\"Michigan\", \"Alabama\", \"Maryland\", \"Louisiana\", \"Georgia\", \"District of Columbia\", \"Tennessee\", \"Missouri\", \"Ohio\", \"New Jersey\", \"North Carolina\", \"Pennsylvania\", \"New York\", \"Illinois\", \"Virginia\", \"Wisconsin\", \"Massachusetts\", \"Indiana\", \"Florida\", \"Kentucky\", \"Minneapolis\", \"Minnesota\", \"Oklahoma\", \"Texas\", \"Kansas\", \"Colorado\", \"Nebraska\", \"California\", \"Nevada\", \"Oregon\", \"Alaska\", \"Washington\", \"Arizona\", \"Hawaii\", \"New Mexico\"], \"xaxis\": \"x\", \"y\": [1.0, 0.0, 1.0, 1.5, 1.0, 2.0, 1.0, 1.0, 1.5, 11.5, 2.0, 2.0, 3.0, 1.0, 1.0, 1.0, 16.0, 2.0, 2.3333333333333335, 1.0, 2.0, 1.0, 1.0, 0.9230769230769231, 1.0, 1.6666666666666667, 1.0, 1.6470588235294117, 0.75, 2.0, 1.0, 1.5, 1.0, 0.0, 2.0], \"yaxis\": \"y\"}],\n",
       "                        {\"height\": 500, \"legend\": {\"title\": {\"text\": \"variable\"}, \"tracegroupgap\": 0}, \"template\": {\"data\": {\"bar\": [{\"error_x\": {\"color\": \"#2a3f5f\"}, \"error_y\": {\"color\": \"#2a3f5f\"}, \"marker\": {\"line\": {\"color\": \"#E5ECF6\", \"width\": 0.5}}, \"type\": \"bar\"}], \"barpolar\": [{\"marker\": {\"line\": {\"color\": \"#E5ECF6\", \"width\": 0.5}}, \"type\": \"barpolar\"}], \"carpet\": [{\"aaxis\": {\"endlinecolor\": \"#2a3f5f\", \"gridcolor\": \"white\", \"linecolor\": \"white\", \"minorgridcolor\": \"white\", \"startlinecolor\": \"#2a3f5f\"}, \"baxis\": {\"endlinecolor\": \"#2a3f5f\", \"gridcolor\": \"white\", \"linecolor\": \"white\", \"minorgridcolor\": \"white\", \"startlinecolor\": \"#2a3f5f\"}, \"type\": \"carpet\"}], \"choropleth\": [{\"colorbar\": {\"outlinewidth\": 0, \"ticks\": \"\"}, \"type\": \"choropleth\"}], \"contour\": [{\"colorbar\": {\"outlinewidth\": 0, \"ticks\": \"\"}, \"colorscale\": [[0.0, \"#0d0887\"], [0.1111111111111111, \"#46039f\"], [0.2222222222222222, \"#7201a8\"], [0.3333333333333333, \"#9c179e\"], [0.4444444444444444, \"#bd3786\"], [0.5555555555555556, \"#d8576b\"], [0.6666666666666666, \"#ed7953\"], [0.7777777777777778, \"#fb9f3a\"], [0.8888888888888888, \"#fdca26\"], [1.0, \"#f0f921\"]], \"type\": \"contour\"}], \"contourcarpet\": [{\"colorbar\": {\"outlinewidth\": 0, \"ticks\": \"\"}, \"type\": \"contourcarpet\"}], \"heatmap\": [{\"colorbar\": {\"outlinewidth\": 0, \"ticks\": \"\"}, \"colorscale\": [[0.0, \"#0d0887\"], [0.1111111111111111, \"#46039f\"], [0.2222222222222222, \"#7201a8\"], [0.3333333333333333, \"#9c179e\"], [0.4444444444444444, \"#bd3786\"], [0.5555555555555556, \"#d8576b\"], [0.6666666666666666, \"#ed7953\"], [0.7777777777777778, \"#fb9f3a\"], [0.8888888888888888, \"#fdca26\"], [1.0, \"#f0f921\"]], \"type\": \"heatmap\"}], \"heatmapgl\": [{\"colorbar\": {\"outlinewidth\": 0, \"ticks\": \"\"}, \"colorscale\": [[0.0, \"#0d0887\"], [0.1111111111111111, \"#46039f\"], [0.2222222222222222, \"#7201a8\"], [0.3333333333333333, \"#9c179e\"], [0.4444444444444444, \"#bd3786\"], [0.5555555555555556, \"#d8576b\"], [0.6666666666666666, \"#ed7953\"], [0.7777777777777778, \"#fb9f3a\"], [0.8888888888888888, \"#fdca26\"], [1.0, \"#f0f921\"]], \"type\": \"heatmapgl\"}], \"histogram\": [{\"marker\": {\"colorbar\": {\"outlinewidth\": 0, \"ticks\": \"\"}}, \"type\": \"histogram\"}], \"histogram2d\": [{\"colorbar\": {\"outlinewidth\": 0, \"ticks\": \"\"}, \"colorscale\": [[0.0, \"#0d0887\"], [0.1111111111111111, \"#46039f\"], [0.2222222222222222, \"#7201a8\"], [0.3333333333333333, \"#9c179e\"], [0.4444444444444444, \"#bd3786\"], [0.5555555555555556, \"#d8576b\"], [0.6666666666666666, \"#ed7953\"], [0.7777777777777778, \"#fb9f3a\"], [0.8888888888888888, \"#fdca26\"], [1.0, \"#f0f921\"]], \"type\": \"histogram2d\"}], \"histogram2dcontour\": [{\"colorbar\": {\"outlinewidth\": 0, \"ticks\": \"\"}, \"colorscale\": [[0.0, \"#0d0887\"], [0.1111111111111111, \"#46039f\"], [0.2222222222222222, \"#7201a8\"], [0.3333333333333333, \"#9c179e\"], [0.4444444444444444, \"#bd3786\"], [0.5555555555555556, \"#d8576b\"], [0.6666666666666666, \"#ed7953\"], [0.7777777777777778, \"#fb9f3a\"], [0.8888888888888888, \"#fdca26\"], [1.0, \"#f0f921\"]], \"type\": \"histogram2dcontour\"}], \"mesh3d\": [{\"colorbar\": {\"outlinewidth\": 0, \"ticks\": \"\"}, \"type\": \"mesh3d\"}], \"parcoords\": [{\"line\": {\"colorbar\": {\"outlinewidth\": 0, \"ticks\": \"\"}}, \"type\": \"parcoords\"}], \"pie\": [{\"automargin\": true, \"type\": \"pie\"}], \"scatter\": [{\"marker\": {\"colorbar\": {\"outlinewidth\": 0, \"ticks\": \"\"}}, \"type\": \"scatter\"}], \"scatter3d\": [{\"line\": {\"colorbar\": {\"outlinewidth\": 0, \"ticks\": \"\"}}, \"marker\": {\"colorbar\": {\"outlinewidth\": 0, \"ticks\": \"\"}}, \"type\": \"scatter3d\"}], \"scattercarpet\": [{\"marker\": {\"colorbar\": {\"outlinewidth\": 0, \"ticks\": \"\"}}, \"type\": \"scattercarpet\"}], \"scattergeo\": [{\"marker\": {\"colorbar\": {\"outlinewidth\": 0, \"ticks\": \"\"}}, \"type\": \"scattergeo\"}], \"scattergl\": [{\"marker\": {\"colorbar\": {\"outlinewidth\": 0, \"ticks\": \"\"}}, \"type\": \"scattergl\"}], \"scattermapbox\": [{\"marker\": {\"colorbar\": {\"outlinewidth\": 0, \"ticks\": \"\"}}, \"type\": \"scattermapbox\"}], \"scatterpolar\": [{\"marker\": {\"colorbar\": {\"outlinewidth\": 0, \"ticks\": \"\"}}, \"type\": \"scatterpolar\"}], \"scatterpolargl\": [{\"marker\": {\"colorbar\": {\"outlinewidth\": 0, \"ticks\": \"\"}}, \"type\": \"scatterpolargl\"}], \"scatterternary\": [{\"marker\": {\"colorbar\": {\"outlinewidth\": 0, \"ticks\": \"\"}}, \"type\": \"scatterternary\"}], \"surface\": [{\"colorbar\": {\"outlinewidth\": 0, \"ticks\": \"\"}, \"colorscale\": [[0.0, \"#0d0887\"], [0.1111111111111111, \"#46039f\"], [0.2222222222222222, \"#7201a8\"], [0.3333333333333333, \"#9c179e\"], [0.4444444444444444, \"#bd3786\"], [0.5555555555555556, \"#d8576b\"], [0.6666666666666666, \"#ed7953\"], [0.7777777777777778, \"#fb9f3a\"], [0.8888888888888888, \"#fdca26\"], [1.0, \"#f0f921\"]], \"type\": \"surface\"}], \"table\": [{\"cells\": {\"fill\": {\"color\": \"#EBF0F8\"}, \"line\": {\"color\": \"white\"}}, \"header\": {\"fill\": {\"color\": \"#C8D4E3\"}, \"line\": {\"color\": \"white\"}}, \"type\": \"table\"}]}, \"layout\": {\"annotationdefaults\": {\"arrowcolor\": \"#2a3f5f\", \"arrowhead\": 0, \"arrowwidth\": 1}, \"coloraxis\": {\"colorbar\": {\"outlinewidth\": 0, \"ticks\": \"\"}}, \"colorscale\": {\"diverging\": [[0, \"#8e0152\"], [0.1, \"#c51b7d\"], [0.2, \"#de77ae\"], [0.3, \"#f1b6da\"], [0.4, \"#fde0ef\"], [0.5, \"#f7f7f7\"], [0.6, \"#e6f5d0\"], [0.7, \"#b8e186\"], [0.8, \"#7fbc41\"], [0.9, \"#4d9221\"], [1, \"#276419\"]], \"sequential\": [[0.0, \"#0d0887\"], [0.1111111111111111, \"#46039f\"], [0.2222222222222222, \"#7201a8\"], [0.3333333333333333, \"#9c179e\"], [0.4444444444444444, \"#bd3786\"], [0.5555555555555556, \"#d8576b\"], [0.6666666666666666, \"#ed7953\"], [0.7777777777777778, \"#fb9f3a\"], [0.8888888888888888, \"#fdca26\"], [1.0, \"#f0f921\"]], \"sequentialminus\": [[0.0, \"#0d0887\"], [0.1111111111111111, \"#46039f\"], [0.2222222222222222, \"#7201a8\"], [0.3333333333333333, \"#9c179e\"], [0.4444444444444444, \"#bd3786\"], [0.5555555555555556, \"#d8576b\"], [0.6666666666666666, \"#ed7953\"], [0.7777777777777778, \"#fb9f3a\"], [0.8888888888888888, \"#fdca26\"], [1.0, \"#f0f921\"]]}, \"colorway\": [\"#636efa\", \"#EF553B\", \"#00cc96\", \"#ab63fa\", \"#FFA15A\", \"#19d3f3\", \"#FF6692\", \"#B6E880\", \"#FF97FF\", \"#FECB52\"], \"font\": {\"color\": \"#2a3f5f\"}, \"geo\": {\"bgcolor\": \"white\", \"lakecolor\": \"white\", \"landcolor\": \"#E5ECF6\", \"showlakes\": true, \"showland\": true, \"subunitcolor\": \"white\"}, \"hoverlabel\": {\"align\": \"left\"}, \"hovermode\": \"closest\", \"mapbox\": {\"style\": \"light\"}, \"paper_bgcolor\": \"white\", \"plot_bgcolor\": \"#E5ECF6\", \"polar\": {\"angularaxis\": {\"gridcolor\": \"white\", \"linecolor\": \"white\", \"ticks\": \"\"}, \"bgcolor\": \"#E5ECF6\", \"radialaxis\": {\"gridcolor\": \"white\", \"linecolor\": \"white\", \"ticks\": \"\"}}, \"scene\": {\"xaxis\": {\"backgroundcolor\": \"#E5ECF6\", \"gridcolor\": \"white\", \"gridwidth\": 2, \"linecolor\": \"white\", \"showbackground\": true, \"ticks\": \"\", \"zerolinecolor\": \"white\"}, \"yaxis\": {\"backgroundcolor\": \"#E5ECF6\", \"gridcolor\": \"white\", \"gridwidth\": 2, \"linecolor\": \"white\", \"showbackground\": true, \"ticks\": \"\", \"zerolinecolor\": \"white\"}, \"zaxis\": {\"backgroundcolor\": \"#E5ECF6\", \"gridcolor\": \"white\", \"gridwidth\": 2, \"linecolor\": \"white\", \"showbackground\": true, \"ticks\": \"\", \"zerolinecolor\": \"white\"}}, \"shapedefaults\": {\"line\": {\"color\": \"#2a3f5f\"}}, \"ternary\": {\"aaxis\": {\"gridcolor\": \"white\", \"linecolor\": \"white\", \"ticks\": \"\"}, \"baxis\": {\"gridcolor\": \"white\", \"linecolor\": \"white\", \"ticks\": \"\"}, \"bgcolor\": \"#E5ECF6\", \"caxis\": {\"gridcolor\": \"white\", \"linecolor\": \"white\", \"ticks\": \"\"}}, \"title\": {\"x\": 0.05}, \"xaxis\": {\"automargin\": true, \"gridcolor\": \"white\", \"linecolor\": \"white\", \"ticks\": \"\", \"title\": {\"standoff\": 15}, \"zerolinecolor\": \"white\", \"zerolinewidth\": 2}, \"yaxis\": {\"automargin\": true, \"gridcolor\": \"white\", \"linecolor\": \"white\", \"ticks\": \"\", \"title\": {\"standoff\": 15}, \"zerolinecolor\": \"white\", \"zerolinewidth\": 2}}}, \"title\": {\"text\": \"Racer per 1000 hab x State\"}, \"xaxis\": {\"anchor\": \"y\", \"domain\": [0.0, 1.0], \"title\": {\"text\": \"\"}}, \"yaxis\": {\"anchor\": \"x\", \"domain\": [0.0, 1.0], \"title\": {\"text\": \"Race per 1000 hab\"}}},\n",
       "                        {\"responsive\": true}\n",
       "                    ).then(function(){\n",
       "                            \n",
       "var gd = document.getElementById('904352fd-ba88-4ea3-a27a-d825532d76eb');\n",
       "var x = new MutationObserver(function (mutations, observer) {{\n",
       "        var display = window.getComputedStyle(gd).display;\n",
       "        if (!display || display === 'none') {{\n",
       "            console.log([gd, 'removed!']);\n",
       "            Plotly.purge(gd);\n",
       "            observer.disconnect();\n",
       "        }}\n",
       "}});\n",
       "\n",
       "// Listen for the removal of the full notebook cells\n",
       "var notebookContainer = gd.closest('#notebook-container');\n",
       "if (notebookContainer) {{\n",
       "    x.observe(notebookContainer, {childList: true});\n",
       "}}\n",
       "\n",
       "// Listen for the clearing of the current output cell\n",
       "var outputEl = gd.closest('.output');\n",
       "if (outputEl) {{\n",
       "    x.observe(outputEl, {childList: true});\n",
       "}}\n",
       "\n",
       "                        })\n",
       "                };\n",
       "                });\n",
       "            </script>\n",
       "        </div>"
      ]
     },
     "metadata": {},
     "output_type": "display_data"
    }
   ],
   "source": [
    "fig = px.scatter(state_races, x='State', y=['Black_per1000','White_per1000','Amer_Indian_per1000','Asian_per1000','Hawaiian_per1000','Other_per1000'], title='Racer per 1000 hab x State',height=500)\n",
    "fig.update_layout(yaxis=dict(title='Race per 1000 hab'), xaxis=dict(title=''))\n",
    "fig.show()"
   ]
  },
  {
   "cell_type": "markdown",
   "metadata": {},
   "source": [
    "- total of violent crimes \n",
    "- c_p = (total if violent crimes/total of people)*1000"
   ]
  },
  {
   "cell_type": "code",
   "execution_count": 115,
   "metadata": {},
   "outputs": [
    {
     "data": {
      "text/html": [
       "<div>\n",
       "<style scoped>\n",
       "    .dataframe tbody tr th:only-of-type {\n",
       "        vertical-align: middle;\n",
       "    }\n",
       "\n",
       "    .dataframe tbody tr th {\n",
       "        vertical-align: top;\n",
       "    }\n",
       "\n",
       "    .dataframe thead th {\n",
       "        text-align: right;\n",
       "    }\n",
       "</style>\n",
       "<table border=\"1\" class=\"dataframe\">\n",
       "  <thead>\n",
       "    <tr style=\"text-align: right;\">\n",
       "      <th></th>\n",
       "      <th>PD</th>\n",
       "      <th>Total</th>\n",
       "      <th>Violent crimes 2013 (if reported by agency)</th>\n",
       "      <th>Violent crimes 2014 (if reported by agency)</th>\n",
       "      <th>Violent crimes 2015 (if reported by agency)</th>\n",
       "      <th>Violent crimes 2016 (if reported by agency)</th>\n",
       "      <th>Violent crimes 2017 (if reported by agency)</th>\n",
       "      <th>Violent crimes 2018 (if reported by agency)</th>\n",
       "      <th>2013 Total Arrests (UCR Data)</th>\n",
       "      <th>2014 Total Arrests</th>\n",
       "      <th>2015 Total Arrests</th>\n",
       "      <th>2016 Total Arrests</th>\n",
       "      <th>2017 Total Arrests</th>\n",
       "      <th>2018 Total Arrests</th>\n",
       "    </tr>\n",
       "  </thead>\n",
       "  <tbody>\n",
       "    <tr>\n",
       "      <th>0</th>\n",
       "      <td>Albuquerque Police Department</td>\n",
       "      <td>545,852</td>\n",
       "      <td>4325.0</td>\n",
       "      <td>4934.0</td>\n",
       "      <td>5406.0</td>\n",
       "      <td>6245.0</td>\n",
       "      <td>7686.0</td>\n",
       "      <td>7646.0</td>\n",
       "      <td>27700.0</td>\n",
       "      <td>25447.0</td>\n",
       "      <td>22126.0</td>\n",
       "      <td>20341.0</td>\n",
       "      <td>21130.0</td>\n",
       "      <td>22254.0</td>\n",
       "    </tr>\n",
       "    <tr>\n",
       "      <th>1</th>\n",
       "      <td>Anaheim Police Department</td>\n",
       "      <td>336,265</td>\n",
       "      <td>1130.0</td>\n",
       "      <td>1101.0</td>\n",
       "      <td>1271.0</td>\n",
       "      <td>1209.0</td>\n",
       "      <td>1253.0</td>\n",
       "      <td>1192.0</td>\n",
       "      <td>7891.0</td>\n",
       "      <td>8137.0</td>\n",
       "      <td>8381.0</td>\n",
       "      <td>9415.0</td>\n",
       "      <td>8869.0</td>\n",
       "      <td>10019.0</td>\n",
       "    </tr>\n",
       "    <tr>\n",
       "      <th>2</th>\n",
       "      <td>Anchorage Police Department</td>\n",
       "      <td>291,826</td>\n",
       "      <td>2435.0</td>\n",
       "      <td>2605.0</td>\n",
       "      <td>3226.0</td>\n",
       "      <td>3422.0</td>\n",
       "      <td>3564.0</td>\n",
       "      <td>3824.0</td>\n",
       "      <td>17601.0</td>\n",
       "      <td>14748.0</td>\n",
       "      <td>14387.0</td>\n",
       "      <td>13294.0</td>\n",
       "      <td>13871.0</td>\n",
       "      <td>13973.0</td>\n",
       "    </tr>\n",
       "    <tr>\n",
       "      <th>3</th>\n",
       "      <td>Arlington Police Department</td>\n",
       "      <td>365,438</td>\n",
       "      <td>1837.0</td>\n",
       "      <td>1854.0</td>\n",
       "      <td>1946.0</td>\n",
       "      <td>2188.0</td>\n",
       "      <td>NaN</td>\n",
       "      <td>1784.0</td>\n",
       "      <td>17258.0</td>\n",
       "      <td>16222.0</td>\n",
       "      <td>13989.0</td>\n",
       "      <td>11024.0</td>\n",
       "      <td>8397.0</td>\n",
       "      <td>9566.0</td>\n",
       "    </tr>\n",
       "    <tr>\n",
       "      <th>4</th>\n",
       "      <td>Atlanta Police Department</td>\n",
       "      <td>420,003</td>\n",
       "      <td>5517.0</td>\n",
       "      <td>5577.0</td>\n",
       "      <td>5203.0</td>\n",
       "      <td>5121.0</td>\n",
       "      <td>4504.0</td>\n",
       "      <td>3814.0</td>\n",
       "      <td>30505.0</td>\n",
       "      <td>26958.0</td>\n",
       "      <td>NaN</td>\n",
       "      <td>22161.0</td>\n",
       "      <td>22581.0</td>\n",
       "      <td>NaN</td>\n",
       "    </tr>\n",
       "    <tr>\n",
       "      <th>...</th>\n",
       "      <td>...</td>\n",
       "      <td>...</td>\n",
       "      <td>...</td>\n",
       "      <td>...</td>\n",
       "      <td>...</td>\n",
       "      <td>...</td>\n",
       "      <td>...</td>\n",
       "      <td>...</td>\n",
       "      <td>...</td>\n",
       "      <td>...</td>\n",
       "      <td>...</td>\n",
       "      <td>...</td>\n",
       "      <td>...</td>\n",
       "      <td>...</td>\n",
       "    </tr>\n",
       "    <tr>\n",
       "      <th>95</th>\n",
       "      <td>Tucson Police Department</td>\n",
       "      <td>520,116</td>\n",
       "      <td>3368.0</td>\n",
       "      <td>NaN</td>\n",
       "      <td>3472.0</td>\n",
       "      <td>4245.0</td>\n",
       "      <td>4268.0</td>\n",
       "      <td>3958.0</td>\n",
       "      <td>31892.0</td>\n",
       "      <td>32313.0</td>\n",
       "      <td>32294.0</td>\n",
       "      <td>33442.0</td>\n",
       "      <td>30569.0</td>\n",
       "      <td>28858.0</td>\n",
       "    </tr>\n",
       "    <tr>\n",
       "      <th>96</th>\n",
       "      <td>Tulsa Police Department</td>\n",
       "      <td>391,906</td>\n",
       "      <td>3827.0</td>\n",
       "      <td>3217.0</td>\n",
       "      <td>3628.0</td>\n",
       "      <td>4444.0</td>\n",
       "      <td>4214.0</td>\n",
       "      <td>4294.0</td>\n",
       "      <td>16360.0</td>\n",
       "      <td>14739.0</td>\n",
       "      <td>15769.0</td>\n",
       "      <td>14311.0</td>\n",
       "      <td>12666.0</td>\n",
       "      <td>13303.0</td>\n",
       "    </tr>\n",
       "    <tr>\n",
       "      <th>97</th>\n",
       "      <td>Virginia Beach Police Department</td>\n",
       "      <td>437,994</td>\n",
       "      <td>730.0</td>\n",
       "      <td>660.0</td>\n",
       "      <td>626.0</td>\n",
       "      <td>700.0</td>\n",
       "      <td>625.0</td>\n",
       "      <td>528.0</td>\n",
       "      <td>24359.0</td>\n",
       "      <td>23247.0</td>\n",
       "      <td>20259.0</td>\n",
       "      <td>19190.0</td>\n",
       "      <td>18668.0</td>\n",
       "      <td>17071.0</td>\n",
       "    </tr>\n",
       "    <tr>\n",
       "      <th>98</th>\n",
       "      <td>Wichita Police Department</td>\n",
       "      <td>382,368</td>\n",
       "      <td>3065.0</td>\n",
       "      <td>NaN</td>\n",
       "      <td>3839.0</td>\n",
       "      <td>4136.0</td>\n",
       "      <td>3998.0</td>\n",
       "      <td>4622.0</td>\n",
       "      <td>10566.0</td>\n",
       "      <td>9323.0</td>\n",
       "      <td>9307.0</td>\n",
       "      <td>9120.0</td>\n",
       "      <td>8322.0</td>\n",
       "      <td>3931.0</td>\n",
       "    </tr>\n",
       "    <tr>\n",
       "      <th>99</th>\n",
       "      <td>Winston-Salem Police Department</td>\n",
       "      <td>229,617</td>\n",
       "      <td>1426.0</td>\n",
       "      <td>1696.0</td>\n",
       "      <td>NaN</td>\n",
       "      <td>NaN</td>\n",
       "      <td>NaN</td>\n",
       "      <td>NaN</td>\n",
       "      <td>19742.0</td>\n",
       "      <td>18875.0</td>\n",
       "      <td>16146.0</td>\n",
       "      <td>15432.0</td>\n",
       "      <td>NaN</td>\n",
       "      <td>12786.0</td>\n",
       "    </tr>\n",
       "  </tbody>\n",
       "</table>\n",
       "<p>100 rows × 14 columns</p>\n",
       "</div>"
      ],
      "text/plain": [
       "                                  PD    Total  \\\n",
       "0      Albuquerque Police Department  545,852   \n",
       "1          Anaheim Police Department  336,265   \n",
       "2        Anchorage Police Department  291,826   \n",
       "3        Arlington Police Department  365,438   \n",
       "4          Atlanta Police Department  420,003   \n",
       "..                               ...      ...   \n",
       "95          Tucson Police Department  520,116   \n",
       "96           Tulsa Police Department  391,906   \n",
       "97  Virginia Beach Police Department  437,994   \n",
       "98         Wichita Police Department  382,368   \n",
       "99   Winston-Salem Police Department  229,617   \n",
       "\n",
       "    Violent crimes 2013 (if reported by agency)  \\\n",
       "0                                        4325.0   \n",
       "1                                        1130.0   \n",
       "2                                        2435.0   \n",
       "3                                        1837.0   \n",
       "4                                        5517.0   \n",
       "..                                          ...   \n",
       "95                                       3368.0   \n",
       "96                                       3827.0   \n",
       "97                                        730.0   \n",
       "98                                       3065.0   \n",
       "99                                       1426.0   \n",
       "\n",
       "    Violent crimes 2014 (if reported by agency)  \\\n",
       "0                                        4934.0   \n",
       "1                                        1101.0   \n",
       "2                                        2605.0   \n",
       "3                                        1854.0   \n",
       "4                                        5577.0   \n",
       "..                                          ...   \n",
       "95                                          NaN   \n",
       "96                                       3217.0   \n",
       "97                                        660.0   \n",
       "98                                          NaN   \n",
       "99                                       1696.0   \n",
       "\n",
       "    Violent crimes 2015 (if reported by agency)  \\\n",
       "0                                        5406.0   \n",
       "1                                        1271.0   \n",
       "2                                        3226.0   \n",
       "3                                        1946.0   \n",
       "4                                        5203.0   \n",
       "..                                          ...   \n",
       "95                                       3472.0   \n",
       "96                                       3628.0   \n",
       "97                                        626.0   \n",
       "98                                       3839.0   \n",
       "99                                          NaN   \n",
       "\n",
       "    Violent crimes 2016 (if reported by agency)  \\\n",
       "0                                        6245.0   \n",
       "1                                        1209.0   \n",
       "2                                        3422.0   \n",
       "3                                        2188.0   \n",
       "4                                        5121.0   \n",
       "..                                          ...   \n",
       "95                                       4245.0   \n",
       "96                                       4444.0   \n",
       "97                                        700.0   \n",
       "98                                       4136.0   \n",
       "99                                          NaN   \n",
       "\n",
       "    Violent crimes 2017 (if reported by agency)  \\\n",
       "0                                        7686.0   \n",
       "1                                        1253.0   \n",
       "2                                        3564.0   \n",
       "3                                           NaN   \n",
       "4                                        4504.0   \n",
       "..                                          ...   \n",
       "95                                       4268.0   \n",
       "96                                       4214.0   \n",
       "97                                        625.0   \n",
       "98                                       3998.0   \n",
       "99                                          NaN   \n",
       "\n",
       "    Violent crimes 2018 (if reported by agency)  \\\n",
       "0                                        7646.0   \n",
       "1                                        1192.0   \n",
       "2                                        3824.0   \n",
       "3                                        1784.0   \n",
       "4                                        3814.0   \n",
       "..                                          ...   \n",
       "95                                       3958.0   \n",
       "96                                       4294.0   \n",
       "97                                        528.0   \n",
       "98                                       4622.0   \n",
       "99                                          NaN   \n",
       "\n",
       "    2013 Total Arrests (UCR Data)  2014 Total Arrests  2015 Total Arrests  \\\n",
       "0                         27700.0             25447.0             22126.0   \n",
       "1                          7891.0              8137.0              8381.0   \n",
       "2                         17601.0             14748.0             14387.0   \n",
       "3                         17258.0             16222.0             13989.0   \n",
       "4                         30505.0             26958.0                 NaN   \n",
       "..                            ...                 ...                 ...   \n",
       "95                        31892.0             32313.0             32294.0   \n",
       "96                        16360.0             14739.0             15769.0   \n",
       "97                        24359.0             23247.0             20259.0   \n",
       "98                        10566.0              9323.0              9307.0   \n",
       "99                        19742.0             18875.0             16146.0   \n",
       "\n",
       "    2016 Total Arrests  2017 Total Arrests  2018 Total Arrests  \n",
       "0              20341.0             21130.0             22254.0  \n",
       "1               9415.0              8869.0             10019.0  \n",
       "2              13294.0             13871.0             13973.0  \n",
       "3              11024.0              8397.0              9566.0  \n",
       "4              22161.0             22581.0                 NaN  \n",
       "..                 ...                 ...                 ...  \n",
       "95             33442.0             30569.0             28858.0  \n",
       "96             14311.0             12666.0             13303.0  \n",
       "97             19190.0             18668.0             17071.0  \n",
       "98              9120.0              8322.0              3931.0  \n",
       "99             15432.0                 NaN             12786.0  \n",
       "\n",
       "[100 rows x 14 columns]"
      ]
     },
     "execution_count": 115,
     "metadata": {},
     "output_type": "execute_result"
    }
   ],
   "source": [
    "violent_crimes=dar.iloc[:,[2,10,21,22,23,24,25,26,27,28,29,30,31,32]].copy()\n",
    "violent_crimes"
   ]
  },
  {
   "cell_type": "code",
   "execution_count": 116,
   "metadata": {},
   "outputs": [],
   "source": [
    "violent_crimes.rename(columns={'Violent crimes 2013 (if reported by agency)':'Violent_crimes_2013','Violent crimes 2014 (if reported by agency)':'Violent_crimes_2014', \n",
    "                               'Violent crimes 2015 (if reported by agency)':'Violent_crimes_2015',\n",
    "                               'Violent crimes 2016 (if reported by agency)':'Violent_crimes_2016',\n",
    "                               'Violent crimes 2017 (if reported by agency)':'Violent_crimes_2017',\n",
    "                               'Violent crimes 2018 (if reported by agency)':'Violent_crimes_2018',\n",
    "                               '2013 Total Arrests (UCR Data)':'2013_Tot_Arrests','2014 Total Arrests': '2014_Tot_Arrests',\n",
    "                               '2015 Total Arrests':'2015_Tot_Arrests' ,'2016 Total Arrests':'2016_Tot_Arrests' ,'2017 Total Arrests':'2017_Tot_Arrests','2018 Total Arrests':'2018_Tot_Arrests'}, inplace=True)"
   ]
  },
  {
   "cell_type": "code",
   "execution_count": 127,
   "metadata": {},
   "outputs": [],
   "source": [
    "violent_crimes=violent_crimes.sort_values(['Violent_crimes_2013','Violent_crimes_2014', 'Violent_crimes_2015', 'Violent_crimes_2016', 'Violent_crimes_2017', 'Violent_crimes_2018'],ascending=[0,0,0,0,0,0])"
   ]
  },
  {
   "cell_type": "code",
   "execution_count": 118,
   "metadata": {},
   "outputs": [],
   "source": [
    "violent_crimes.replace(np.nan,0, inplace=True)\n"
   ]
  },
  {
   "cell_type": "code",
   "execution_count": 146,
   "metadata": {},
   "outputs": [
    {
     "data": {
      "text/html": [
       "<div>\n",
       "<style scoped>\n",
       "    .dataframe tbody tr th:only-of-type {\n",
       "        vertical-align: middle;\n",
       "    }\n",
       "\n",
       "    .dataframe tbody tr th {\n",
       "        vertical-align: top;\n",
       "    }\n",
       "\n",
       "    .dataframe thead th {\n",
       "        text-align: right;\n",
       "    }\n",
       "</style>\n",
       "<table border=\"1\" class=\"dataframe\">\n",
       "  <thead>\n",
       "    <tr style=\"text-align: right;\">\n",
       "      <th></th>\n",
       "      <th>PD</th>\n",
       "      <th>Total</th>\n",
       "      <th>Violent_crimes_2013</th>\n",
       "      <th>Violent_crimes_2014</th>\n",
       "      <th>Violent_crimes_2015</th>\n",
       "      <th>Violent_crimes_2016</th>\n",
       "      <th>Violent_crimes_2017</th>\n",
       "      <th>Violent_crimes_2018</th>\n",
       "      <th>2013_Tot_Arrests</th>\n",
       "      <th>2014_Tot_Arrests</th>\n",
       "      <th>2015_Tot_Arrests</th>\n",
       "      <th>2016_Tot_Arrests</th>\n",
       "      <th>2017_Tot_Arrests</th>\n",
       "      <th>2018_Tot_Arrests</th>\n",
       "    </tr>\n",
       "  </thead>\n",
       "  <tbody>\n",
       "    <tr>\n",
       "      <th>62</th>\n",
       "      <td>New York Police Department</td>\n",
       "      <td>8,175,133</td>\n",
       "      <td>52384.0</td>\n",
       "      <td>50564.0</td>\n",
       "      <td>50088.0</td>\n",
       "      <td>49124.0</td>\n",
       "      <td>46433.0</td>\n",
       "      <td>46113.0</td>\n",
       "      <td>393809.0</td>\n",
       "      <td>387727.0</td>\n",
       "      <td>339470.0</td>\n",
       "      <td>314864.0</td>\n",
       "      <td>286225.0</td>\n",
       "      <td>246773.0</td>\n",
       "    </tr>\n",
       "    <tr>\n",
       "      <th>16</th>\n",
       "      <td>Chicago Police Department</td>\n",
       "      <td>2,695,598</td>\n",
       "      <td>25688.0</td>\n",
       "      <td>24133.0</td>\n",
       "      <td>24698.0</td>\n",
       "      <td>30193.0</td>\n",
       "      <td>29737.0</td>\n",
       "      <td>27420.0</td>\n",
       "      <td>112862.0</td>\n",
       "      <td>100346.0</td>\n",
       "      <td>84215.0</td>\n",
       "      <td>61507.0</td>\n",
       "      <td>57523.0</td>\n",
       "      <td>78737.0</td>\n",
       "    </tr>\n",
       "    <tr>\n",
       "      <th>39</th>\n",
       "      <td>Houston Police Department</td>\n",
       "      <td>2,099,451</td>\n",
       "      <td>20993.0</td>\n",
       "      <td>22008.0</td>\n",
       "      <td>21994.0</td>\n",
       "      <td>23960.0</td>\n",
       "      <td>25609.0</td>\n",
       "      <td>24062.0</td>\n",
       "      <td>85551.0</td>\n",
       "      <td>65821.0</td>\n",
       "      <td>56317.0</td>\n",
       "      <td>57867.0</td>\n",
       "      <td>47449.0</td>\n",
       "      <td>43036.0</td>\n",
       "    </tr>\n",
       "    <tr>\n",
       "      <th>70</th>\n",
       "      <td>Philadelphia Police Department</td>\n",
       "      <td>1,526,006</td>\n",
       "      <td>17074.0</td>\n",
       "      <td>15925.0</td>\n",
       "      <td>16132.0</td>\n",
       "      <td>15534.0</td>\n",
       "      <td>14930.0</td>\n",
       "      <td>14420.0</td>\n",
       "      <td>86253.0</td>\n",
       "      <td>82799.0</td>\n",
       "      <td>69324.0</td>\n",
       "      <td>53807.0</td>\n",
       "      <td>52689.0</td>\n",
       "      <td>46301.0</td>\n",
       "    </tr>\n",
       "    <tr>\n",
       "      <th>51</th>\n",
       "      <td>Los Angeles Police Department</td>\n",
       "      <td>3,792,621</td>\n",
       "      <td>16524.0</td>\n",
       "      <td>19171.0</td>\n",
       "      <td>25156.0</td>\n",
       "      <td>28817.0</td>\n",
       "      <td>30507.0</td>\n",
       "      <td>30126.0</td>\n",
       "      <td>90436.0</td>\n",
       "      <td>83187.0</td>\n",
       "      <td>71732.0</td>\n",
       "      <td>68768.0</td>\n",
       "      <td>64440.0</td>\n",
       "      <td>58688.0</td>\n",
       "    </tr>\n",
       "    <tr>\n",
       "      <th>...</th>\n",
       "      <td>...</td>\n",
       "      <td>...</td>\n",
       "      <td>...</td>\n",
       "      <td>...</td>\n",
       "      <td>...</td>\n",
       "      <td>...</td>\n",
       "      <td>...</td>\n",
       "      <td>...</td>\n",
       "      <td>...</td>\n",
       "      <td>...</td>\n",
       "      <td>...</td>\n",
       "      <td>...</td>\n",
       "      <td>...</td>\n",
       "      <td>...</td>\n",
       "    </tr>\n",
       "    <tr>\n",
       "      <th>86</th>\n",
       "      <td>Scottsdale Police Department</td>\n",
       "      <td>217,385</td>\n",
       "      <td>337.0</td>\n",
       "      <td>0.0</td>\n",
       "      <td>434.0</td>\n",
       "      <td>369.0</td>\n",
       "      <td>396.0</td>\n",
       "      <td>422.0</td>\n",
       "      <td>10468.0</td>\n",
       "      <td>9673.0</td>\n",
       "      <td>8910.0</td>\n",
       "      <td>9066.0</td>\n",
       "      <td>9619.0</td>\n",
       "      <td>9296.0</td>\n",
       "    </tr>\n",
       "    <tr>\n",
       "      <th>31</th>\n",
       "      <td>Fremont Police Department</td>\n",
       "      <td>214,089</td>\n",
       "      <td>273.0</td>\n",
       "      <td>284.0</td>\n",
       "      <td>337.0</td>\n",
       "      <td>420.0</td>\n",
       "      <td>431.0</td>\n",
       "      <td>502.0</td>\n",
       "      <td>2913.0</td>\n",
       "      <td>3040.0</td>\n",
       "      <td>2566.0</td>\n",
       "      <td>2422.0</td>\n",
       "      <td>2405.0</td>\n",
       "      <td>2741.0</td>\n",
       "    </tr>\n",
       "    <tr>\n",
       "      <th>41</th>\n",
       "      <td>Irvine Police Department</td>\n",
       "      <td>212,375</td>\n",
       "      <td>113.0</td>\n",
       "      <td>120.0</td>\n",
       "      <td>144.0</td>\n",
       "      <td>152.0</td>\n",
       "      <td>169.0</td>\n",
       "      <td>160.0</td>\n",
       "      <td>2742.0</td>\n",
       "      <td>2500.0</td>\n",
       "      <td>2988.0</td>\n",
       "      <td>3337.0</td>\n",
       "      <td>2782.0</td>\n",
       "      <td>2064.0</td>\n",
       "    </tr>\n",
       "    <tr>\n",
       "      <th>27</th>\n",
       "      <td>Durham Police Department</td>\n",
       "      <td>228,330</td>\n",
       "      <td>0.0</td>\n",
       "      <td>1834.0</td>\n",
       "      <td>2185.0</td>\n",
       "      <td>0.0</td>\n",
       "      <td>0.0</td>\n",
       "      <td>0.0</td>\n",
       "      <td>5793.0</td>\n",
       "      <td>5699.0</td>\n",
       "      <td>4663.0</td>\n",
       "      <td>3546.0</td>\n",
       "      <td>3772.0</td>\n",
       "      <td>4596.0</td>\n",
       "    </tr>\n",
       "    <tr>\n",
       "      <th>38</th>\n",
       "      <td>Honolulu Police Department</td>\n",
       "      <td>953,206</td>\n",
       "      <td>0.0</td>\n",
       "      <td>0.0</td>\n",
       "      <td>2437.0</td>\n",
       "      <td>3331.0</td>\n",
       "      <td>2440.0</td>\n",
       "      <td>2451.0</td>\n",
       "      <td>0.0</td>\n",
       "      <td>0.0</td>\n",
       "      <td>0.0</td>\n",
       "      <td>0.0</td>\n",
       "      <td>0.0</td>\n",
       "      <td>0.0</td>\n",
       "    </tr>\n",
       "  </tbody>\n",
       "</table>\n",
       "<p>100 rows × 14 columns</p>\n",
       "</div>"
      ],
      "text/plain": [
       "                                PD      Total  Violent_crimes_2013  \\\n",
       "62      New York Police Department  8,175,133              52384.0   \n",
       "16       Chicago Police Department  2,695,598              25688.0   \n",
       "39       Houston Police Department  2,099,451              20993.0   \n",
       "70  Philadelphia Police Department  1,526,006              17074.0   \n",
       "51   Los Angeles Police Department  3,792,621              16524.0   \n",
       "..                             ...        ...                  ...   \n",
       "86    Scottsdale Police Department    217,385                337.0   \n",
       "31       Fremont Police Department    214,089                273.0   \n",
       "41        Irvine Police Department    212,375                113.0   \n",
       "27        Durham Police Department    228,330                  0.0   \n",
       "38      Honolulu Police Department    953,206                  0.0   \n",
       "\n",
       "    Violent_crimes_2014  Violent_crimes_2015  Violent_crimes_2016  \\\n",
       "62              50564.0              50088.0              49124.0   \n",
       "16              24133.0              24698.0              30193.0   \n",
       "39              22008.0              21994.0              23960.0   \n",
       "70              15925.0              16132.0              15534.0   \n",
       "51              19171.0              25156.0              28817.0   \n",
       "..                  ...                  ...                  ...   \n",
       "86                  0.0                434.0                369.0   \n",
       "31                284.0                337.0                420.0   \n",
       "41                120.0                144.0                152.0   \n",
       "27               1834.0               2185.0                  0.0   \n",
       "38                  0.0               2437.0               3331.0   \n",
       "\n",
       "    Violent_crimes_2017  Violent_crimes_2018  2013_Tot_Arrests  \\\n",
       "62              46433.0              46113.0          393809.0   \n",
       "16              29737.0              27420.0          112862.0   \n",
       "39              25609.0              24062.0           85551.0   \n",
       "70              14930.0              14420.0           86253.0   \n",
       "51              30507.0              30126.0           90436.0   \n",
       "..                  ...                  ...               ...   \n",
       "86                396.0                422.0           10468.0   \n",
       "31                431.0                502.0            2913.0   \n",
       "41                169.0                160.0            2742.0   \n",
       "27                  0.0                  0.0            5793.0   \n",
       "38               2440.0               2451.0               0.0   \n",
       "\n",
       "    2014_Tot_Arrests  2015_Tot_Arrests  2016_Tot_Arrests  2017_Tot_Arrests  \\\n",
       "62          387727.0          339470.0          314864.0          286225.0   \n",
       "16          100346.0           84215.0           61507.0           57523.0   \n",
       "39           65821.0           56317.0           57867.0           47449.0   \n",
       "70           82799.0           69324.0           53807.0           52689.0   \n",
       "51           83187.0           71732.0           68768.0           64440.0   \n",
       "..               ...               ...               ...               ...   \n",
       "86            9673.0            8910.0            9066.0            9619.0   \n",
       "31            3040.0            2566.0            2422.0            2405.0   \n",
       "41            2500.0            2988.0            3337.0            2782.0   \n",
       "27            5699.0            4663.0            3546.0            3772.0   \n",
       "38               0.0               0.0               0.0               0.0   \n",
       "\n",
       "    2018_Tot_Arrests  \n",
       "62          246773.0  \n",
       "16           78737.0  \n",
       "39           43036.0  \n",
       "70           46301.0  \n",
       "51           58688.0  \n",
       "..               ...  \n",
       "86            9296.0  \n",
       "31            2741.0  \n",
       "41            2064.0  \n",
       "27            4596.0  \n",
       "38               0.0  \n",
       "\n",
       "[100 rows x 14 columns]"
      ]
     },
     "execution_count": 146,
     "metadata": {},
     "output_type": "execute_result"
    }
   ],
   "source": [
    "violent_crimes"
   ]
  },
  {
   "cell_type": "code",
   "execution_count": 128,
   "metadata": {},
   "outputs": [
    {
     "data": {
      "application/vnd.plotly.v1+json": {
       "config": {
        "plotlyServerURL": "https://plot.ly"
       },
       "data": [
        {
         "alignmentgroup": "True",
         "hovertemplate": "variable=Violent_crimes_2013<br>PD=%{x}<br>value=%{y}<extra></extra>",
         "legendgroup": "Violent_crimes_2013",
         "marker": {
          "color": "#636efa"
         },
         "name": "Violent_crimes_2013",
         "offsetgroup": "Violent_crimes_2013",
         "orientation": "v",
         "showlegend": true,
         "textposition": "auto",
         "type": "bar",
         "x": [
          "New York Police Department",
          "Chicago Police Department",
          "Houston Police Department",
          "Philadelphia Police Department",
          "Los Angeles Police Department",
          "Detroit Police Department",
          "Las Vegas Metropolitan Police Department",
          "Memphis Police Department",
          "Indianapolis Metropolitan Police Department",
          "Phoenix Police Department",
          "San Antonio Police Department",
          "Baltimore Police Department",
          "Dallas Police Department",
          "Milwaukee Police Department",
          "Oakland Police Department",
          "DC Metropolitan Police Department",
          "San Francisco Police Department",
          "Metropolitan Nashville Police Department",
          "Kansas City Police Department",
          "Cleveland Police Department",
          "Atlanta Police Department",
          "San Diego Police Department",
          "Jacksonville Sheriff's Office",
          "Charlotte-Mecklenburg Police Department",
          "St. Louis Metropolitan Police Department",
          "Boston Police Department",
          "Oklahoma City Police Department",
          "Miami Police Department",
          "Fort Worth Police Department",
          "Albuquerque Police Department",
          "Denver Police Department",
          "Minneapolis Police Department",
          "Tulsa Police Department",
          "Seattle Police Department",
          "Louisville Metro Police Department",
          "Stockton Police Department",
          "Newark Police Department",
          "Tucson Police Department",
          "Buffalo Police Department",
          "San Jose Police Department",
          "Sacramento Police Department",
          "Austin Police Department",
          "Wichita Police Department",
          "New Orleans Police Department",
          "Portland Police Bureau",
          "Toledo Police Department",
          "Birmingham Police Department",
          "Cincinnati Polce Department",
          "Fresno Police Department",
          "El Paso Police Department",
          "Omaha Police Department",
          "Anchorage Police Department",
          "St. Petersburg Police Department",
          "Long Beach Police Department",
          "Orlando Police Department",
          "Pittsburgh Police Department",
          "St. Paul Police Department",
          "Baton Rouge Police Department",
          "Rochester Police Department",
          "Tampa Police Department",
          "San Bernardino Police Department",
          "Corpus Christi Police Department",
          "Colorado Springs Police Department",
          "Bakersfield Police Department",
          "Arlington Police Department",
          "Lubbock Police Department",
          "Mesa Police Department",
          "North Las Vegas Police Department",
          "Raleigh Police Department",
          "Jersey City Police Department",
          "Greensboro Police Department",
          "Spokane Police Department",
          "Aurora Police Department",
          "Winston-Salem Police Department",
          "Norfolk Police Department",
          "Riverside Police Department",
          "Reno Police Department",
          "Anaheim Police Department",
          "Santa Ana Police Department",
          "Laredo Police Department",
          "Columbus Division of Police",
          "Lincoln Police Department",
          "Fort Wayne Police Department",
          "Lexington Police Department",
          "Glendale Police Department",
          "Madison Police Department",
          "Hialeah Police Department",
          "Chesapeake Police Department",
          "Virginia Beach Police Department",
          "Chula Vista Police Department",
          "Chandler Police Department",
          "Irving Police Department",
          "Garland Police Department",
          "Plano Police Department",
          "Henderson Police Department",
          "Scottsdale Police Department",
          "Fremont Police Department",
          "Irvine Police Department",
          "Durham Police Department",
          "Honolulu Police Department"
         ],
         "xaxis": "x",
         "y": [
          52384,
          25688,
          20993,
          17074,
          16524,
          14504,
          11374,
          10894,
          10479,
          9492,
          8828,
          8725,
          8330,
          8194,
          7984,
          7880,
          7064,
          6612,
          5864,
          5751,
          5517,
          5303,
          5246,
          5093,
          5077,
          5037,
          4998,
          4945,
          4440,
          4325,
          4087,
          4038,
          3827,
          3758,
          3644,
          3622,
          3516,
          3368,
          3249,
          3215,
          3137,
          3123,
          3065,
          2965,
          2941,
          2902,
          2852,
          2826,
          2552,
          2522,
          2449,
          2435,
          2379,
          2346,
          2316,
          2259,
          2200,
          2127,
          2107,
          2097,
          1949,
          1939,
          1893,
          1857,
          1837,
          1829,
          1807,
          1806,
          1683,
          1655,
          1449,
          1440,
          1436,
          1426,
          1418,
          1330,
          1154,
          1130,
          1121,
          1027,
          1022,
          990,
          949,
          946,
          905,
          884,
          774,
          737,
          730,
          595,
          575,
          530,
          514,
          389,
          367,
          337,
          273,
          113,
          0,
          0
         ],
         "yaxis": "y"
        },
        {
         "alignmentgroup": "True",
         "hovertemplate": "variable=Violent_crimes_2014<br>PD=%{x}<br>value=%{y}<extra></extra>",
         "legendgroup": "Violent_crimes_2014",
         "marker": {
          "color": "#EF553B"
         },
         "name": "Violent_crimes_2014",
         "offsetgroup": "Violent_crimes_2014",
         "orientation": "v",
         "showlegend": true,
         "textposition": "auto",
         "type": "bar",
         "x": [
          "New York Police Department",
          "Chicago Police Department",
          "Houston Police Department",
          "Philadelphia Police Department",
          "Los Angeles Police Department",
          "Detroit Police Department",
          "Las Vegas Metropolitan Police Department",
          "Memphis Police Department",
          "Indianapolis Metropolitan Police Department",
          "Phoenix Police Department",
          "San Antonio Police Department",
          "Baltimore Police Department",
          "Dallas Police Department",
          "Milwaukee Police Department",
          "Oakland Police Department",
          "DC Metropolitan Police Department",
          "San Francisco Police Department",
          "Metropolitan Nashville Police Department",
          "Kansas City Police Department",
          "Cleveland Police Department",
          "Atlanta Police Department",
          "San Diego Police Department",
          "Jacksonville Sheriff's Office",
          "Charlotte-Mecklenburg Police Department",
          "St. Louis Metropolitan Police Department",
          "Boston Police Department",
          "Oklahoma City Police Department",
          "Miami Police Department",
          "Fort Worth Police Department",
          "Albuquerque Police Department",
          "Denver Police Department",
          "Minneapolis Police Department",
          "Tulsa Police Department",
          "Seattle Police Department",
          "Louisville Metro Police Department",
          "Stockton Police Department",
          "Newark Police Department",
          "Tucson Police Department",
          "Buffalo Police Department",
          "San Jose Police Department",
          "Sacramento Police Department",
          "Austin Police Department",
          "Wichita Police Department",
          "New Orleans Police Department",
          "Portland Police Bureau",
          "Toledo Police Department",
          "Birmingham Police Department",
          "Cincinnati Polce Department",
          "Fresno Police Department",
          "El Paso Police Department",
          "Omaha Police Department",
          "Anchorage Police Department",
          "St. Petersburg Police Department",
          "Long Beach Police Department",
          "Orlando Police Department",
          "Pittsburgh Police Department",
          "St. Paul Police Department",
          "Baton Rouge Police Department",
          "Rochester Police Department",
          "Tampa Police Department",
          "San Bernardino Police Department",
          "Corpus Christi Police Department",
          "Colorado Springs Police Department",
          "Bakersfield Police Department",
          "Arlington Police Department",
          "Lubbock Police Department",
          "Mesa Police Department",
          "North Las Vegas Police Department",
          "Raleigh Police Department",
          "Jersey City Police Department",
          "Greensboro Police Department",
          "Spokane Police Department",
          "Aurora Police Department",
          "Winston-Salem Police Department",
          "Norfolk Police Department",
          "Riverside Police Department",
          "Reno Police Department",
          "Anaheim Police Department",
          "Santa Ana Police Department",
          "Laredo Police Department",
          "Columbus Division of Police",
          "Lincoln Police Department",
          "Fort Wayne Police Department",
          "Lexington Police Department",
          "Glendale Police Department",
          "Madison Police Department",
          "Hialeah Police Department",
          "Chesapeake Police Department",
          "Virginia Beach Police Department",
          "Chula Vista Police Department",
          "Chandler Police Department",
          "Irving Police Department",
          "Garland Police Department",
          "Plano Police Department",
          "Henderson Police Department",
          "Scottsdale Police Department",
          "Fremont Police Department",
          "Irvine Police Department",
          "Durham Police Department",
          "Honolulu Police Department"
         ],
         "xaxis": "x",
         "y": [
          50564,
          24133,
          22008,
          15925,
          19171,
          13616,
          12876,
          11399,
          10768,
          8749,
          7704,
          8346,
          8457,
          8864,
          6910,
          7810,
          6761,
          7270,
          5862,
          5186,
          5577,
          5214,
          5853,
          5054,
          5348,
          4749,
          4782,
          4473,
          4492,
          4934,
          3983,
          4093,
          3217,
          4001,
          4015,
          3988,
          3008,
          0,
          3174,
          3242,
          2968,
          3581,
          0,
          3770,
          2911,
          3068,
          3369,
          2695,
          2382,
          2671,
          2458,
          2605,
          2169,
          2304,
          2340,
          2455,
          1974,
          2120,
          1765,
          2080,
          2128,
          2094,
          2039,
          1678,
          1854,
          2084,
          2119,
          1782,
          0,
          1381,
          1346,
          1156,
          1448,
          1696,
          1280,
          1384,
          1147,
          1101,
          1260,
          976,
          4563,
          918,
          816,
          1041,
          186,
          846,
          782,
          991,
          660,
          612,
          466,
          512,
          644,
          459,
          452,
          0,
          284,
          120,
          1834,
          0
         ],
         "yaxis": "y"
        },
        {
         "alignmentgroup": "True",
         "hovertemplate": "variable=Violent_crimes_2015<br>PD=%{x}<br>value=%{y}<extra></extra>",
         "legendgroup": "Violent_crimes_2015",
         "marker": {
          "color": "#00cc96"
         },
         "name": "Violent_crimes_2015",
         "offsetgroup": "Violent_crimes_2015",
         "orientation": "v",
         "showlegend": true,
         "textposition": "auto",
         "type": "bar",
         "x": [
          "New York Police Department",
          "Chicago Police Department",
          "Houston Police Department",
          "Philadelphia Police Department",
          "Los Angeles Police Department",
          "Detroit Police Department",
          "Las Vegas Metropolitan Police Department",
          "Memphis Police Department",
          "Indianapolis Metropolitan Police Department",
          "Phoenix Police Department",
          "San Antonio Police Department",
          "Baltimore Police Department",
          "Dallas Police Department",
          "Milwaukee Police Department",
          "Oakland Police Department",
          "DC Metropolitan Police Department",
          "San Francisco Police Department",
          "Metropolitan Nashville Police Department",
          "Kansas City Police Department",
          "Cleveland Police Department",
          "Atlanta Police Department",
          "San Diego Police Department",
          "Jacksonville Sheriff's Office",
          "Charlotte-Mecklenburg Police Department",
          "St. Louis Metropolitan Police Department",
          "Boston Police Department",
          "Oklahoma City Police Department",
          "Miami Police Department",
          "Fort Worth Police Department",
          "Albuquerque Police Department",
          "Denver Police Department",
          "Minneapolis Police Department",
          "Tulsa Police Department",
          "Seattle Police Department",
          "Louisville Metro Police Department",
          "Stockton Police Department",
          "Newark Police Department",
          "Tucson Police Department",
          "Buffalo Police Department",
          "San Jose Police Department",
          "Sacramento Police Department",
          "Austin Police Department",
          "Wichita Police Department",
          "New Orleans Police Department",
          "Portland Police Bureau",
          "Toledo Police Department",
          "Birmingham Police Department",
          "Cincinnati Polce Department",
          "Fresno Police Department",
          "El Paso Police Department",
          "Omaha Police Department",
          "Anchorage Police Department",
          "St. Petersburg Police Department",
          "Long Beach Police Department",
          "Orlando Police Department",
          "Pittsburgh Police Department",
          "St. Paul Police Department",
          "Baton Rouge Police Department",
          "Rochester Police Department",
          "Tampa Police Department",
          "San Bernardino Police Department",
          "Corpus Christi Police Department",
          "Colorado Springs Police Department",
          "Bakersfield Police Department",
          "Arlington Police Department",
          "Lubbock Police Department",
          "Mesa Police Department",
          "North Las Vegas Police Department",
          "Raleigh Police Department",
          "Jersey City Police Department",
          "Greensboro Police Department",
          "Spokane Police Department",
          "Aurora Police Department",
          "Winston-Salem Police Department",
          "Norfolk Police Department",
          "Riverside Police Department",
          "Reno Police Department",
          "Anaheim Police Department",
          "Santa Ana Police Department",
          "Laredo Police Department",
          "Columbus Division of Police",
          "Lincoln Police Department",
          "Fort Wayne Police Department",
          "Lexington Police Department",
          "Glendale Police Department",
          "Madison Police Department",
          "Hialeah Police Department",
          "Chesapeake Police Department",
          "Virginia Beach Police Department",
          "Chula Vista Police Department",
          "Chandler Police Department",
          "Irving Police Department",
          "Garland Police Department",
          "Plano Police Department",
          "Henderson Police Department",
          "Scottsdale Police Department",
          "Fremont Police Department",
          "Irvine Police Department",
          "Durham Police Department",
          "Honolulu Police Department"
         ],
         "xaxis": "x",
         "y": [
          50088,
          24698,
          21994,
          16132,
          25156,
          11846,
          14383,
          11449,
          11124,
          9261,
          8594,
          9542,
          9038,
          9583,
          6051,
          8084,
          6710,
          7245,
          6709,
          0,
          5203,
          5582,
          5622,
          5948,
          5762,
          4702,
          4828,
          4473,
          4382,
          5406,
          4599,
          4395,
          3628,
          4093,
          4315,
          4122,
          0,
          3472,
          2887,
          3400,
          3611,
          3497,
          3839,
          3736,
          680,
          3156,
          3707,
          2761,
          2871,
          2515,
          2329,
          3226,
          1898,
          2766,
          2525,
          2167,
          2115,
          2001,
          1839,
          2298,
          2697,
          2092,
          1983,
          1810,
          1946,
          2391,
          1972,
          2130,
          0,
          1383,
          1707,
          1111,
          1660,
          0,
          1329,
          1441,
          1419,
          1271,
          1626,
          972,
          4631,
          1025,
          984,
          1044,
          943,
          890,
          767,
          897,
          626,
          705,
          490,
          469,
          709,
          433,
          476,
          434,
          337,
          144,
          2185,
          2437
         ],
         "yaxis": "y"
        },
        {
         "alignmentgroup": "True",
         "hovertemplate": "variable=Violent_crimes_2016<br>PD=%{x}<br>value=%{y}<extra></extra>",
         "legendgroup": "Violent_crimes_2016",
         "marker": {
          "color": "#ab63fa"
         },
         "name": "Violent_crimes_2016",
         "offsetgroup": "Violent_crimes_2016",
         "orientation": "v",
         "showlegend": true,
         "textposition": "auto",
         "type": "bar",
         "x": [
          "New York Police Department",
          "Chicago Police Department",
          "Houston Police Department",
          "Philadelphia Police Department",
          "Los Angeles Police Department",
          "Detroit Police Department",
          "Las Vegas Metropolitan Police Department",
          "Memphis Police Department",
          "Indianapolis Metropolitan Police Department",
          "Phoenix Police Department",
          "San Antonio Police Department",
          "Baltimore Police Department",
          "Dallas Police Department",
          "Milwaukee Police Department",
          "Oakland Police Department",
          "DC Metropolitan Police Department",
          "San Francisco Police Department",
          "Metropolitan Nashville Police Department",
          "Kansas City Police Department",
          "Cleveland Police Department",
          "Atlanta Police Department",
          "San Diego Police Department",
          "Jacksonville Sheriff's Office",
          "Charlotte-Mecklenburg Police Department",
          "St. Louis Metropolitan Police Department",
          "Boston Police Department",
          "Oklahoma City Police Department",
          "Miami Police Department",
          "Fort Worth Police Department",
          "Albuquerque Police Department",
          "Denver Police Department",
          "Minneapolis Police Department",
          "Tulsa Police Department",
          "Seattle Police Department",
          "Louisville Metro Police Department",
          "Stockton Police Department",
          "Newark Police Department",
          "Tucson Police Department",
          "Buffalo Police Department",
          "San Jose Police Department",
          "Sacramento Police Department",
          "Austin Police Department",
          "Wichita Police Department",
          "New Orleans Police Department",
          "Portland Police Bureau",
          "Toledo Police Department",
          "Birmingham Police Department",
          "Cincinnati Polce Department",
          "Fresno Police Department",
          "El Paso Police Department",
          "Omaha Police Department",
          "Anchorage Police Department",
          "St. Petersburg Police Department",
          "Long Beach Police Department",
          "Orlando Police Department",
          "Pittsburgh Police Department",
          "St. Paul Police Department",
          "Baton Rouge Police Department",
          "Rochester Police Department",
          "Tampa Police Department",
          "San Bernardino Police Department",
          "Corpus Christi Police Department",
          "Colorado Springs Police Department",
          "Bakersfield Police Department",
          "Arlington Police Department",
          "Lubbock Police Department",
          "Mesa Police Department",
          "North Las Vegas Police Department",
          "Raleigh Police Department",
          "Jersey City Police Department",
          "Greensboro Police Department",
          "Spokane Police Department",
          "Aurora Police Department",
          "Winston-Salem Police Department",
          "Norfolk Police Department",
          "Riverside Police Department",
          "Reno Police Department",
          "Anaheim Police Department",
          "Santa Ana Police Department",
          "Laredo Police Department",
          "Columbus Division of Police",
          "Lincoln Police Department",
          "Fort Wayne Police Department",
          "Lexington Police Department",
          "Glendale Police Department",
          "Madison Police Department",
          "Hialeah Police Department",
          "Chesapeake Police Department",
          "Virginia Beach Police Department",
          "Chula Vista Police Department",
          "Chandler Police Department",
          "Irving Police Department",
          "Garland Police Department",
          "Plano Police Department",
          "Henderson Police Department",
          "Scottsdale Police Department",
          "Fremont Police Department",
          "Irvine Police Department",
          "Durham Police Department",
          "Honolulu Police Department"
         ],
         "xaxis": "x",
         "y": [
          49124,
          30193,
          23960,
          15534,
          28817,
          13705,
          13520,
          11947,
          11907,
          10700,
          10754,
          11010,
          10071,
          9201,
          6059,
          7711,
          6190,
          7371,
          7915,
          6299,
          5121,
          5332,
          5504,
          6560,
          6017,
          4767,
          5027,
          3989,
          4515,
          6245,
          4597,
          4622,
          4444,
          4294,
          4638,
          4381,
          2637,
          4245,
          2857,
          3887,
          3549,
          3903,
          4136,
          4249,
          3163,
          3319,
          0,
          2720,
          3206,
          2682,
          2531,
          3422,
          1727,
          2846,
          2328,
          2366,
          1970,
          2143,
          1845,
          1906,
          2878,
          2328,
          2301,
          1821,
          2188,
          2741,
          2051,
          2276,
          0,
          1276,
          0,
          0,
          1939,
          0,
          1616,
          1724,
          1717,
          1209,
          1612,
          940,
          4500,
          1006,
          1040,
          1079,
          1204,
          832,
          580,
          969,
          700,
          696,
          558,
          521,
          767,
          399,
          617,
          369,
          420,
          152,
          0,
          3331
         ],
         "yaxis": "y"
        },
        {
         "alignmentgroup": "True",
         "hovertemplate": "variable=Violent_crimes_2017<br>PD=%{x}<br>value=%{y}<extra></extra>",
         "legendgroup": "Violent_crimes_2017",
         "marker": {
          "color": "#FFA15A"
         },
         "name": "Violent_crimes_2017",
         "offsetgroup": "Violent_crimes_2017",
         "orientation": "v",
         "showlegend": true,
         "textposition": "auto",
         "type": "bar",
         "x": [
          "New York Police Department",
          "Chicago Police Department",
          "Houston Police Department",
          "Philadelphia Police Department",
          "Los Angeles Police Department",
          "Detroit Police Department",
          "Las Vegas Metropolitan Police Department",
          "Memphis Police Department",
          "Indianapolis Metropolitan Police Department",
          "Phoenix Police Department",
          "San Antonio Police Department",
          "Baltimore Police Department",
          "Dallas Police Department",
          "Milwaukee Police Department",
          "Oakland Police Department",
          "DC Metropolitan Police Department",
          "San Francisco Police Department",
          "Metropolitan Nashville Police Department",
          "Kansas City Police Department",
          "Cleveland Police Department",
          "Atlanta Police Department",
          "San Diego Police Department",
          "Jacksonville Sheriff's Office",
          "Charlotte-Mecklenburg Police Department",
          "St. Louis Metropolitan Police Department",
          "Boston Police Department",
          "Oklahoma City Police Department",
          "Miami Police Department",
          "Fort Worth Police Department",
          "Albuquerque Police Department",
          "Denver Police Department",
          "Minneapolis Police Department",
          "Tulsa Police Department",
          "Seattle Police Department",
          "Louisville Metro Police Department",
          "Stockton Police Department",
          "Newark Police Department",
          "Tucson Police Department",
          "Buffalo Police Department",
          "San Jose Police Department",
          "Sacramento Police Department",
          "Austin Police Department",
          "Wichita Police Department",
          "New Orleans Police Department",
          "Portland Police Bureau",
          "Toledo Police Department",
          "Birmingham Police Department",
          "Cincinnati Polce Department",
          "Fresno Police Department",
          "El Paso Police Department",
          "Omaha Police Department",
          "Anchorage Police Department",
          "St. Petersburg Police Department",
          "Long Beach Police Department",
          "Orlando Police Department",
          "Pittsburgh Police Department",
          "St. Paul Police Department",
          "Baton Rouge Police Department",
          "Rochester Police Department",
          "Tampa Police Department",
          "San Bernardino Police Department",
          "Corpus Christi Police Department",
          "Colorado Springs Police Department",
          "Bakersfield Police Department",
          "Arlington Police Department",
          "Lubbock Police Department",
          "Mesa Police Department",
          "North Las Vegas Police Department",
          "Raleigh Police Department",
          "Jersey City Police Department",
          "Greensboro Police Department",
          "Spokane Police Department",
          "Aurora Police Department",
          "Winston-Salem Police Department",
          "Norfolk Police Department",
          "Riverside Police Department",
          "Reno Police Department",
          "Anaheim Police Department",
          "Santa Ana Police Department",
          "Laredo Police Department",
          "Columbus Division of Police",
          "Lincoln Police Department",
          "Fort Wayne Police Department",
          "Lexington Police Department",
          "Glendale Police Department",
          "Madison Police Department",
          "Hialeah Police Department",
          "Chesapeake Police Department",
          "Virginia Beach Police Department",
          "Chula Vista Police Department",
          "Chandler Police Department",
          "Irving Police Department",
          "Garland Police Department",
          "Plano Police Department",
          "Henderson Police Department",
          "Scottsdale Police Department",
          "Fremont Police Department",
          "Irvine Police Department",
          "Durham Police Department",
          "Honolulu Police Department"
         ],
         "xaxis": "x",
         "y": [
          46433,
          29737,
          25609,
          14930,
          30507,
          13796,
          10071,
          13077,
          11616,
          12511,
          10759,
          12430,
          10369,
          9507,
          5521,
          6584,
          6301,
          7682,
          8362,
          5999,
          4504,
          5221,
          5648,
          6304,
          6461,
          4570,
          5104,
          3338,
          5359,
          7686,
          4774,
          4614,
          4214,
          4564,
          4596,
          4379,
          2543,
          4268,
          2611,
          4188,
          3378,
          4032,
          3998,
          4457,
          3349,
          0,
          0,
          2833,
          2974,
          2609,
          2909,
          3564,
          1842,
          3101,
          2113,
          2008,
          1996,
          2335,
          1872,
          1785,
          2805,
          2313,
          2479,
          1827,
          0,
          0,
          2047,
          2461,
          0,
          1365,
          0,
          1360,
          2239,
          0,
          1363,
          1669,
          1674,
          1253,
          1640,
          839,
          4478,
          0,
          952,
          1131,
          1217,
          958,
          473,
          1006,
          625,
          808,
          647,
          549,
          748,
          435,
          554,
          396,
          431,
          169,
          0,
          2440
         ],
         "yaxis": "y"
        },
        {
         "alignmentgroup": "True",
         "hovertemplate": "variable=Violent_crimes_2018<br>PD=%{x}<br>value=%{y}<extra></extra>",
         "legendgroup": "Violent_crimes_2018",
         "marker": {
          "color": "#19d3f3"
         },
         "name": "Violent_crimes_2018",
         "offsetgroup": "Violent_crimes_2018",
         "orientation": "v",
         "showlegend": true,
         "textposition": "auto",
         "type": "bar",
         "x": [
          "New York Police Department",
          "Chicago Police Department",
          "Houston Police Department",
          "Philadelphia Police Department",
          "Los Angeles Police Department",
          "Detroit Police Department",
          "Las Vegas Metropolitan Police Department",
          "Memphis Police Department",
          "Indianapolis Metropolitan Police Department",
          "Phoenix Police Department",
          "San Antonio Police Department",
          "Baltimore Police Department",
          "Dallas Police Department",
          "Milwaukee Police Department",
          "Oakland Police Department",
          "DC Metropolitan Police Department",
          "San Francisco Police Department",
          "Metropolitan Nashville Police Department",
          "Kansas City Police Department",
          "Cleveland Police Department",
          "Atlanta Police Department",
          "San Diego Police Department",
          "Jacksonville Sheriff's Office",
          "Charlotte-Mecklenburg Police Department",
          "St. Louis Metropolitan Police Department",
          "Boston Police Department",
          "Oklahoma City Police Department",
          "Miami Police Department",
          "Fort Worth Police Department",
          "Albuquerque Police Department",
          "Denver Police Department",
          "Minneapolis Police Department",
          "Tulsa Police Department",
          "Seattle Police Department",
          "Louisville Metro Police Department",
          "Stockton Police Department",
          "Newark Police Department",
          "Tucson Police Department",
          "Buffalo Police Department",
          "San Jose Police Department",
          "Sacramento Police Department",
          "Austin Police Department",
          "Wichita Police Department",
          "New Orleans Police Department",
          "Portland Police Bureau",
          "Toledo Police Department",
          "Birmingham Police Department",
          "Cincinnati Polce Department",
          "Fresno Police Department",
          "El Paso Police Department",
          "Omaha Police Department",
          "Anchorage Police Department",
          "St. Petersburg Police Department",
          "Long Beach Police Department",
          "Orlando Police Department",
          "Pittsburgh Police Department",
          "St. Paul Police Department",
          "Baton Rouge Police Department",
          "Rochester Police Department",
          "Tampa Police Department",
          "San Bernardino Police Department",
          "Corpus Christi Police Department",
          "Colorado Springs Police Department",
          "Bakersfield Police Department",
          "Arlington Police Department",
          "Lubbock Police Department",
          "Mesa Police Department",
          "North Las Vegas Police Department",
          "Raleigh Police Department",
          "Jersey City Police Department",
          "Greensboro Police Department",
          "Spokane Police Department",
          "Aurora Police Department",
          "Winston-Salem Police Department",
          "Norfolk Police Department",
          "Riverside Police Department",
          "Reno Police Department",
          "Anaheim Police Department",
          "Santa Ana Police Department",
          "Laredo Police Department",
          "Columbus Division of Police",
          "Lincoln Police Department",
          "Fort Wayne Police Department",
          "Lexington Police Department",
          "Glendale Police Department",
          "Madison Police Department",
          "Hialeah Police Department",
          "Chesapeake Police Department",
          "Virginia Beach Police Department",
          "Chula Vista Police Department",
          "Chandler Police Department",
          "Irving Police Department",
          "Garland Police Department",
          "Plano Police Department",
          "Henderson Police Department",
          "Scottsdale Police Department",
          "Fremont Police Department",
          "Irvine Police Department",
          "Durham Police Department",
          "Honolulu Police Department"
         ],
         "xaxis": "x",
         "y": [
          46113,
          27420,
          24062,
          14420,
          30126,
          13478,
          9949,
          12674,
          11170,
          12110,
          9647,
          11100,
          10422,
          8416,
          5480,
          6613,
          6144,
          7641,
          7842,
          5576,
          3814,
          5360,
          5381,
          6482,
          5525,
          4324,
          5663,
          2978,
          4835,
          7646,
          5262,
          3395,
          4294,
          5052,
          4232,
          4383,
          2069,
          3958,
          2692,
          4444,
          3329,
          3720,
          4622,
          4611,
          3418,
          2333,
          4025,
          2535,
          2953,
          2554,
          2628,
          3824,
          1660,
          3284,
          2282,
          1751,
          1941,
          2067,
          1615,
          1598,
          2906,
          2488,
          2617,
          1895,
          1784,
          2565,
          1837,
          2386,
          0,
          1233,
          0,
          1742,
          2716,
          0,
          1134,
          1686,
          1636,
          1192,
          1571,
          890,
          4416,
          1045,
          1024,
          982,
          1167,
          1043,
          533,
          979,
          528,
          835,
          606,
          510,
          659,
          402,
          583,
          422,
          502,
          160,
          0,
          2451
         ],
         "yaxis": "y"
        }
       ],
       "layout": {
        "barmode": "group",
        "legend": {
         "title": {
          "text": "variable"
         },
         "tracegroupgap": 0
        },
        "margin": {
         "t": 60
        },
        "template": {
         "data": {
          "bar": [
           {
            "error_x": {
             "color": "#2a3f5f"
            },
            "error_y": {
             "color": "#2a3f5f"
            },
            "marker": {
             "line": {
              "color": "#E5ECF6",
              "width": 0.5
             }
            },
            "type": "bar"
           }
          ],
          "barpolar": [
           {
            "marker": {
             "line": {
              "color": "#E5ECF6",
              "width": 0.5
             }
            },
            "type": "barpolar"
           }
          ],
          "carpet": [
           {
            "aaxis": {
             "endlinecolor": "#2a3f5f",
             "gridcolor": "white",
             "linecolor": "white",
             "minorgridcolor": "white",
             "startlinecolor": "#2a3f5f"
            },
            "baxis": {
             "endlinecolor": "#2a3f5f",
             "gridcolor": "white",
             "linecolor": "white",
             "minorgridcolor": "white",
             "startlinecolor": "#2a3f5f"
            },
            "type": "carpet"
           }
          ],
          "choropleth": [
           {
            "colorbar": {
             "outlinewidth": 0,
             "ticks": ""
            },
            "type": "choropleth"
           }
          ],
          "contour": [
           {
            "colorbar": {
             "outlinewidth": 0,
             "ticks": ""
            },
            "colorscale": [
             [
              0,
              "#0d0887"
             ],
             [
              0.1111111111111111,
              "#46039f"
             ],
             [
              0.2222222222222222,
              "#7201a8"
             ],
             [
              0.3333333333333333,
              "#9c179e"
             ],
             [
              0.4444444444444444,
              "#bd3786"
             ],
             [
              0.5555555555555556,
              "#d8576b"
             ],
             [
              0.6666666666666666,
              "#ed7953"
             ],
             [
              0.7777777777777778,
              "#fb9f3a"
             ],
             [
              0.8888888888888888,
              "#fdca26"
             ],
             [
              1,
              "#f0f921"
             ]
            ],
            "type": "contour"
           }
          ],
          "contourcarpet": [
           {
            "colorbar": {
             "outlinewidth": 0,
             "ticks": ""
            },
            "type": "contourcarpet"
           }
          ],
          "heatmap": [
           {
            "colorbar": {
             "outlinewidth": 0,
             "ticks": ""
            },
            "colorscale": [
             [
              0,
              "#0d0887"
             ],
             [
              0.1111111111111111,
              "#46039f"
             ],
             [
              0.2222222222222222,
              "#7201a8"
             ],
             [
              0.3333333333333333,
              "#9c179e"
             ],
             [
              0.4444444444444444,
              "#bd3786"
             ],
             [
              0.5555555555555556,
              "#d8576b"
             ],
             [
              0.6666666666666666,
              "#ed7953"
             ],
             [
              0.7777777777777778,
              "#fb9f3a"
             ],
             [
              0.8888888888888888,
              "#fdca26"
             ],
             [
              1,
              "#f0f921"
             ]
            ],
            "type": "heatmap"
           }
          ],
          "heatmapgl": [
           {
            "colorbar": {
             "outlinewidth": 0,
             "ticks": ""
            },
            "colorscale": [
             [
              0,
              "#0d0887"
             ],
             [
              0.1111111111111111,
              "#46039f"
             ],
             [
              0.2222222222222222,
              "#7201a8"
             ],
             [
              0.3333333333333333,
              "#9c179e"
             ],
             [
              0.4444444444444444,
              "#bd3786"
             ],
             [
              0.5555555555555556,
              "#d8576b"
             ],
             [
              0.6666666666666666,
              "#ed7953"
             ],
             [
              0.7777777777777778,
              "#fb9f3a"
             ],
             [
              0.8888888888888888,
              "#fdca26"
             ],
             [
              1,
              "#f0f921"
             ]
            ],
            "type": "heatmapgl"
           }
          ],
          "histogram": [
           {
            "marker": {
             "colorbar": {
              "outlinewidth": 0,
              "ticks": ""
             }
            },
            "type": "histogram"
           }
          ],
          "histogram2d": [
           {
            "colorbar": {
             "outlinewidth": 0,
             "ticks": ""
            },
            "colorscale": [
             [
              0,
              "#0d0887"
             ],
             [
              0.1111111111111111,
              "#46039f"
             ],
             [
              0.2222222222222222,
              "#7201a8"
             ],
             [
              0.3333333333333333,
              "#9c179e"
             ],
             [
              0.4444444444444444,
              "#bd3786"
             ],
             [
              0.5555555555555556,
              "#d8576b"
             ],
             [
              0.6666666666666666,
              "#ed7953"
             ],
             [
              0.7777777777777778,
              "#fb9f3a"
             ],
             [
              0.8888888888888888,
              "#fdca26"
             ],
             [
              1,
              "#f0f921"
             ]
            ],
            "type": "histogram2d"
           }
          ],
          "histogram2dcontour": [
           {
            "colorbar": {
             "outlinewidth": 0,
             "ticks": ""
            },
            "colorscale": [
             [
              0,
              "#0d0887"
             ],
             [
              0.1111111111111111,
              "#46039f"
             ],
             [
              0.2222222222222222,
              "#7201a8"
             ],
             [
              0.3333333333333333,
              "#9c179e"
             ],
             [
              0.4444444444444444,
              "#bd3786"
             ],
             [
              0.5555555555555556,
              "#d8576b"
             ],
             [
              0.6666666666666666,
              "#ed7953"
             ],
             [
              0.7777777777777778,
              "#fb9f3a"
             ],
             [
              0.8888888888888888,
              "#fdca26"
             ],
             [
              1,
              "#f0f921"
             ]
            ],
            "type": "histogram2dcontour"
           }
          ],
          "mesh3d": [
           {
            "colorbar": {
             "outlinewidth": 0,
             "ticks": ""
            },
            "type": "mesh3d"
           }
          ],
          "parcoords": [
           {
            "line": {
             "colorbar": {
              "outlinewidth": 0,
              "ticks": ""
             }
            },
            "type": "parcoords"
           }
          ],
          "pie": [
           {
            "automargin": true,
            "type": "pie"
           }
          ],
          "scatter": [
           {
            "marker": {
             "colorbar": {
              "outlinewidth": 0,
              "ticks": ""
             }
            },
            "type": "scatter"
           }
          ],
          "scatter3d": [
           {
            "line": {
             "colorbar": {
              "outlinewidth": 0,
              "ticks": ""
             }
            },
            "marker": {
             "colorbar": {
              "outlinewidth": 0,
              "ticks": ""
             }
            },
            "type": "scatter3d"
           }
          ],
          "scattercarpet": [
           {
            "marker": {
             "colorbar": {
              "outlinewidth": 0,
              "ticks": ""
             }
            },
            "type": "scattercarpet"
           }
          ],
          "scattergeo": [
           {
            "marker": {
             "colorbar": {
              "outlinewidth": 0,
              "ticks": ""
             }
            },
            "type": "scattergeo"
           }
          ],
          "scattergl": [
           {
            "marker": {
             "colorbar": {
              "outlinewidth": 0,
              "ticks": ""
             }
            },
            "type": "scattergl"
           }
          ],
          "scattermapbox": [
           {
            "marker": {
             "colorbar": {
              "outlinewidth": 0,
              "ticks": ""
             }
            },
            "type": "scattermapbox"
           }
          ],
          "scatterpolar": [
           {
            "marker": {
             "colorbar": {
              "outlinewidth": 0,
              "ticks": ""
             }
            },
            "type": "scatterpolar"
           }
          ],
          "scatterpolargl": [
           {
            "marker": {
             "colorbar": {
              "outlinewidth": 0,
              "ticks": ""
             }
            },
            "type": "scatterpolargl"
           }
          ],
          "scatterternary": [
           {
            "marker": {
             "colorbar": {
              "outlinewidth": 0,
              "ticks": ""
             }
            },
            "type": "scatterternary"
           }
          ],
          "surface": [
           {
            "colorbar": {
             "outlinewidth": 0,
             "ticks": ""
            },
            "colorscale": [
             [
              0,
              "#0d0887"
             ],
             [
              0.1111111111111111,
              "#46039f"
             ],
             [
              0.2222222222222222,
              "#7201a8"
             ],
             [
              0.3333333333333333,
              "#9c179e"
             ],
             [
              0.4444444444444444,
              "#bd3786"
             ],
             [
              0.5555555555555556,
              "#d8576b"
             ],
             [
              0.6666666666666666,
              "#ed7953"
             ],
             [
              0.7777777777777778,
              "#fb9f3a"
             ],
             [
              0.8888888888888888,
              "#fdca26"
             ],
             [
              1,
              "#f0f921"
             ]
            ],
            "type": "surface"
           }
          ],
          "table": [
           {
            "cells": {
             "fill": {
              "color": "#EBF0F8"
             },
             "line": {
              "color": "white"
             }
            },
            "header": {
             "fill": {
              "color": "#C8D4E3"
             },
             "line": {
              "color": "white"
             }
            },
            "type": "table"
           }
          ]
         },
         "layout": {
          "annotationdefaults": {
           "arrowcolor": "#2a3f5f",
           "arrowhead": 0,
           "arrowwidth": 1
          },
          "coloraxis": {
           "colorbar": {
            "outlinewidth": 0,
            "ticks": ""
           }
          },
          "colorscale": {
           "diverging": [
            [
             0,
             "#8e0152"
            ],
            [
             0.1,
             "#c51b7d"
            ],
            [
             0.2,
             "#de77ae"
            ],
            [
             0.3,
             "#f1b6da"
            ],
            [
             0.4,
             "#fde0ef"
            ],
            [
             0.5,
             "#f7f7f7"
            ],
            [
             0.6,
             "#e6f5d0"
            ],
            [
             0.7,
             "#b8e186"
            ],
            [
             0.8,
             "#7fbc41"
            ],
            [
             0.9,
             "#4d9221"
            ],
            [
             1,
             "#276419"
            ]
           ],
           "sequential": [
            [
             0,
             "#0d0887"
            ],
            [
             0.1111111111111111,
             "#46039f"
            ],
            [
             0.2222222222222222,
             "#7201a8"
            ],
            [
             0.3333333333333333,
             "#9c179e"
            ],
            [
             0.4444444444444444,
             "#bd3786"
            ],
            [
             0.5555555555555556,
             "#d8576b"
            ],
            [
             0.6666666666666666,
             "#ed7953"
            ],
            [
             0.7777777777777778,
             "#fb9f3a"
            ],
            [
             0.8888888888888888,
             "#fdca26"
            ],
            [
             1,
             "#f0f921"
            ]
           ],
           "sequentialminus": [
            [
             0,
             "#0d0887"
            ],
            [
             0.1111111111111111,
             "#46039f"
            ],
            [
             0.2222222222222222,
             "#7201a8"
            ],
            [
             0.3333333333333333,
             "#9c179e"
            ],
            [
             0.4444444444444444,
             "#bd3786"
            ],
            [
             0.5555555555555556,
             "#d8576b"
            ],
            [
             0.6666666666666666,
             "#ed7953"
            ],
            [
             0.7777777777777778,
             "#fb9f3a"
            ],
            [
             0.8888888888888888,
             "#fdca26"
            ],
            [
             1,
             "#f0f921"
            ]
           ]
          },
          "colorway": [
           "#636efa",
           "#EF553B",
           "#00cc96",
           "#ab63fa",
           "#FFA15A",
           "#19d3f3",
           "#FF6692",
           "#B6E880",
           "#FF97FF",
           "#FECB52"
          ],
          "font": {
           "color": "#2a3f5f"
          },
          "geo": {
           "bgcolor": "white",
           "lakecolor": "white",
           "landcolor": "#E5ECF6",
           "showlakes": true,
           "showland": true,
           "subunitcolor": "white"
          },
          "hoverlabel": {
           "align": "left"
          },
          "hovermode": "closest",
          "mapbox": {
           "style": "light"
          },
          "paper_bgcolor": "white",
          "plot_bgcolor": "#E5ECF6",
          "polar": {
           "angularaxis": {
            "gridcolor": "white",
            "linecolor": "white",
            "ticks": ""
           },
           "bgcolor": "#E5ECF6",
           "radialaxis": {
            "gridcolor": "white",
            "linecolor": "white",
            "ticks": ""
           }
          },
          "scene": {
           "xaxis": {
            "backgroundcolor": "#E5ECF6",
            "gridcolor": "white",
            "gridwidth": 2,
            "linecolor": "white",
            "showbackground": true,
            "ticks": "",
            "zerolinecolor": "white"
           },
           "yaxis": {
            "backgroundcolor": "#E5ECF6",
            "gridcolor": "white",
            "gridwidth": 2,
            "linecolor": "white",
            "showbackground": true,
            "ticks": "",
            "zerolinecolor": "white"
           },
           "zaxis": {
            "backgroundcolor": "#E5ECF6",
            "gridcolor": "white",
            "gridwidth": 2,
            "linecolor": "white",
            "showbackground": true,
            "ticks": "",
            "zerolinecolor": "white"
           }
          },
          "shapedefaults": {
           "line": {
            "color": "#2a3f5f"
           }
          },
          "ternary": {
           "aaxis": {
            "gridcolor": "white",
            "linecolor": "white",
            "ticks": ""
           },
           "baxis": {
            "gridcolor": "white",
            "linecolor": "white",
            "ticks": ""
           },
           "bgcolor": "#E5ECF6",
           "caxis": {
            "gridcolor": "white",
            "linecolor": "white",
            "ticks": ""
           }
          },
          "title": {
           "x": 0.05
          },
          "xaxis": {
           "automargin": true,
           "gridcolor": "white",
           "linecolor": "white",
           "ticks": "",
           "title": {
            "standoff": 15
           },
           "zerolinecolor": "white",
           "zerolinewidth": 2
          },
          "yaxis": {
           "automargin": true,
           "gridcolor": "white",
           "linecolor": "white",
           "ticks": "",
           "title": {
            "standoff": 15
           },
           "zerolinecolor": "white",
           "zerolinewidth": 2
          }
         }
        },
        "xaxis": {
         "anchor": "y",
         "domain": [
          0,
          1
         ],
         "title": {
          "text": "PD"
         }
        },
        "yaxis": {
         "anchor": "x",
         "domain": [
          0,
          1
         ],
         "title": {
          "text": "value"
         }
        }
       }
      },
      "text/html": [
       "<div>\n",
       "        \n",
       "        \n",
       "            <div id=\"bd39d2c9-0e4c-46a4-aa18-e2719b3cd841\" class=\"plotly-graph-div\" style=\"height:525px; width:100%;\"></div>\n",
       "            <script type=\"text/javascript\">\n",
       "                require([\"plotly\"], function(Plotly) {\n",
       "                    window.PLOTLYENV=window.PLOTLYENV || {};\n",
       "                    \n",
       "                if (document.getElementById(\"bd39d2c9-0e4c-46a4-aa18-e2719b3cd841\")) {\n",
       "                    Plotly.newPlot(\n",
       "                        'bd39d2c9-0e4c-46a4-aa18-e2719b3cd841',\n",
       "                        [{\"alignmentgroup\": \"True\", \"hovertemplate\": \"variable=Violent_crimes_2013<br>PD=%{x}<br>value=%{y}<extra></extra>\", \"legendgroup\": \"Violent_crimes_2013\", \"marker\": {\"color\": \"#636efa\"}, \"name\": \"Violent_crimes_2013\", \"offsetgroup\": \"Violent_crimes_2013\", \"orientation\": \"v\", \"showlegend\": true, \"textposition\": \"auto\", \"type\": \"bar\", \"x\": [\"New York Police Department\", \"Chicago Police Department\", \"Houston Police Department\", \"Philadelphia Police Department\", \"Los Angeles Police Department\", \"Detroit Police Department\", \"Las Vegas Metropolitan Police Department\", \"Memphis Police Department\", \"Indianapolis Metropolitan Police Department\", \"Phoenix Police Department\", \"San Antonio Police Department\", \"Baltimore Police Department\", \"Dallas Police Department\", \"Milwaukee Police Department\", \"Oakland Police Department\", \"DC Metropolitan Police Department\", \"San Francisco Police Department\", \"Metropolitan Nashville Police Department\", \"Kansas City Police Department\", \"Cleveland Police Department\", \"Atlanta Police Department\", \"San Diego Police Department\", \"Jacksonville Sheriff's Office\", \"Charlotte-Mecklenburg Police Department\", \"St. Louis Metropolitan Police Department\", \"Boston Police Department\", \"Oklahoma City Police Department\", \"Miami Police Department\", \"Fort Worth Police Department\", \"Albuquerque Police Department\", \"Denver Police Department\", \"Minneapolis Police Department\", \"Tulsa Police Department\", \"Seattle Police Department\", \"Louisville Metro Police Department\", \"Stockton Police Department\", \"Newark Police Department\", \"Tucson Police Department\", \"Buffalo Police Department\", \"San Jose Police Department\", \"Sacramento Police Department\", \"Austin Police Department\", \"Wichita Police Department\", \"New Orleans Police Department\", \"Portland Police Bureau\", \"Toledo Police Department\", \"Birmingham Police Department\", \"Cincinnati Polce Department\", \"Fresno Police Department\", \"El Paso Police Department\", \"Omaha Police Department\", \"Anchorage Police Department\", \"St. Petersburg Police Department\", \"Long Beach Police Department\", \"Orlando Police Department\", \"Pittsburgh Police Department\", \"St. Paul Police Department\", \"Baton Rouge Police Department\", \"Rochester Police Department\", \"Tampa Police Department\", \"San Bernardino Police Department\", \"Corpus Christi Police Department\", \"Colorado Springs Police Department\", \"Bakersfield Police Department\", \"Arlington Police Department\", \"Lubbock Police Department\", \"Mesa Police Department\", \"North Las Vegas Police Department\", \"Raleigh Police Department\", \"Jersey City Police Department\", \"Greensboro Police Department\", \"Spokane Police Department\", \"Aurora Police Department\", \"Winston-Salem Police Department\", \"Norfolk Police Department\", \"Riverside Police Department\", \"Reno Police Department\", \"Anaheim Police Department\", \"Santa Ana Police Department\", \"Laredo Police Department\", \"Columbus Division of Police\", \"Lincoln Police Department\", \"Fort Wayne Police Department\", \"Lexington Police Department\", \"Glendale Police Department\", \"Madison Police Department\", \"Hialeah Police Department\", \"Chesapeake Police Department\", \"Virginia Beach Police Department\", \"Chula Vista Police Department\", \"Chandler Police Department\", \"Irving Police Department\", \"Garland Police Department\", \"Plano Police Department\", \"Henderson Police Department\", \"Scottsdale Police Department\", \"Fremont Police Department\", \"Irvine Police Department\", \"Durham Police Department\", \"Honolulu Police Department\"], \"xaxis\": \"x\", \"y\": [52384.0, 25688.0, 20993.0, 17074.0, 16524.0, 14504.0, 11374.0, 10894.0, 10479.0, 9492.0, 8828.0, 8725.0, 8330.0, 8194.0, 7984.0, 7880.0, 7064.0, 6612.0, 5864.0, 5751.0, 5517.0, 5303.0, 5246.0, 5093.0, 5077.0, 5037.0, 4998.0, 4945.0, 4440.0, 4325.0, 4087.0, 4038.0, 3827.0, 3758.0, 3644.0, 3622.0, 3516.0, 3368.0, 3249.0, 3215.0, 3137.0, 3123.0, 3065.0, 2965.0, 2941.0, 2902.0, 2852.0, 2826.0, 2552.0, 2522.0, 2449.0, 2435.0, 2379.0, 2346.0, 2316.0, 2259.0, 2200.0, 2127.0, 2107.0, 2097.0, 1949.0, 1939.0, 1893.0, 1857.0, 1837.0, 1829.0, 1807.0, 1806.0, 1683.0, 1655.0, 1449.0, 1440.0, 1436.0, 1426.0, 1418.0, 1330.0, 1154.0, 1130.0, 1121.0, 1027.0, 1022.0, 990.0, 949.0, 946.0, 905.0, 884.0, 774.0, 737.0, 730.0, 595.0, 575.0, 530.0, 514.0, 389.0, 367.0, 337.0, 273.0, 113.0, 0.0, 0.0], \"yaxis\": \"y\"}, {\"alignmentgroup\": \"True\", \"hovertemplate\": \"variable=Violent_crimes_2014<br>PD=%{x}<br>value=%{y}<extra></extra>\", \"legendgroup\": \"Violent_crimes_2014\", \"marker\": {\"color\": \"#EF553B\"}, \"name\": \"Violent_crimes_2014\", \"offsetgroup\": \"Violent_crimes_2014\", \"orientation\": \"v\", \"showlegend\": true, \"textposition\": \"auto\", \"type\": \"bar\", \"x\": [\"New York Police Department\", \"Chicago Police Department\", \"Houston Police Department\", \"Philadelphia Police Department\", \"Los Angeles Police Department\", \"Detroit Police Department\", \"Las Vegas Metropolitan Police Department\", \"Memphis Police Department\", \"Indianapolis Metropolitan Police Department\", \"Phoenix Police Department\", \"San Antonio Police Department\", \"Baltimore Police Department\", \"Dallas Police Department\", \"Milwaukee Police Department\", \"Oakland Police Department\", \"DC Metropolitan Police Department\", \"San Francisco Police Department\", \"Metropolitan Nashville Police Department\", \"Kansas City Police Department\", \"Cleveland Police Department\", \"Atlanta Police Department\", \"San Diego Police Department\", \"Jacksonville Sheriff's Office\", \"Charlotte-Mecklenburg Police Department\", \"St. Louis Metropolitan Police Department\", \"Boston Police Department\", \"Oklahoma City Police Department\", \"Miami Police Department\", \"Fort Worth Police Department\", \"Albuquerque Police Department\", \"Denver Police Department\", \"Minneapolis Police Department\", \"Tulsa Police Department\", \"Seattle Police Department\", \"Louisville Metro Police Department\", \"Stockton Police Department\", \"Newark Police Department\", \"Tucson Police Department\", \"Buffalo Police Department\", \"San Jose Police Department\", \"Sacramento Police Department\", \"Austin Police Department\", \"Wichita Police Department\", \"New Orleans Police Department\", \"Portland Police Bureau\", \"Toledo Police Department\", \"Birmingham Police Department\", \"Cincinnati Polce Department\", \"Fresno Police Department\", \"El Paso Police Department\", \"Omaha Police Department\", \"Anchorage Police Department\", \"St. Petersburg Police Department\", \"Long Beach Police Department\", \"Orlando Police Department\", \"Pittsburgh Police Department\", \"St. Paul Police Department\", \"Baton Rouge Police Department\", \"Rochester Police Department\", \"Tampa Police Department\", \"San Bernardino Police Department\", \"Corpus Christi Police Department\", \"Colorado Springs Police Department\", \"Bakersfield Police Department\", \"Arlington Police Department\", \"Lubbock Police Department\", \"Mesa Police Department\", \"North Las Vegas Police Department\", \"Raleigh Police Department\", \"Jersey City Police Department\", \"Greensboro Police Department\", \"Spokane Police Department\", \"Aurora Police Department\", \"Winston-Salem Police Department\", \"Norfolk Police Department\", \"Riverside Police Department\", \"Reno Police Department\", \"Anaheim Police Department\", \"Santa Ana Police Department\", \"Laredo Police Department\", \"Columbus Division of Police\", \"Lincoln Police Department\", \"Fort Wayne Police Department\", \"Lexington Police Department\", \"Glendale Police Department\", \"Madison Police Department\", \"Hialeah Police Department\", \"Chesapeake Police Department\", \"Virginia Beach Police Department\", \"Chula Vista Police Department\", \"Chandler Police Department\", \"Irving Police Department\", \"Garland Police Department\", \"Plano Police Department\", \"Henderson Police Department\", \"Scottsdale Police Department\", \"Fremont Police Department\", \"Irvine Police Department\", \"Durham Police Department\", \"Honolulu Police Department\"], \"xaxis\": \"x\", \"y\": [50564.0, 24133.0, 22008.0, 15925.0, 19171.0, 13616.0, 12876.0, 11399.0, 10768.0, 8749.0, 7704.0, 8346.0, 8457.0, 8864.0, 6910.0, 7810.0, 6761.0, 7270.0, 5862.0, 5186.0, 5577.0, 5214.0, 5853.0, 5054.0, 5348.0, 4749.0, 4782.0, 4473.0, 4492.0, 4934.0, 3983.0, 4093.0, 3217.0, 4001.0, 4015.0, 3988.0, 3008.0, 0.0, 3174.0, 3242.0, 2968.0, 3581.0, 0.0, 3770.0, 2911.0, 3068.0, 3369.0, 2695.0, 2382.0, 2671.0, 2458.0, 2605.0, 2169.0, 2304.0, 2340.0, 2455.0, 1974.0, 2120.0, 1765.0, 2080.0, 2128.0, 2094.0, 2039.0, 1678.0, 1854.0, 2084.0, 2119.0, 1782.0, 0.0, 1381.0, 1346.0, 1156.0, 1448.0, 1696.0, 1280.0, 1384.0, 1147.0, 1101.0, 1260.0, 976.0, 4563.0, 918.0, 816.0, 1041.0, 186.0, 846.0, 782.0, 991.0, 660.0, 612.0, 466.0, 512.0, 644.0, 459.0, 452.0, 0.0, 284.0, 120.0, 1834.0, 0.0], \"yaxis\": \"y\"}, {\"alignmentgroup\": \"True\", \"hovertemplate\": \"variable=Violent_crimes_2015<br>PD=%{x}<br>value=%{y}<extra></extra>\", \"legendgroup\": \"Violent_crimes_2015\", \"marker\": {\"color\": \"#00cc96\"}, \"name\": \"Violent_crimes_2015\", \"offsetgroup\": \"Violent_crimes_2015\", \"orientation\": \"v\", \"showlegend\": true, \"textposition\": \"auto\", \"type\": \"bar\", \"x\": [\"New York Police Department\", \"Chicago Police Department\", \"Houston Police Department\", \"Philadelphia Police Department\", \"Los Angeles Police Department\", \"Detroit Police Department\", \"Las Vegas Metropolitan Police Department\", \"Memphis Police Department\", \"Indianapolis Metropolitan Police Department\", \"Phoenix Police Department\", \"San Antonio Police Department\", \"Baltimore Police Department\", \"Dallas Police Department\", \"Milwaukee Police Department\", \"Oakland Police Department\", \"DC Metropolitan Police Department\", \"San Francisco Police Department\", \"Metropolitan Nashville Police Department\", \"Kansas City Police Department\", \"Cleveland Police Department\", \"Atlanta Police Department\", \"San Diego Police Department\", \"Jacksonville Sheriff's Office\", \"Charlotte-Mecklenburg Police Department\", \"St. Louis Metropolitan Police Department\", \"Boston Police Department\", \"Oklahoma City Police Department\", \"Miami Police Department\", \"Fort Worth Police Department\", \"Albuquerque Police Department\", \"Denver Police Department\", \"Minneapolis Police Department\", \"Tulsa Police Department\", \"Seattle Police Department\", \"Louisville Metro Police Department\", \"Stockton Police Department\", \"Newark Police Department\", \"Tucson Police Department\", \"Buffalo Police Department\", \"San Jose Police Department\", \"Sacramento Police Department\", \"Austin Police Department\", \"Wichita Police Department\", \"New Orleans Police Department\", \"Portland Police Bureau\", \"Toledo Police Department\", \"Birmingham Police Department\", \"Cincinnati Polce Department\", \"Fresno Police Department\", \"El Paso Police Department\", \"Omaha Police Department\", \"Anchorage Police Department\", \"St. Petersburg Police Department\", \"Long Beach Police Department\", \"Orlando Police Department\", \"Pittsburgh Police Department\", \"St. Paul Police Department\", \"Baton Rouge Police Department\", \"Rochester Police Department\", \"Tampa Police Department\", \"San Bernardino Police Department\", \"Corpus Christi Police Department\", \"Colorado Springs Police Department\", \"Bakersfield Police Department\", \"Arlington Police Department\", \"Lubbock Police Department\", \"Mesa Police Department\", \"North Las Vegas Police Department\", \"Raleigh Police Department\", \"Jersey City Police Department\", \"Greensboro Police Department\", \"Spokane Police Department\", \"Aurora Police Department\", \"Winston-Salem Police Department\", \"Norfolk Police Department\", \"Riverside Police Department\", \"Reno Police Department\", \"Anaheim Police Department\", \"Santa Ana Police Department\", \"Laredo Police Department\", \"Columbus Division of Police\", \"Lincoln Police Department\", \"Fort Wayne Police Department\", \"Lexington Police Department\", \"Glendale Police Department\", \"Madison Police Department\", \"Hialeah Police Department\", \"Chesapeake Police Department\", \"Virginia Beach Police Department\", \"Chula Vista Police Department\", \"Chandler Police Department\", \"Irving Police Department\", \"Garland Police Department\", \"Plano Police Department\", \"Henderson Police Department\", \"Scottsdale Police Department\", \"Fremont Police Department\", \"Irvine Police Department\", \"Durham Police Department\", \"Honolulu Police Department\"], \"xaxis\": \"x\", \"y\": [50088.0, 24698.0, 21994.0, 16132.0, 25156.0, 11846.0, 14383.0, 11449.0, 11124.0, 9261.0, 8594.0, 9542.0, 9038.0, 9583.0, 6051.0, 8084.0, 6710.0, 7245.0, 6709.0, 0.0, 5203.0, 5582.0, 5622.0, 5948.0, 5762.0, 4702.0, 4828.0, 4473.0, 4382.0, 5406.0, 4599.0, 4395.0, 3628.0, 4093.0, 4315.0, 4122.0, 0.0, 3472.0, 2887.0, 3400.0, 3611.0, 3497.0, 3839.0, 3736.0, 680.0, 3156.0, 3707.0, 2761.0, 2871.0, 2515.0, 2329.0, 3226.0, 1898.0, 2766.0, 2525.0, 2167.0, 2115.0, 2001.0, 1839.0, 2298.0, 2697.0, 2092.0, 1983.0, 1810.0, 1946.0, 2391.0, 1972.0, 2130.0, 0.0, 1383.0, 1707.0, 1111.0, 1660.0, 0.0, 1329.0, 1441.0, 1419.0, 1271.0, 1626.0, 972.0, 4631.0, 1025.0, 984.0, 1044.0, 943.0, 890.0, 767.0, 897.0, 626.0, 705.0, 490.0, 469.0, 709.0, 433.0, 476.0, 434.0, 337.0, 144.0, 2185.0, 2437.0], \"yaxis\": \"y\"}, {\"alignmentgroup\": \"True\", \"hovertemplate\": \"variable=Violent_crimes_2016<br>PD=%{x}<br>value=%{y}<extra></extra>\", \"legendgroup\": \"Violent_crimes_2016\", \"marker\": {\"color\": \"#ab63fa\"}, \"name\": \"Violent_crimes_2016\", \"offsetgroup\": \"Violent_crimes_2016\", \"orientation\": \"v\", \"showlegend\": true, \"textposition\": \"auto\", \"type\": \"bar\", \"x\": [\"New York Police Department\", \"Chicago Police Department\", \"Houston Police Department\", \"Philadelphia Police Department\", \"Los Angeles Police Department\", \"Detroit Police Department\", \"Las Vegas Metropolitan Police Department\", \"Memphis Police Department\", \"Indianapolis Metropolitan Police Department\", \"Phoenix Police Department\", \"San Antonio Police Department\", \"Baltimore Police Department\", \"Dallas Police Department\", \"Milwaukee Police Department\", \"Oakland Police Department\", \"DC Metropolitan Police Department\", \"San Francisco Police Department\", \"Metropolitan Nashville Police Department\", \"Kansas City Police Department\", \"Cleveland Police Department\", \"Atlanta Police Department\", \"San Diego Police Department\", \"Jacksonville Sheriff's Office\", \"Charlotte-Mecklenburg Police Department\", \"St. Louis Metropolitan Police Department\", \"Boston Police Department\", \"Oklahoma City Police Department\", \"Miami Police Department\", \"Fort Worth Police Department\", \"Albuquerque Police Department\", \"Denver Police Department\", \"Minneapolis Police Department\", \"Tulsa Police Department\", \"Seattle Police Department\", \"Louisville Metro Police Department\", \"Stockton Police Department\", \"Newark Police Department\", \"Tucson Police Department\", \"Buffalo Police Department\", \"San Jose Police Department\", \"Sacramento Police Department\", \"Austin Police Department\", \"Wichita Police Department\", \"New Orleans Police Department\", \"Portland Police Bureau\", \"Toledo Police Department\", \"Birmingham Police Department\", \"Cincinnati Polce Department\", \"Fresno Police Department\", \"El Paso Police Department\", \"Omaha Police Department\", \"Anchorage Police Department\", \"St. Petersburg Police Department\", \"Long Beach Police Department\", \"Orlando Police Department\", \"Pittsburgh Police Department\", \"St. Paul Police Department\", \"Baton Rouge Police Department\", \"Rochester Police Department\", \"Tampa Police Department\", \"San Bernardino Police Department\", \"Corpus Christi Police Department\", \"Colorado Springs Police Department\", \"Bakersfield Police Department\", \"Arlington Police Department\", \"Lubbock Police Department\", \"Mesa Police Department\", \"North Las Vegas Police Department\", \"Raleigh Police Department\", \"Jersey City Police Department\", \"Greensboro Police Department\", \"Spokane Police Department\", \"Aurora Police Department\", \"Winston-Salem Police Department\", \"Norfolk Police Department\", \"Riverside Police Department\", \"Reno Police Department\", \"Anaheim Police Department\", \"Santa Ana Police Department\", \"Laredo Police Department\", \"Columbus Division of Police\", \"Lincoln Police Department\", \"Fort Wayne Police Department\", \"Lexington Police Department\", \"Glendale Police Department\", \"Madison Police Department\", \"Hialeah Police Department\", \"Chesapeake Police Department\", \"Virginia Beach Police Department\", \"Chula Vista Police Department\", \"Chandler Police Department\", \"Irving Police Department\", \"Garland Police Department\", \"Plano Police Department\", \"Henderson Police Department\", \"Scottsdale Police Department\", \"Fremont Police Department\", \"Irvine Police Department\", \"Durham Police Department\", \"Honolulu Police Department\"], \"xaxis\": \"x\", \"y\": [49124.0, 30193.0, 23960.0, 15534.0, 28817.0, 13705.0, 13520.0, 11947.0, 11907.0, 10700.0, 10754.0, 11010.0, 10071.0, 9201.0, 6059.0, 7711.0, 6190.0, 7371.0, 7915.0, 6299.0, 5121.0, 5332.0, 5504.0, 6560.0, 6017.0, 4767.0, 5027.0, 3989.0, 4515.0, 6245.0, 4597.0, 4622.0, 4444.0, 4294.0, 4638.0, 4381.0, 2637.0, 4245.0, 2857.0, 3887.0, 3549.0, 3903.0, 4136.0, 4249.0, 3163.0, 3319.0, 0.0, 2720.0, 3206.0, 2682.0, 2531.0, 3422.0, 1727.0, 2846.0, 2328.0, 2366.0, 1970.0, 2143.0, 1845.0, 1906.0, 2878.0, 2328.0, 2301.0, 1821.0, 2188.0, 2741.0, 2051.0, 2276.0, 0.0, 1276.0, 0.0, 0.0, 1939.0, 0.0, 1616.0, 1724.0, 1717.0, 1209.0, 1612.0, 940.0, 4500.0, 1006.0, 1040.0, 1079.0, 1204.0, 832.0, 580.0, 969.0, 700.0, 696.0, 558.0, 521.0, 767.0, 399.0, 617.0, 369.0, 420.0, 152.0, 0.0, 3331.0], \"yaxis\": \"y\"}, {\"alignmentgroup\": \"True\", \"hovertemplate\": \"variable=Violent_crimes_2017<br>PD=%{x}<br>value=%{y}<extra></extra>\", \"legendgroup\": \"Violent_crimes_2017\", \"marker\": {\"color\": \"#FFA15A\"}, \"name\": \"Violent_crimes_2017\", \"offsetgroup\": \"Violent_crimes_2017\", \"orientation\": \"v\", \"showlegend\": true, \"textposition\": \"auto\", \"type\": \"bar\", \"x\": [\"New York Police Department\", \"Chicago Police Department\", \"Houston Police Department\", \"Philadelphia Police Department\", \"Los Angeles Police Department\", \"Detroit Police Department\", \"Las Vegas Metropolitan Police Department\", \"Memphis Police Department\", \"Indianapolis Metropolitan Police Department\", \"Phoenix Police Department\", \"San Antonio Police Department\", \"Baltimore Police Department\", \"Dallas Police Department\", \"Milwaukee Police Department\", \"Oakland Police Department\", \"DC Metropolitan Police Department\", \"San Francisco Police Department\", \"Metropolitan Nashville Police Department\", \"Kansas City Police Department\", \"Cleveland Police Department\", \"Atlanta Police Department\", \"San Diego Police Department\", \"Jacksonville Sheriff's Office\", \"Charlotte-Mecklenburg Police Department\", \"St. Louis Metropolitan Police Department\", \"Boston Police Department\", \"Oklahoma City Police Department\", \"Miami Police Department\", \"Fort Worth Police Department\", \"Albuquerque Police Department\", \"Denver Police Department\", \"Minneapolis Police Department\", \"Tulsa Police Department\", \"Seattle Police Department\", \"Louisville Metro Police Department\", \"Stockton Police Department\", \"Newark Police Department\", \"Tucson Police Department\", \"Buffalo Police Department\", \"San Jose Police Department\", \"Sacramento Police Department\", \"Austin Police Department\", \"Wichita Police Department\", \"New Orleans Police Department\", \"Portland Police Bureau\", \"Toledo Police Department\", \"Birmingham Police Department\", \"Cincinnati Polce Department\", \"Fresno Police Department\", \"El Paso Police Department\", \"Omaha Police Department\", \"Anchorage Police Department\", \"St. Petersburg Police Department\", \"Long Beach Police Department\", \"Orlando Police Department\", \"Pittsburgh Police Department\", \"St. Paul Police Department\", \"Baton Rouge Police Department\", \"Rochester Police Department\", \"Tampa Police Department\", \"San Bernardino Police Department\", \"Corpus Christi Police Department\", \"Colorado Springs Police Department\", \"Bakersfield Police Department\", \"Arlington Police Department\", \"Lubbock Police Department\", \"Mesa Police Department\", \"North Las Vegas Police Department\", \"Raleigh Police Department\", \"Jersey City Police Department\", \"Greensboro Police Department\", \"Spokane Police Department\", \"Aurora Police Department\", \"Winston-Salem Police Department\", \"Norfolk Police Department\", \"Riverside Police Department\", \"Reno Police Department\", \"Anaheim Police Department\", \"Santa Ana Police Department\", \"Laredo Police Department\", \"Columbus Division of Police\", \"Lincoln Police Department\", \"Fort Wayne Police Department\", \"Lexington Police Department\", \"Glendale Police Department\", \"Madison Police Department\", \"Hialeah Police Department\", \"Chesapeake Police Department\", \"Virginia Beach Police Department\", \"Chula Vista Police Department\", \"Chandler Police Department\", \"Irving Police Department\", \"Garland Police Department\", \"Plano Police Department\", \"Henderson Police Department\", \"Scottsdale Police Department\", \"Fremont Police Department\", \"Irvine Police Department\", \"Durham Police Department\", \"Honolulu Police Department\"], \"xaxis\": \"x\", \"y\": [46433.0, 29737.0, 25609.0, 14930.0, 30507.0, 13796.0, 10071.0, 13077.0, 11616.0, 12511.0, 10759.0, 12430.0, 10369.0, 9507.0, 5521.0, 6584.0, 6301.0, 7682.0, 8362.0, 5999.0, 4504.0, 5221.0, 5648.0, 6304.0, 6461.0, 4570.0, 5104.0, 3338.0, 5359.0, 7686.0, 4774.0, 4614.0, 4214.0, 4564.0, 4596.0, 4379.0, 2543.0, 4268.0, 2611.0, 4188.0, 3378.0, 4032.0, 3998.0, 4457.0, 3349.0, 0.0, 0.0, 2833.0, 2974.0, 2609.0, 2909.0, 3564.0, 1842.0, 3101.0, 2113.0, 2008.0, 1996.0, 2335.0, 1872.0, 1785.0, 2805.0, 2313.0, 2479.0, 1827.0, 0.0, 0.0, 2047.0, 2461.0, 0.0, 1365.0, 0.0, 1360.0, 2239.0, 0.0, 1363.0, 1669.0, 1674.0, 1253.0, 1640.0, 839.0, 4478.0, 0.0, 952.0, 1131.0, 1217.0, 958.0, 473.0, 1006.0, 625.0, 808.0, 647.0, 549.0, 748.0, 435.0, 554.0, 396.0, 431.0, 169.0, 0.0, 2440.0], \"yaxis\": \"y\"}, {\"alignmentgroup\": \"True\", \"hovertemplate\": \"variable=Violent_crimes_2018<br>PD=%{x}<br>value=%{y}<extra></extra>\", \"legendgroup\": \"Violent_crimes_2018\", \"marker\": {\"color\": \"#19d3f3\"}, \"name\": \"Violent_crimes_2018\", \"offsetgroup\": \"Violent_crimes_2018\", \"orientation\": \"v\", \"showlegend\": true, \"textposition\": \"auto\", \"type\": \"bar\", \"x\": [\"New York Police Department\", \"Chicago Police Department\", \"Houston Police Department\", \"Philadelphia Police Department\", \"Los Angeles Police Department\", \"Detroit Police Department\", \"Las Vegas Metropolitan Police Department\", \"Memphis Police Department\", \"Indianapolis Metropolitan Police Department\", \"Phoenix Police Department\", \"San Antonio Police Department\", \"Baltimore Police Department\", \"Dallas Police Department\", \"Milwaukee Police Department\", \"Oakland Police Department\", \"DC Metropolitan Police Department\", \"San Francisco Police Department\", \"Metropolitan Nashville Police Department\", \"Kansas City Police Department\", \"Cleveland Police Department\", \"Atlanta Police Department\", \"San Diego Police Department\", \"Jacksonville Sheriff's Office\", \"Charlotte-Mecklenburg Police Department\", \"St. Louis Metropolitan Police Department\", \"Boston Police Department\", \"Oklahoma City Police Department\", \"Miami Police Department\", \"Fort Worth Police Department\", \"Albuquerque Police Department\", \"Denver Police Department\", \"Minneapolis Police Department\", \"Tulsa Police Department\", \"Seattle Police Department\", \"Louisville Metro Police Department\", \"Stockton Police Department\", \"Newark Police Department\", \"Tucson Police Department\", \"Buffalo Police Department\", \"San Jose Police Department\", \"Sacramento Police Department\", \"Austin Police Department\", \"Wichita Police Department\", \"New Orleans Police Department\", \"Portland Police Bureau\", \"Toledo Police Department\", \"Birmingham Police Department\", \"Cincinnati Polce Department\", \"Fresno Police Department\", \"El Paso Police Department\", \"Omaha Police Department\", \"Anchorage Police Department\", \"St. Petersburg Police Department\", \"Long Beach Police Department\", \"Orlando Police Department\", \"Pittsburgh Police Department\", \"St. Paul Police Department\", \"Baton Rouge Police Department\", \"Rochester Police Department\", \"Tampa Police Department\", \"San Bernardino Police Department\", \"Corpus Christi Police Department\", \"Colorado Springs Police Department\", \"Bakersfield Police Department\", \"Arlington Police Department\", \"Lubbock Police Department\", \"Mesa Police Department\", \"North Las Vegas Police Department\", \"Raleigh Police Department\", \"Jersey City Police Department\", \"Greensboro Police Department\", \"Spokane Police Department\", \"Aurora Police Department\", \"Winston-Salem Police Department\", \"Norfolk Police Department\", \"Riverside Police Department\", \"Reno Police Department\", \"Anaheim Police Department\", \"Santa Ana Police Department\", \"Laredo Police Department\", \"Columbus Division of Police\", \"Lincoln Police Department\", \"Fort Wayne Police Department\", \"Lexington Police Department\", \"Glendale Police Department\", \"Madison Police Department\", \"Hialeah Police Department\", \"Chesapeake Police Department\", \"Virginia Beach Police Department\", \"Chula Vista Police Department\", \"Chandler Police Department\", \"Irving Police Department\", \"Garland Police Department\", \"Plano Police Department\", \"Henderson Police Department\", \"Scottsdale Police Department\", \"Fremont Police Department\", \"Irvine Police Department\", \"Durham Police Department\", \"Honolulu Police Department\"], \"xaxis\": \"x\", \"y\": [46113.0, 27420.0, 24062.0, 14420.0, 30126.0, 13478.0, 9949.0, 12674.0, 11170.0, 12110.0, 9647.0, 11100.0, 10422.0, 8416.0, 5480.0, 6613.0, 6144.0, 7641.0, 7842.0, 5576.0, 3814.0, 5360.0, 5381.0, 6482.0, 5525.0, 4324.0, 5663.0, 2978.0, 4835.0, 7646.0, 5262.0, 3395.0, 4294.0, 5052.0, 4232.0, 4383.0, 2069.0, 3958.0, 2692.0, 4444.0, 3329.0, 3720.0, 4622.0, 4611.0, 3418.0, 2333.0, 4025.0, 2535.0, 2953.0, 2554.0, 2628.0, 3824.0, 1660.0, 3284.0, 2282.0, 1751.0, 1941.0, 2067.0, 1615.0, 1598.0, 2906.0, 2488.0, 2617.0, 1895.0, 1784.0, 2565.0, 1837.0, 2386.0, 0.0, 1233.0, 0.0, 1742.0, 2716.0, 0.0, 1134.0, 1686.0, 1636.0, 1192.0, 1571.0, 890.0, 4416.0, 1045.0, 1024.0, 982.0, 1167.0, 1043.0, 533.0, 979.0, 528.0, 835.0, 606.0, 510.0, 659.0, 402.0, 583.0, 422.0, 502.0, 160.0, 0.0, 2451.0], \"yaxis\": \"y\"}],\n",
       "                        {\"barmode\": \"group\", \"legend\": {\"title\": {\"text\": \"variable\"}, \"tracegroupgap\": 0}, \"margin\": {\"t\": 60}, \"template\": {\"data\": {\"bar\": [{\"error_x\": {\"color\": \"#2a3f5f\"}, \"error_y\": {\"color\": \"#2a3f5f\"}, \"marker\": {\"line\": {\"color\": \"#E5ECF6\", \"width\": 0.5}}, \"type\": \"bar\"}], \"barpolar\": [{\"marker\": {\"line\": {\"color\": \"#E5ECF6\", \"width\": 0.5}}, \"type\": \"barpolar\"}], \"carpet\": [{\"aaxis\": {\"endlinecolor\": \"#2a3f5f\", \"gridcolor\": \"white\", \"linecolor\": \"white\", \"minorgridcolor\": \"white\", \"startlinecolor\": \"#2a3f5f\"}, \"baxis\": {\"endlinecolor\": \"#2a3f5f\", \"gridcolor\": \"white\", \"linecolor\": \"white\", \"minorgridcolor\": \"white\", \"startlinecolor\": \"#2a3f5f\"}, \"type\": \"carpet\"}], \"choropleth\": [{\"colorbar\": {\"outlinewidth\": 0, \"ticks\": \"\"}, \"type\": \"choropleth\"}], \"contour\": [{\"colorbar\": {\"outlinewidth\": 0, \"ticks\": \"\"}, \"colorscale\": [[0.0, \"#0d0887\"], [0.1111111111111111, \"#46039f\"], [0.2222222222222222, \"#7201a8\"], [0.3333333333333333, \"#9c179e\"], [0.4444444444444444, \"#bd3786\"], [0.5555555555555556, \"#d8576b\"], [0.6666666666666666, \"#ed7953\"], [0.7777777777777778, \"#fb9f3a\"], [0.8888888888888888, \"#fdca26\"], [1.0, \"#f0f921\"]], \"type\": \"contour\"}], \"contourcarpet\": [{\"colorbar\": {\"outlinewidth\": 0, \"ticks\": \"\"}, \"type\": \"contourcarpet\"}], \"heatmap\": [{\"colorbar\": {\"outlinewidth\": 0, \"ticks\": \"\"}, \"colorscale\": [[0.0, \"#0d0887\"], [0.1111111111111111, \"#46039f\"], [0.2222222222222222, \"#7201a8\"], [0.3333333333333333, \"#9c179e\"], [0.4444444444444444, \"#bd3786\"], [0.5555555555555556, \"#d8576b\"], [0.6666666666666666, \"#ed7953\"], [0.7777777777777778, \"#fb9f3a\"], [0.8888888888888888, \"#fdca26\"], [1.0, \"#f0f921\"]], \"type\": \"heatmap\"}], \"heatmapgl\": [{\"colorbar\": {\"outlinewidth\": 0, \"ticks\": \"\"}, \"colorscale\": [[0.0, \"#0d0887\"], [0.1111111111111111, \"#46039f\"], [0.2222222222222222, \"#7201a8\"], [0.3333333333333333, \"#9c179e\"], [0.4444444444444444, \"#bd3786\"], [0.5555555555555556, \"#d8576b\"], [0.6666666666666666, \"#ed7953\"], [0.7777777777777778, \"#fb9f3a\"], [0.8888888888888888, \"#fdca26\"], [1.0, \"#f0f921\"]], \"type\": \"heatmapgl\"}], \"histogram\": [{\"marker\": {\"colorbar\": {\"outlinewidth\": 0, \"ticks\": \"\"}}, \"type\": \"histogram\"}], \"histogram2d\": [{\"colorbar\": {\"outlinewidth\": 0, \"ticks\": \"\"}, \"colorscale\": [[0.0, \"#0d0887\"], [0.1111111111111111, \"#46039f\"], [0.2222222222222222, \"#7201a8\"], [0.3333333333333333, \"#9c179e\"], [0.4444444444444444, \"#bd3786\"], [0.5555555555555556, \"#d8576b\"], [0.6666666666666666, \"#ed7953\"], [0.7777777777777778, \"#fb9f3a\"], [0.8888888888888888, \"#fdca26\"], [1.0, \"#f0f921\"]], \"type\": \"histogram2d\"}], \"histogram2dcontour\": [{\"colorbar\": {\"outlinewidth\": 0, \"ticks\": \"\"}, \"colorscale\": [[0.0, \"#0d0887\"], [0.1111111111111111, \"#46039f\"], [0.2222222222222222, \"#7201a8\"], [0.3333333333333333, \"#9c179e\"], [0.4444444444444444, \"#bd3786\"], [0.5555555555555556, \"#d8576b\"], [0.6666666666666666, \"#ed7953\"], [0.7777777777777778, \"#fb9f3a\"], [0.8888888888888888, \"#fdca26\"], [1.0, \"#f0f921\"]], \"type\": \"histogram2dcontour\"}], \"mesh3d\": [{\"colorbar\": {\"outlinewidth\": 0, \"ticks\": \"\"}, \"type\": \"mesh3d\"}], \"parcoords\": [{\"line\": {\"colorbar\": {\"outlinewidth\": 0, \"ticks\": \"\"}}, \"type\": \"parcoords\"}], \"pie\": [{\"automargin\": true, \"type\": \"pie\"}], \"scatter\": [{\"marker\": {\"colorbar\": {\"outlinewidth\": 0, \"ticks\": \"\"}}, \"type\": \"scatter\"}], \"scatter3d\": [{\"line\": {\"colorbar\": {\"outlinewidth\": 0, \"ticks\": \"\"}}, \"marker\": {\"colorbar\": {\"outlinewidth\": 0, \"ticks\": \"\"}}, \"type\": \"scatter3d\"}], \"scattercarpet\": [{\"marker\": {\"colorbar\": {\"outlinewidth\": 0, \"ticks\": \"\"}}, \"type\": \"scattercarpet\"}], \"scattergeo\": [{\"marker\": {\"colorbar\": {\"outlinewidth\": 0, \"ticks\": \"\"}}, \"type\": \"scattergeo\"}], \"scattergl\": [{\"marker\": {\"colorbar\": {\"outlinewidth\": 0, \"ticks\": \"\"}}, \"type\": \"scattergl\"}], \"scattermapbox\": [{\"marker\": {\"colorbar\": {\"outlinewidth\": 0, \"ticks\": \"\"}}, \"type\": \"scattermapbox\"}], \"scatterpolar\": [{\"marker\": {\"colorbar\": {\"outlinewidth\": 0, \"ticks\": \"\"}}, \"type\": \"scatterpolar\"}], \"scatterpolargl\": [{\"marker\": {\"colorbar\": {\"outlinewidth\": 0, \"ticks\": \"\"}}, \"type\": \"scatterpolargl\"}], \"scatterternary\": [{\"marker\": {\"colorbar\": {\"outlinewidth\": 0, \"ticks\": \"\"}}, \"type\": \"scatterternary\"}], \"surface\": [{\"colorbar\": {\"outlinewidth\": 0, \"ticks\": \"\"}, \"colorscale\": [[0.0, \"#0d0887\"], [0.1111111111111111, \"#46039f\"], [0.2222222222222222, \"#7201a8\"], [0.3333333333333333, \"#9c179e\"], [0.4444444444444444, \"#bd3786\"], [0.5555555555555556, \"#d8576b\"], [0.6666666666666666, \"#ed7953\"], [0.7777777777777778, \"#fb9f3a\"], [0.8888888888888888, \"#fdca26\"], [1.0, \"#f0f921\"]], \"type\": \"surface\"}], \"table\": [{\"cells\": {\"fill\": {\"color\": \"#EBF0F8\"}, \"line\": {\"color\": \"white\"}}, \"header\": {\"fill\": {\"color\": \"#C8D4E3\"}, \"line\": {\"color\": \"white\"}}, \"type\": \"table\"}]}, \"layout\": {\"annotationdefaults\": {\"arrowcolor\": \"#2a3f5f\", \"arrowhead\": 0, \"arrowwidth\": 1}, \"coloraxis\": {\"colorbar\": {\"outlinewidth\": 0, \"ticks\": \"\"}}, \"colorscale\": {\"diverging\": [[0, \"#8e0152\"], [0.1, \"#c51b7d\"], [0.2, \"#de77ae\"], [0.3, \"#f1b6da\"], [0.4, \"#fde0ef\"], [0.5, \"#f7f7f7\"], [0.6, \"#e6f5d0\"], [0.7, \"#b8e186\"], [0.8, \"#7fbc41\"], [0.9, \"#4d9221\"], [1, \"#276419\"]], \"sequential\": [[0.0, \"#0d0887\"], [0.1111111111111111, \"#46039f\"], [0.2222222222222222, \"#7201a8\"], [0.3333333333333333, \"#9c179e\"], [0.4444444444444444, \"#bd3786\"], [0.5555555555555556, \"#d8576b\"], [0.6666666666666666, \"#ed7953\"], [0.7777777777777778, \"#fb9f3a\"], [0.8888888888888888, \"#fdca26\"], [1.0, \"#f0f921\"]], \"sequentialminus\": [[0.0, \"#0d0887\"], [0.1111111111111111, \"#46039f\"], [0.2222222222222222, \"#7201a8\"], [0.3333333333333333, \"#9c179e\"], [0.4444444444444444, \"#bd3786\"], [0.5555555555555556, \"#d8576b\"], [0.6666666666666666, \"#ed7953\"], [0.7777777777777778, \"#fb9f3a\"], [0.8888888888888888, \"#fdca26\"], [1.0, \"#f0f921\"]]}, \"colorway\": [\"#636efa\", \"#EF553B\", \"#00cc96\", \"#ab63fa\", \"#FFA15A\", \"#19d3f3\", \"#FF6692\", \"#B6E880\", \"#FF97FF\", \"#FECB52\"], \"font\": {\"color\": \"#2a3f5f\"}, \"geo\": {\"bgcolor\": \"white\", \"lakecolor\": \"white\", \"landcolor\": \"#E5ECF6\", \"showlakes\": true, \"showland\": true, \"subunitcolor\": \"white\"}, \"hoverlabel\": {\"align\": \"left\"}, \"hovermode\": \"closest\", \"mapbox\": {\"style\": \"light\"}, \"paper_bgcolor\": \"white\", \"plot_bgcolor\": \"#E5ECF6\", \"polar\": {\"angularaxis\": {\"gridcolor\": \"white\", \"linecolor\": \"white\", \"ticks\": \"\"}, \"bgcolor\": \"#E5ECF6\", \"radialaxis\": {\"gridcolor\": \"white\", \"linecolor\": \"white\", \"ticks\": \"\"}}, \"scene\": {\"xaxis\": {\"backgroundcolor\": \"#E5ECF6\", \"gridcolor\": \"white\", \"gridwidth\": 2, \"linecolor\": \"white\", \"showbackground\": true, \"ticks\": \"\", \"zerolinecolor\": \"white\"}, \"yaxis\": {\"backgroundcolor\": \"#E5ECF6\", \"gridcolor\": \"white\", \"gridwidth\": 2, \"linecolor\": \"white\", \"showbackground\": true, \"ticks\": \"\", \"zerolinecolor\": \"white\"}, \"zaxis\": {\"backgroundcolor\": \"#E5ECF6\", \"gridcolor\": \"white\", \"gridwidth\": 2, \"linecolor\": \"white\", \"showbackground\": true, \"ticks\": \"\", \"zerolinecolor\": \"white\"}}, \"shapedefaults\": {\"line\": {\"color\": \"#2a3f5f\"}}, \"ternary\": {\"aaxis\": {\"gridcolor\": \"white\", \"linecolor\": \"white\", \"ticks\": \"\"}, \"baxis\": {\"gridcolor\": \"white\", \"linecolor\": \"white\", \"ticks\": \"\"}, \"bgcolor\": \"#E5ECF6\", \"caxis\": {\"gridcolor\": \"white\", \"linecolor\": \"white\", \"ticks\": \"\"}}, \"title\": {\"x\": 0.05}, \"xaxis\": {\"automargin\": true, \"gridcolor\": \"white\", \"linecolor\": \"white\", \"ticks\": \"\", \"title\": {\"standoff\": 15}, \"zerolinecolor\": \"white\", \"zerolinewidth\": 2}, \"yaxis\": {\"automargin\": true, \"gridcolor\": \"white\", \"linecolor\": \"white\", \"ticks\": \"\", \"title\": {\"standoff\": 15}, \"zerolinecolor\": \"white\", \"zerolinewidth\": 2}}}, \"xaxis\": {\"anchor\": \"y\", \"domain\": [0.0, 1.0], \"title\": {\"text\": \"PD\"}}, \"yaxis\": {\"anchor\": \"x\", \"domain\": [0.0, 1.0], \"title\": {\"text\": \"value\"}}},\n",
       "                        {\"responsive\": true}\n",
       "                    ).then(function(){\n",
       "                            \n",
       "var gd = document.getElementById('bd39d2c9-0e4c-46a4-aa18-e2719b3cd841');\n",
       "var x = new MutationObserver(function (mutations, observer) {{\n",
       "        var display = window.getComputedStyle(gd).display;\n",
       "        if (!display || display === 'none') {{\n",
       "            console.log([gd, 'removed!']);\n",
       "            Plotly.purge(gd);\n",
       "            observer.disconnect();\n",
       "        }}\n",
       "}});\n",
       "\n",
       "// Listen for the removal of the full notebook cells\n",
       "var notebookContainer = gd.closest('#notebook-container');\n",
       "if (notebookContainer) {{\n",
       "    x.observe(notebookContainer, {childList: true});\n",
       "}}\n",
       "\n",
       "// Listen for the clearing of the current output cell\n",
       "var outputEl = gd.closest('.output');\n",
       "if (outputEl) {{\n",
       "    x.observe(outputEl, {childList: true});\n",
       "}}\n",
       "\n",
       "                        })\n",
       "                };\n",
       "                });\n",
       "            </script>\n",
       "        </div>"
      ]
     },
     "metadata": {},
     "output_type": "display_data"
    }
   ],
   "source": [
    "fig = px.bar(violent_crimes, x='PD', y=['Violent_crimes_2013','Violent_crimes_2014', 'Violent_crimes_2015', 'Violent_crimes_2016', 'Violent_crimes_2017', 'Violent_crimes_2018'],barmode='group')\n",
    "\n",
    "fig.show()"
   ]
  },
  {
   "cell_type": "code",
   "execution_count": 132,
   "metadata": {},
   "outputs": [],
   "source": [
    "tot_arrest=violent_crimes.sort_values(['2013_Tot_Arrests', '2014_Tot_Arrests', '2015_Tot_Arrests', '2016_Tot_Arrests', '2017_Tot_Arrests','2018_Tot_Arrests'],ascending=[0,0,0,0,0,0])"
   ]
  },
  {
   "cell_type": "code",
   "execution_count": 134,
   "metadata": {},
   "outputs": [
    {
     "data": {
      "application/vnd.plotly.v1+json": {
       "config": {
        "plotlyServerURL": "https://plot.ly"
       },
       "data": [
        {
         "alignmentgroup": "True",
         "hovertemplate": "variable=2013_Tot_Arrests<br>PD=%{x}<br>value=%{y}<extra></extra>",
         "legendgroup": "2013_Tot_Arrests",
         "marker": {
          "color": "#636efa"
         },
         "name": "2013_Tot_Arrests",
         "offsetgroup": "2013_Tot_Arrests",
         "orientation": "v",
         "showlegend": true,
         "textposition": "auto",
         "type": "bar",
         "x": [
          "New York Police Department",
          "Chicago Police Department",
          "Los Angeles Police Department",
          "Philadelphia Police Department",
          "Houston Police Department",
          "Las Vegas Metropolitan Police Department",
          "Phoenix Police Department",
          "San Antonio Police Department",
          "Metropolitan Nashville Police Department",
          "Memphis Police Department",
          "Baltimore Police Department",
          "Dallas Police Department",
          "Milwaukee Police Department",
          "DC Metropolitan Police Department",
          "San Diego Police Department",
          "Tampa Police Department",
          "Indianapolis Metropolitan Police Department",
          "Austin Police Department",
          "Fort Worth Police Department",
          "Tucson Police Department",
          "Louisville Metro Police Department",
          "Miami Police Department",
          "Fresno Police Department",
          "Atlanta Police Department",
          "Albuquerque Police Department",
          "Raleigh Police Department",
          "Jacksonville Sheriff's Office",
          "Mesa Police Department",
          "Virginia Beach Police Department",
          "St. Louis Metropolitan Police Department",
          "Denver Police Department",
          "Aurora Police Department",
          "Minneapolis Police Department",
          "El Paso Police Department",
          "Winston-Salem Police Department",
          "Omaha Police Department",
          "Oklahoma City Police Department",
          "Charlotte-Mecklenburg Police Department",
          "Sacramento Police Department",
          "Long Beach Police Department",
          "Greensboro Police Department",
          "San Jose Police Department",
          "Pittsburgh Police Department",
          "Norfolk Police Department",
          "Anchorage Police Department",
          "San Francisco Police Department",
          "Arlington Police Department",
          "Colorado Springs Police Department",
          "Corpus Christi Police Department",
          "Bakersfield Police Department",
          "Tulsa Police Department",
          "Seattle Police Department",
          "Buffalo Police Department",
          "Detroit Police Department",
          "St. Petersburg Police Department",
          "Newark Police Department",
          "Lincoln Police Department",
          "Columbus Division of Police",
          "Boston Police Department",
          "Reno Police Department",
          "Kansas City Police Department",
          "St. Paul Police Department",
          "Orlando Police Department",
          "Spokane Police Department",
          "Wichita Police Department",
          "Scottsdale Police Department",
          "Irving Police Department",
          "Hialeah Police Department",
          "Henderson Police Department",
          "Madison Police Department",
          "Cleveland Police Department",
          "Lexington Police Department",
          "Chesapeake Police Department",
          "Lubbock Police Department",
          "Plano Police Department",
          "Santa Ana Police Department",
          "Garland Police Department",
          "Jersey City Police Department",
          "Laredo Police Department",
          "Riverside Police Department",
          "Stockton Police Department",
          "Anaheim Police Department",
          "Oakland Police Department",
          "San Bernardino Police Department",
          "Chandler Police Department",
          "Durham Police Department",
          "Glendale Police Department",
          "Chula Vista Police Department",
          "Fremont Police Department",
          "Irvine Police Department",
          "Portland Police Bureau",
          "North Las Vegas Police Department",
          "Fort Wayne Police Department",
          "New Orleans Police Department",
          "Baton Rouge Police Department",
          "Toledo Police Department",
          "Cincinnati Polce Department",
          "Birmingham Police Department",
          "Rochester Police Department",
          "Honolulu Police Department"
         ],
         "xaxis": "x",
         "y": [
          393809,
          112862,
          90436,
          86253,
          85551,
          78230,
          70691,
          58324,
          51672,
          47866,
          47560,
          46332,
          41870,
          41630,
          41444,
          41318,
          39493,
          37024,
          32694,
          31892,
          31716,
          31210,
          30580,
          30505,
          27700,
          27458,
          25922,
          24509,
          24359,
          23094,
          22343,
          21182,
          20797,
          20469,
          19742,
          19407,
          19330,
          19087,
          18467,
          18346,
          18013,
          17994,
          17868,
          17611,
          17601,
          17451,
          17258,
          17106,
          16900,
          16786,
          16360,
          15100,
          14774,
          14737,
          13997,
          13648,
          13366,
          12745,
          12716,
          12196,
          11828,
          11758,
          11427,
          10654,
          10566,
          10468,
          10329,
          9403,
          9279,
          9265,
          9245,
          9189,
          9177,
          8861,
          8832,
          8715,
          8597,
          8239,
          8202,
          8117,
          8008,
          7891,
          7562,
          6996,
          6257,
          5793,
          4530,
          3935,
          2913,
          2742,
          0,
          0,
          0,
          0,
          0,
          0,
          0,
          0,
          0,
          0
         ],
         "yaxis": "y"
        },
        {
         "alignmentgroup": "True",
         "hovertemplate": "variable=2014_Tot_Arrests<br>PD=%{x}<br>value=%{y}<extra></extra>",
         "legendgroup": "2014_Tot_Arrests",
         "marker": {
          "color": "#EF553B"
         },
         "name": "2014_Tot_Arrests",
         "offsetgroup": "2014_Tot_Arrests",
         "orientation": "v",
         "showlegend": true,
         "textposition": "auto",
         "type": "bar",
         "x": [
          "New York Police Department",
          "Chicago Police Department",
          "Los Angeles Police Department",
          "Philadelphia Police Department",
          "Houston Police Department",
          "Las Vegas Metropolitan Police Department",
          "Phoenix Police Department",
          "San Antonio Police Department",
          "Metropolitan Nashville Police Department",
          "Memphis Police Department",
          "Baltimore Police Department",
          "Dallas Police Department",
          "Milwaukee Police Department",
          "DC Metropolitan Police Department",
          "San Diego Police Department",
          "Tampa Police Department",
          "Indianapolis Metropolitan Police Department",
          "Austin Police Department",
          "Fort Worth Police Department",
          "Tucson Police Department",
          "Louisville Metro Police Department",
          "Miami Police Department",
          "Fresno Police Department",
          "Atlanta Police Department",
          "Albuquerque Police Department",
          "Raleigh Police Department",
          "Jacksonville Sheriff's Office",
          "Mesa Police Department",
          "Virginia Beach Police Department",
          "St. Louis Metropolitan Police Department",
          "Denver Police Department",
          "Aurora Police Department",
          "Minneapolis Police Department",
          "El Paso Police Department",
          "Winston-Salem Police Department",
          "Omaha Police Department",
          "Oklahoma City Police Department",
          "Charlotte-Mecklenburg Police Department",
          "Sacramento Police Department",
          "Long Beach Police Department",
          "Greensboro Police Department",
          "San Jose Police Department",
          "Pittsburgh Police Department",
          "Norfolk Police Department",
          "Anchorage Police Department",
          "San Francisco Police Department",
          "Arlington Police Department",
          "Colorado Springs Police Department",
          "Corpus Christi Police Department",
          "Bakersfield Police Department",
          "Tulsa Police Department",
          "Seattle Police Department",
          "Buffalo Police Department",
          "Detroit Police Department",
          "St. Petersburg Police Department",
          "Newark Police Department",
          "Lincoln Police Department",
          "Columbus Division of Police",
          "Boston Police Department",
          "Reno Police Department",
          "Kansas City Police Department",
          "St. Paul Police Department",
          "Orlando Police Department",
          "Spokane Police Department",
          "Wichita Police Department",
          "Scottsdale Police Department",
          "Irving Police Department",
          "Hialeah Police Department",
          "Henderson Police Department",
          "Madison Police Department",
          "Cleveland Police Department",
          "Lexington Police Department",
          "Chesapeake Police Department",
          "Lubbock Police Department",
          "Plano Police Department",
          "Santa Ana Police Department",
          "Garland Police Department",
          "Jersey City Police Department",
          "Laredo Police Department",
          "Riverside Police Department",
          "Stockton Police Department",
          "Anaheim Police Department",
          "Oakland Police Department",
          "San Bernardino Police Department",
          "Chandler Police Department",
          "Durham Police Department",
          "Glendale Police Department",
          "Chula Vista Police Department",
          "Fremont Police Department",
          "Irvine Police Department",
          "Portland Police Bureau",
          "North Las Vegas Police Department",
          "Fort Wayne Police Department",
          "New Orleans Police Department",
          "Baton Rouge Police Department",
          "Toledo Police Department",
          "Cincinnati Polce Department",
          "Birmingham Police Department",
          "Rochester Police Department",
          "Honolulu Police Department"
         ],
         "xaxis": "x",
         "y": [
          387727,
          100346,
          83187,
          82799,
          65821,
          70950,
          59811,
          57490,
          47378,
          39655,
          46232,
          33225,
          32550,
          41186,
          40118,
          38102,
          33825,
          36524,
          19452,
          32313,
          34606,
          29208,
          32118,
          26958,
          25447,
          0,
          25439,
          24120,
          23247,
          19261,
          29752,
          20469,
          17358,
          19539,
          18875,
          20400,
          19515,
          23669,
          19824,
          19109,
          16273,
          17729,
          15406,
          15834,
          14748,
          14699,
          16222,
          20316,
          17443,
          20912,
          14739,
          13207,
          12893,
          13383,
          13654,
          10192,
          14839,
          8663,
          13647,
          12309,
          12336,
          9820,
          11408,
          18510,
          9323,
          9673,
          7077,
          8456,
          9139,
          9363,
          8519,
          8202,
          8084,
          7695,
          3432,
          8641,
          8147,
          7334,
          8125,
          11796,
          7681,
          8137,
          9781,
          7993,
          6105,
          5699,
          3477,
          3426,
          3040,
          2500,
          20160,
          6922,
          5331,
          0,
          0,
          0,
          0,
          0,
          0,
          0
         ],
         "yaxis": "y"
        },
        {
         "alignmentgroup": "True",
         "hovertemplate": "variable=2015_Tot_Arrests<br>PD=%{x}<br>value=%{y}<extra></extra>",
         "legendgroup": "2015_Tot_Arrests",
         "marker": {
          "color": "#00cc96"
         },
         "name": "2015_Tot_Arrests",
         "offsetgroup": "2015_Tot_Arrests",
         "orientation": "v",
         "showlegend": true,
         "textposition": "auto",
         "type": "bar",
         "x": [
          "New York Police Department",
          "Chicago Police Department",
          "Los Angeles Police Department",
          "Philadelphia Police Department",
          "Houston Police Department",
          "Las Vegas Metropolitan Police Department",
          "Phoenix Police Department",
          "San Antonio Police Department",
          "Metropolitan Nashville Police Department",
          "Memphis Police Department",
          "Baltimore Police Department",
          "Dallas Police Department",
          "Milwaukee Police Department",
          "DC Metropolitan Police Department",
          "San Diego Police Department",
          "Tampa Police Department",
          "Indianapolis Metropolitan Police Department",
          "Austin Police Department",
          "Fort Worth Police Department",
          "Tucson Police Department",
          "Louisville Metro Police Department",
          "Miami Police Department",
          "Fresno Police Department",
          "Atlanta Police Department",
          "Albuquerque Police Department",
          "Raleigh Police Department",
          "Jacksonville Sheriff's Office",
          "Mesa Police Department",
          "Virginia Beach Police Department",
          "St. Louis Metropolitan Police Department",
          "Denver Police Department",
          "Aurora Police Department",
          "Minneapolis Police Department",
          "El Paso Police Department",
          "Winston-Salem Police Department",
          "Omaha Police Department",
          "Oklahoma City Police Department",
          "Charlotte-Mecklenburg Police Department",
          "Sacramento Police Department",
          "Long Beach Police Department",
          "Greensboro Police Department",
          "San Jose Police Department",
          "Pittsburgh Police Department",
          "Norfolk Police Department",
          "Anchorage Police Department",
          "San Francisco Police Department",
          "Arlington Police Department",
          "Colorado Springs Police Department",
          "Corpus Christi Police Department",
          "Bakersfield Police Department",
          "Tulsa Police Department",
          "Seattle Police Department",
          "Buffalo Police Department",
          "Detroit Police Department",
          "St. Petersburg Police Department",
          "Newark Police Department",
          "Lincoln Police Department",
          "Columbus Division of Police",
          "Boston Police Department",
          "Reno Police Department",
          "Kansas City Police Department",
          "St. Paul Police Department",
          "Orlando Police Department",
          "Spokane Police Department",
          "Wichita Police Department",
          "Scottsdale Police Department",
          "Irving Police Department",
          "Hialeah Police Department",
          "Henderson Police Department",
          "Madison Police Department",
          "Cleveland Police Department",
          "Lexington Police Department",
          "Chesapeake Police Department",
          "Lubbock Police Department",
          "Plano Police Department",
          "Santa Ana Police Department",
          "Garland Police Department",
          "Jersey City Police Department",
          "Laredo Police Department",
          "Riverside Police Department",
          "Stockton Police Department",
          "Anaheim Police Department",
          "Oakland Police Department",
          "San Bernardino Police Department",
          "Chandler Police Department",
          "Durham Police Department",
          "Glendale Police Department",
          "Chula Vista Police Department",
          "Fremont Police Department",
          "Irvine Police Department",
          "Portland Police Bureau",
          "North Las Vegas Police Department",
          "Fort Wayne Police Department",
          "New Orleans Police Department",
          "Baton Rouge Police Department",
          "Toledo Police Department",
          "Cincinnati Polce Department",
          "Birmingham Police Department",
          "Rochester Police Department",
          "Honolulu Police Department"
         ],
         "xaxis": "x",
         "y": [
          339470,
          84215,
          71732,
          69324,
          56317,
          65575,
          0,
          50826,
          45841,
          34280,
          32939,
          26666,
          27082,
          36219,
          36587,
          30983,
          39620,
          33101,
          26640,
          32294,
          41338,
          25618,
          25068,
          0,
          22126,
          0,
          25969,
          25723,
          20259,
          20493,
          30118,
          19155,
          15019,
          18192,
          16146,
          0,
          19660,
          25305,
          18132,
          15411,
          13601,
          16232,
          12911,
          12700,
          14387,
          16604,
          13989,
          22020,
          19278,
          21814,
          15769,
          14230,
          12354,
          10849,
          13491,
          0,
          13518,
          9942,
          11423,
          11869,
          10886,
          9659,
          10650,
          23794,
          9307,
          8910,
          5831,
          7950,
          8954,
          9382,
          6441,
          13310,
          5919,
          8092,
          9163,
          8101,
          7561,
          7670,
          8196,
          8500,
          6261,
          8381,
          10850,
          6337,
          6256,
          4663,
          3692,
          4019,
          2566,
          2988,
          0,
          5922,
          5054,
          17017,
          15244,
          0,
          0,
          0,
          0,
          0
         ],
         "yaxis": "y"
        },
        {
         "alignmentgroup": "True",
         "hovertemplate": "variable=2016_Tot_Arrests<br>PD=%{x}<br>value=%{y}<extra></extra>",
         "legendgroup": "2016_Tot_Arrests",
         "marker": {
          "color": "#ab63fa"
         },
         "name": "2016_Tot_Arrests",
         "offsetgroup": "2016_Tot_Arrests",
         "orientation": "v",
         "showlegend": true,
         "textposition": "auto",
         "type": "bar",
         "x": [
          "New York Police Department",
          "Chicago Police Department",
          "Los Angeles Police Department",
          "Philadelphia Police Department",
          "Houston Police Department",
          "Las Vegas Metropolitan Police Department",
          "Phoenix Police Department",
          "San Antonio Police Department",
          "Metropolitan Nashville Police Department",
          "Memphis Police Department",
          "Baltimore Police Department",
          "Dallas Police Department",
          "Milwaukee Police Department",
          "DC Metropolitan Police Department",
          "San Diego Police Department",
          "Tampa Police Department",
          "Indianapolis Metropolitan Police Department",
          "Austin Police Department",
          "Fort Worth Police Department",
          "Tucson Police Department",
          "Louisville Metro Police Department",
          "Miami Police Department",
          "Fresno Police Department",
          "Atlanta Police Department",
          "Albuquerque Police Department",
          "Raleigh Police Department",
          "Jacksonville Sheriff's Office",
          "Mesa Police Department",
          "Virginia Beach Police Department",
          "St. Louis Metropolitan Police Department",
          "Denver Police Department",
          "Aurora Police Department",
          "Minneapolis Police Department",
          "El Paso Police Department",
          "Winston-Salem Police Department",
          "Omaha Police Department",
          "Oklahoma City Police Department",
          "Charlotte-Mecklenburg Police Department",
          "Sacramento Police Department",
          "Long Beach Police Department",
          "Greensboro Police Department",
          "San Jose Police Department",
          "Pittsburgh Police Department",
          "Norfolk Police Department",
          "Anchorage Police Department",
          "San Francisco Police Department",
          "Arlington Police Department",
          "Colorado Springs Police Department",
          "Corpus Christi Police Department",
          "Bakersfield Police Department",
          "Tulsa Police Department",
          "Seattle Police Department",
          "Buffalo Police Department",
          "Detroit Police Department",
          "St. Petersburg Police Department",
          "Newark Police Department",
          "Lincoln Police Department",
          "Columbus Division of Police",
          "Boston Police Department",
          "Reno Police Department",
          "Kansas City Police Department",
          "St. Paul Police Department",
          "Orlando Police Department",
          "Spokane Police Department",
          "Wichita Police Department",
          "Scottsdale Police Department",
          "Irving Police Department",
          "Hialeah Police Department",
          "Henderson Police Department",
          "Madison Police Department",
          "Cleveland Police Department",
          "Lexington Police Department",
          "Chesapeake Police Department",
          "Lubbock Police Department",
          "Plano Police Department",
          "Santa Ana Police Department",
          "Garland Police Department",
          "Jersey City Police Department",
          "Laredo Police Department",
          "Riverside Police Department",
          "Stockton Police Department",
          "Anaheim Police Department",
          "Oakland Police Department",
          "San Bernardino Police Department",
          "Chandler Police Department",
          "Durham Police Department",
          "Glendale Police Department",
          "Chula Vista Police Department",
          "Fremont Police Department",
          "Irvine Police Department",
          "Portland Police Bureau",
          "North Las Vegas Police Department",
          "Fort Wayne Police Department",
          "New Orleans Police Department",
          "Baton Rouge Police Department",
          "Toledo Police Department",
          "Cincinnati Polce Department",
          "Birmingham Police Department",
          "Rochester Police Department",
          "Honolulu Police Department"
         ],
         "xaxis": "x",
         "y": [
          314864,
          61507,
          68768,
          53807,
          57867,
          67664,
          44335,
          42077,
          42771,
          31793,
          29661,
          34498,
          24185,
          44175,
          35761,
          25676,
          37235,
          30687,
          24587,
          33442,
          40838,
          24100,
          19212,
          22161,
          20341,
          0,
          24883,
          22995,
          19190,
          20163,
          29993,
          17455,
          11879,
          16874,
          15432,
          18677,
          18574,
          23740,
          16282,
          14726,
          11536,
          13034,
          11897,
          11870,
          13294,
          15271,
          11024,
          20489,
          19747,
          21629,
          14311,
          14569,
          10937,
          10883,
          10907,
          8490,
          13053,
          10092,
          10247,
          12044,
          10629,
          9024,
          9344,
          0,
          9120,
          9066,
          5281,
          7153,
          9846,
          8324,
          3883,
          13034,
          3500,
          7679,
          8885,
          7349,
          6973,
          7732,
          6945,
          9122,
          6154,
          9415,
          11083,
          6714,
          6151,
          3546,
          0,
          4601,
          2422,
          3337,
          20322,
          5935,
          5365,
          20589,
          13322,
          0,
          0,
          0,
          0,
          0
         ],
         "yaxis": "y"
        },
        {
         "alignmentgroup": "True",
         "hovertemplate": "variable=2017_Tot_Arrests<br>PD=%{x}<br>value=%{y}<extra></extra>",
         "legendgroup": "2017_Tot_Arrests",
         "marker": {
          "color": "#FFA15A"
         },
         "name": "2017_Tot_Arrests",
         "offsetgroup": "2017_Tot_Arrests",
         "orientation": "v",
         "showlegend": true,
         "textposition": "auto",
         "type": "bar",
         "x": [
          "New York Police Department",
          "Chicago Police Department",
          "Los Angeles Police Department",
          "Philadelphia Police Department",
          "Houston Police Department",
          "Las Vegas Metropolitan Police Department",
          "Phoenix Police Department",
          "San Antonio Police Department",
          "Metropolitan Nashville Police Department",
          "Memphis Police Department",
          "Baltimore Police Department",
          "Dallas Police Department",
          "Milwaukee Police Department",
          "DC Metropolitan Police Department",
          "San Diego Police Department",
          "Tampa Police Department",
          "Indianapolis Metropolitan Police Department",
          "Austin Police Department",
          "Fort Worth Police Department",
          "Tucson Police Department",
          "Louisville Metro Police Department",
          "Miami Police Department",
          "Fresno Police Department",
          "Atlanta Police Department",
          "Albuquerque Police Department",
          "Raleigh Police Department",
          "Jacksonville Sheriff's Office",
          "Mesa Police Department",
          "Virginia Beach Police Department",
          "St. Louis Metropolitan Police Department",
          "Denver Police Department",
          "Aurora Police Department",
          "Minneapolis Police Department",
          "El Paso Police Department",
          "Winston-Salem Police Department",
          "Omaha Police Department",
          "Oklahoma City Police Department",
          "Charlotte-Mecklenburg Police Department",
          "Sacramento Police Department",
          "Long Beach Police Department",
          "Greensboro Police Department",
          "San Jose Police Department",
          "Pittsburgh Police Department",
          "Norfolk Police Department",
          "Anchorage Police Department",
          "San Francisco Police Department",
          "Arlington Police Department",
          "Colorado Springs Police Department",
          "Corpus Christi Police Department",
          "Bakersfield Police Department",
          "Tulsa Police Department",
          "Seattle Police Department",
          "Buffalo Police Department",
          "Detroit Police Department",
          "St. Petersburg Police Department",
          "Newark Police Department",
          "Lincoln Police Department",
          "Columbus Division of Police",
          "Boston Police Department",
          "Reno Police Department",
          "Kansas City Police Department",
          "St. Paul Police Department",
          "Orlando Police Department",
          "Spokane Police Department",
          "Wichita Police Department",
          "Scottsdale Police Department",
          "Irving Police Department",
          "Hialeah Police Department",
          "Henderson Police Department",
          "Madison Police Department",
          "Cleveland Police Department",
          "Lexington Police Department",
          "Chesapeake Police Department",
          "Lubbock Police Department",
          "Plano Police Department",
          "Santa Ana Police Department",
          "Garland Police Department",
          "Jersey City Police Department",
          "Laredo Police Department",
          "Riverside Police Department",
          "Stockton Police Department",
          "Anaheim Police Department",
          "Oakland Police Department",
          "San Bernardino Police Department",
          "Chandler Police Department",
          "Durham Police Department",
          "Glendale Police Department",
          "Chula Vista Police Department",
          "Fremont Police Department",
          "Irvine Police Department",
          "Portland Police Bureau",
          "North Las Vegas Police Department",
          "Fort Wayne Police Department",
          "New Orleans Police Department",
          "Baton Rouge Police Department",
          "Toledo Police Department",
          "Cincinnati Polce Department",
          "Birmingham Police Department",
          "Rochester Police Department",
          "Honolulu Police Department"
         ],
         "xaxis": "x",
         "y": [
          286225,
          57523,
          64440,
          52689,
          47449,
          68602,
          49958,
          52253,
          40511,
          30103,
          29044,
          31372,
          24024,
          53028,
          35725,
          22660,
          40668,
          28485,
          23168,
          30569,
          42199,
          19213,
          19070,
          22581,
          21130,
          0,
          24313,
          24344,
          18668,
          18729,
          29372,
          15907,
          11955,
          16838,
          0,
          0,
          17246,
          23632,
          13810,
          12145,
          13247,
          13977,
          13534,
          12692,
          13871,
          13950,
          8397,
          21462,
          16655,
          16822,
          12666,
          14543,
          10050,
          9701,
          10149,
          7624,
          0,
          9412,
          9994,
          12837,
          10710,
          9557,
          9059,
          4951,
          8322,
          9619,
          5464,
          5026,
          9414,
          7925,
          4417,
          17257,
          4080,
          7129,
          9335,
          7397,
          6958,
          6071,
          4564,
          7573,
          7435,
          8869,
          10518,
          8120,
          6660,
          3772,
          2949,
          4118,
          2405,
          2782,
          19107,
          5750,
          5694,
          25089,
          12829,
          7426,
          6971,
          0,
          0,
          0
         ],
         "yaxis": "y"
        },
        {
         "alignmentgroup": "True",
         "hovertemplate": "variable=2018_Tot_Arrests<br>PD=%{x}<br>value=%{y}<extra></extra>",
         "legendgroup": "2018_Tot_Arrests",
         "marker": {
          "color": "#19d3f3"
         },
         "name": "2018_Tot_Arrests",
         "offsetgroup": "2018_Tot_Arrests",
         "orientation": "v",
         "showlegend": true,
         "textposition": "auto",
         "type": "bar",
         "x": [
          "New York Police Department",
          "Chicago Police Department",
          "Los Angeles Police Department",
          "Philadelphia Police Department",
          "Houston Police Department",
          "Las Vegas Metropolitan Police Department",
          "Phoenix Police Department",
          "San Antonio Police Department",
          "Metropolitan Nashville Police Department",
          "Memphis Police Department",
          "Baltimore Police Department",
          "Dallas Police Department",
          "Milwaukee Police Department",
          "DC Metropolitan Police Department",
          "San Diego Police Department",
          "Tampa Police Department",
          "Indianapolis Metropolitan Police Department",
          "Austin Police Department",
          "Fort Worth Police Department",
          "Tucson Police Department",
          "Louisville Metro Police Department",
          "Miami Police Department",
          "Fresno Police Department",
          "Atlanta Police Department",
          "Albuquerque Police Department",
          "Raleigh Police Department",
          "Jacksonville Sheriff's Office",
          "Mesa Police Department",
          "Virginia Beach Police Department",
          "St. Louis Metropolitan Police Department",
          "Denver Police Department",
          "Aurora Police Department",
          "Minneapolis Police Department",
          "El Paso Police Department",
          "Winston-Salem Police Department",
          "Omaha Police Department",
          "Oklahoma City Police Department",
          "Charlotte-Mecklenburg Police Department",
          "Sacramento Police Department",
          "Long Beach Police Department",
          "Greensboro Police Department",
          "San Jose Police Department",
          "Pittsburgh Police Department",
          "Norfolk Police Department",
          "Anchorage Police Department",
          "San Francisco Police Department",
          "Arlington Police Department",
          "Colorado Springs Police Department",
          "Corpus Christi Police Department",
          "Bakersfield Police Department",
          "Tulsa Police Department",
          "Seattle Police Department",
          "Buffalo Police Department",
          "Detroit Police Department",
          "St. Petersburg Police Department",
          "Newark Police Department",
          "Lincoln Police Department",
          "Columbus Division of Police",
          "Boston Police Department",
          "Reno Police Department",
          "Kansas City Police Department",
          "St. Paul Police Department",
          "Orlando Police Department",
          "Spokane Police Department",
          "Wichita Police Department",
          "Scottsdale Police Department",
          "Irving Police Department",
          "Hialeah Police Department",
          "Henderson Police Department",
          "Madison Police Department",
          "Cleveland Police Department",
          "Lexington Police Department",
          "Chesapeake Police Department",
          "Lubbock Police Department",
          "Plano Police Department",
          "Santa Ana Police Department",
          "Garland Police Department",
          "Jersey City Police Department",
          "Laredo Police Department",
          "Riverside Police Department",
          "Stockton Police Department",
          "Anaheim Police Department",
          "Oakland Police Department",
          "San Bernardino Police Department",
          "Chandler Police Department",
          "Durham Police Department",
          "Glendale Police Department",
          "Chula Vista Police Department",
          "Fremont Police Department",
          "Irvine Police Department",
          "Portland Police Bureau",
          "North Las Vegas Police Department",
          "Fort Wayne Police Department",
          "New Orleans Police Department",
          "Baton Rouge Police Department",
          "Toledo Police Department",
          "Cincinnati Polce Department",
          "Birmingham Police Department",
          "Rochester Police Department",
          "Honolulu Police Department"
         ],
         "xaxis": "x",
         "y": [
          246773,
          78737,
          58688,
          46301,
          43036,
          75653,
          52449,
          61234,
          35949,
          31342,
          25567,
          29772,
          19057,
          47147,
          33674,
          20310,
          34286,
          24359,
          19863,
          28858,
          41453,
          20902,
          22527,
          0,
          22254,
          0,
          26230,
          20800,
          17071,
          16993,
          29520,
          15662,
          11652,
          16264,
          12786,
          19072,
          15795,
          22021,
          14054,
          13362,
          10665,
          15392,
          11699,
          13469,
          13973,
          13891,
          9566,
          16670,
          16238,
          13048,
          13303,
          15182,
          10720,
          10734,
          9753,
          7453,
          12874,
          10954,
          8843,
          14422,
          10796,
          8632,
          8727,
          5865,
          3931,
          9296,
          5854,
          6160,
          12111,
          8016,
          3834,
          19232,
          5149,
          7496,
          7657,
          6609,
          7060,
          2972,
          5991,
          7443,
          7327,
          10019,
          8971,
          9195,
          6538,
          4596,
          5405,
          4213,
          2741,
          2064,
          20501,
          7056,
          5897,
          23674,
          10773,
          8467,
          6694,
          0,
          0,
          0
         ],
         "yaxis": "y"
        }
       ],
       "layout": {
        "barmode": "group",
        "legend": {
         "title": {
          "text": "variable"
         },
         "tracegroupgap": 0
        },
        "margin": {
         "t": 60
        },
        "template": {
         "data": {
          "bar": [
           {
            "error_x": {
             "color": "#2a3f5f"
            },
            "error_y": {
             "color": "#2a3f5f"
            },
            "marker": {
             "line": {
              "color": "#E5ECF6",
              "width": 0.5
             }
            },
            "type": "bar"
           }
          ],
          "barpolar": [
           {
            "marker": {
             "line": {
              "color": "#E5ECF6",
              "width": 0.5
             }
            },
            "type": "barpolar"
           }
          ],
          "carpet": [
           {
            "aaxis": {
             "endlinecolor": "#2a3f5f",
             "gridcolor": "white",
             "linecolor": "white",
             "minorgridcolor": "white",
             "startlinecolor": "#2a3f5f"
            },
            "baxis": {
             "endlinecolor": "#2a3f5f",
             "gridcolor": "white",
             "linecolor": "white",
             "minorgridcolor": "white",
             "startlinecolor": "#2a3f5f"
            },
            "type": "carpet"
           }
          ],
          "choropleth": [
           {
            "colorbar": {
             "outlinewidth": 0,
             "ticks": ""
            },
            "type": "choropleth"
           }
          ],
          "contour": [
           {
            "colorbar": {
             "outlinewidth": 0,
             "ticks": ""
            },
            "colorscale": [
             [
              0,
              "#0d0887"
             ],
             [
              0.1111111111111111,
              "#46039f"
             ],
             [
              0.2222222222222222,
              "#7201a8"
             ],
             [
              0.3333333333333333,
              "#9c179e"
             ],
             [
              0.4444444444444444,
              "#bd3786"
             ],
             [
              0.5555555555555556,
              "#d8576b"
             ],
             [
              0.6666666666666666,
              "#ed7953"
             ],
             [
              0.7777777777777778,
              "#fb9f3a"
             ],
             [
              0.8888888888888888,
              "#fdca26"
             ],
             [
              1,
              "#f0f921"
             ]
            ],
            "type": "contour"
           }
          ],
          "contourcarpet": [
           {
            "colorbar": {
             "outlinewidth": 0,
             "ticks": ""
            },
            "type": "contourcarpet"
           }
          ],
          "heatmap": [
           {
            "colorbar": {
             "outlinewidth": 0,
             "ticks": ""
            },
            "colorscale": [
             [
              0,
              "#0d0887"
             ],
             [
              0.1111111111111111,
              "#46039f"
             ],
             [
              0.2222222222222222,
              "#7201a8"
             ],
             [
              0.3333333333333333,
              "#9c179e"
             ],
             [
              0.4444444444444444,
              "#bd3786"
             ],
             [
              0.5555555555555556,
              "#d8576b"
             ],
             [
              0.6666666666666666,
              "#ed7953"
             ],
             [
              0.7777777777777778,
              "#fb9f3a"
             ],
             [
              0.8888888888888888,
              "#fdca26"
             ],
             [
              1,
              "#f0f921"
             ]
            ],
            "type": "heatmap"
           }
          ],
          "heatmapgl": [
           {
            "colorbar": {
             "outlinewidth": 0,
             "ticks": ""
            },
            "colorscale": [
             [
              0,
              "#0d0887"
             ],
             [
              0.1111111111111111,
              "#46039f"
             ],
             [
              0.2222222222222222,
              "#7201a8"
             ],
             [
              0.3333333333333333,
              "#9c179e"
             ],
             [
              0.4444444444444444,
              "#bd3786"
             ],
             [
              0.5555555555555556,
              "#d8576b"
             ],
             [
              0.6666666666666666,
              "#ed7953"
             ],
             [
              0.7777777777777778,
              "#fb9f3a"
             ],
             [
              0.8888888888888888,
              "#fdca26"
             ],
             [
              1,
              "#f0f921"
             ]
            ],
            "type": "heatmapgl"
           }
          ],
          "histogram": [
           {
            "marker": {
             "colorbar": {
              "outlinewidth": 0,
              "ticks": ""
             }
            },
            "type": "histogram"
           }
          ],
          "histogram2d": [
           {
            "colorbar": {
             "outlinewidth": 0,
             "ticks": ""
            },
            "colorscale": [
             [
              0,
              "#0d0887"
             ],
             [
              0.1111111111111111,
              "#46039f"
             ],
             [
              0.2222222222222222,
              "#7201a8"
             ],
             [
              0.3333333333333333,
              "#9c179e"
             ],
             [
              0.4444444444444444,
              "#bd3786"
             ],
             [
              0.5555555555555556,
              "#d8576b"
             ],
             [
              0.6666666666666666,
              "#ed7953"
             ],
             [
              0.7777777777777778,
              "#fb9f3a"
             ],
             [
              0.8888888888888888,
              "#fdca26"
             ],
             [
              1,
              "#f0f921"
             ]
            ],
            "type": "histogram2d"
           }
          ],
          "histogram2dcontour": [
           {
            "colorbar": {
             "outlinewidth": 0,
             "ticks": ""
            },
            "colorscale": [
             [
              0,
              "#0d0887"
             ],
             [
              0.1111111111111111,
              "#46039f"
             ],
             [
              0.2222222222222222,
              "#7201a8"
             ],
             [
              0.3333333333333333,
              "#9c179e"
             ],
             [
              0.4444444444444444,
              "#bd3786"
             ],
             [
              0.5555555555555556,
              "#d8576b"
             ],
             [
              0.6666666666666666,
              "#ed7953"
             ],
             [
              0.7777777777777778,
              "#fb9f3a"
             ],
             [
              0.8888888888888888,
              "#fdca26"
             ],
             [
              1,
              "#f0f921"
             ]
            ],
            "type": "histogram2dcontour"
           }
          ],
          "mesh3d": [
           {
            "colorbar": {
             "outlinewidth": 0,
             "ticks": ""
            },
            "type": "mesh3d"
           }
          ],
          "parcoords": [
           {
            "line": {
             "colorbar": {
              "outlinewidth": 0,
              "ticks": ""
             }
            },
            "type": "parcoords"
           }
          ],
          "pie": [
           {
            "automargin": true,
            "type": "pie"
           }
          ],
          "scatter": [
           {
            "marker": {
             "colorbar": {
              "outlinewidth": 0,
              "ticks": ""
             }
            },
            "type": "scatter"
           }
          ],
          "scatter3d": [
           {
            "line": {
             "colorbar": {
              "outlinewidth": 0,
              "ticks": ""
             }
            },
            "marker": {
             "colorbar": {
              "outlinewidth": 0,
              "ticks": ""
             }
            },
            "type": "scatter3d"
           }
          ],
          "scattercarpet": [
           {
            "marker": {
             "colorbar": {
              "outlinewidth": 0,
              "ticks": ""
             }
            },
            "type": "scattercarpet"
           }
          ],
          "scattergeo": [
           {
            "marker": {
             "colorbar": {
              "outlinewidth": 0,
              "ticks": ""
             }
            },
            "type": "scattergeo"
           }
          ],
          "scattergl": [
           {
            "marker": {
             "colorbar": {
              "outlinewidth": 0,
              "ticks": ""
             }
            },
            "type": "scattergl"
           }
          ],
          "scattermapbox": [
           {
            "marker": {
             "colorbar": {
              "outlinewidth": 0,
              "ticks": ""
             }
            },
            "type": "scattermapbox"
           }
          ],
          "scatterpolar": [
           {
            "marker": {
             "colorbar": {
              "outlinewidth": 0,
              "ticks": ""
             }
            },
            "type": "scatterpolar"
           }
          ],
          "scatterpolargl": [
           {
            "marker": {
             "colorbar": {
              "outlinewidth": 0,
              "ticks": ""
             }
            },
            "type": "scatterpolargl"
           }
          ],
          "scatterternary": [
           {
            "marker": {
             "colorbar": {
              "outlinewidth": 0,
              "ticks": ""
             }
            },
            "type": "scatterternary"
           }
          ],
          "surface": [
           {
            "colorbar": {
             "outlinewidth": 0,
             "ticks": ""
            },
            "colorscale": [
             [
              0,
              "#0d0887"
             ],
             [
              0.1111111111111111,
              "#46039f"
             ],
             [
              0.2222222222222222,
              "#7201a8"
             ],
             [
              0.3333333333333333,
              "#9c179e"
             ],
             [
              0.4444444444444444,
              "#bd3786"
             ],
             [
              0.5555555555555556,
              "#d8576b"
             ],
             [
              0.6666666666666666,
              "#ed7953"
             ],
             [
              0.7777777777777778,
              "#fb9f3a"
             ],
             [
              0.8888888888888888,
              "#fdca26"
             ],
             [
              1,
              "#f0f921"
             ]
            ],
            "type": "surface"
           }
          ],
          "table": [
           {
            "cells": {
             "fill": {
              "color": "#EBF0F8"
             },
             "line": {
              "color": "white"
             }
            },
            "header": {
             "fill": {
              "color": "#C8D4E3"
             },
             "line": {
              "color": "white"
             }
            },
            "type": "table"
           }
          ]
         },
         "layout": {
          "annotationdefaults": {
           "arrowcolor": "#2a3f5f",
           "arrowhead": 0,
           "arrowwidth": 1
          },
          "coloraxis": {
           "colorbar": {
            "outlinewidth": 0,
            "ticks": ""
           }
          },
          "colorscale": {
           "diverging": [
            [
             0,
             "#8e0152"
            ],
            [
             0.1,
             "#c51b7d"
            ],
            [
             0.2,
             "#de77ae"
            ],
            [
             0.3,
             "#f1b6da"
            ],
            [
             0.4,
             "#fde0ef"
            ],
            [
             0.5,
             "#f7f7f7"
            ],
            [
             0.6,
             "#e6f5d0"
            ],
            [
             0.7,
             "#b8e186"
            ],
            [
             0.8,
             "#7fbc41"
            ],
            [
             0.9,
             "#4d9221"
            ],
            [
             1,
             "#276419"
            ]
           ],
           "sequential": [
            [
             0,
             "#0d0887"
            ],
            [
             0.1111111111111111,
             "#46039f"
            ],
            [
             0.2222222222222222,
             "#7201a8"
            ],
            [
             0.3333333333333333,
             "#9c179e"
            ],
            [
             0.4444444444444444,
             "#bd3786"
            ],
            [
             0.5555555555555556,
             "#d8576b"
            ],
            [
             0.6666666666666666,
             "#ed7953"
            ],
            [
             0.7777777777777778,
             "#fb9f3a"
            ],
            [
             0.8888888888888888,
             "#fdca26"
            ],
            [
             1,
             "#f0f921"
            ]
           ],
           "sequentialminus": [
            [
             0,
             "#0d0887"
            ],
            [
             0.1111111111111111,
             "#46039f"
            ],
            [
             0.2222222222222222,
             "#7201a8"
            ],
            [
             0.3333333333333333,
             "#9c179e"
            ],
            [
             0.4444444444444444,
             "#bd3786"
            ],
            [
             0.5555555555555556,
             "#d8576b"
            ],
            [
             0.6666666666666666,
             "#ed7953"
            ],
            [
             0.7777777777777778,
             "#fb9f3a"
            ],
            [
             0.8888888888888888,
             "#fdca26"
            ],
            [
             1,
             "#f0f921"
            ]
           ]
          },
          "colorway": [
           "#636efa",
           "#EF553B",
           "#00cc96",
           "#ab63fa",
           "#FFA15A",
           "#19d3f3",
           "#FF6692",
           "#B6E880",
           "#FF97FF",
           "#FECB52"
          ],
          "font": {
           "color": "#2a3f5f"
          },
          "geo": {
           "bgcolor": "white",
           "lakecolor": "white",
           "landcolor": "#E5ECF6",
           "showlakes": true,
           "showland": true,
           "subunitcolor": "white"
          },
          "hoverlabel": {
           "align": "left"
          },
          "hovermode": "closest",
          "mapbox": {
           "style": "light"
          },
          "paper_bgcolor": "white",
          "plot_bgcolor": "#E5ECF6",
          "polar": {
           "angularaxis": {
            "gridcolor": "white",
            "linecolor": "white",
            "ticks": ""
           },
           "bgcolor": "#E5ECF6",
           "radialaxis": {
            "gridcolor": "white",
            "linecolor": "white",
            "ticks": ""
           }
          },
          "scene": {
           "xaxis": {
            "backgroundcolor": "#E5ECF6",
            "gridcolor": "white",
            "gridwidth": 2,
            "linecolor": "white",
            "showbackground": true,
            "ticks": "",
            "zerolinecolor": "white"
           },
           "yaxis": {
            "backgroundcolor": "#E5ECF6",
            "gridcolor": "white",
            "gridwidth": 2,
            "linecolor": "white",
            "showbackground": true,
            "ticks": "",
            "zerolinecolor": "white"
           },
           "zaxis": {
            "backgroundcolor": "#E5ECF6",
            "gridcolor": "white",
            "gridwidth": 2,
            "linecolor": "white",
            "showbackground": true,
            "ticks": "",
            "zerolinecolor": "white"
           }
          },
          "shapedefaults": {
           "line": {
            "color": "#2a3f5f"
           }
          },
          "ternary": {
           "aaxis": {
            "gridcolor": "white",
            "linecolor": "white",
            "ticks": ""
           },
           "baxis": {
            "gridcolor": "white",
            "linecolor": "white",
            "ticks": ""
           },
           "bgcolor": "#E5ECF6",
           "caxis": {
            "gridcolor": "white",
            "linecolor": "white",
            "ticks": ""
           }
          },
          "title": {
           "x": 0.05
          },
          "xaxis": {
           "automargin": true,
           "gridcolor": "white",
           "linecolor": "white",
           "ticks": "",
           "title": {
            "standoff": 15
           },
           "zerolinecolor": "white",
           "zerolinewidth": 2
          },
          "yaxis": {
           "automargin": true,
           "gridcolor": "white",
           "linecolor": "white",
           "ticks": "",
           "title": {
            "standoff": 15
           },
           "zerolinecolor": "white",
           "zerolinewidth": 2
          }
         }
        },
        "xaxis": {
         "anchor": "y",
         "domain": [
          0,
          1
         ],
         "title": {
          "text": "PD"
         }
        },
        "yaxis": {
         "anchor": "x",
         "domain": [
          0,
          1
         ],
         "title": {
          "text": "value"
         }
        }
       }
      },
      "text/html": [
       "<div>\n",
       "        \n",
       "        \n",
       "            <div id=\"6a928a2e-1237-4baa-a981-859c3defd417\" class=\"plotly-graph-div\" style=\"height:525px; width:100%;\"></div>\n",
       "            <script type=\"text/javascript\">\n",
       "                require([\"plotly\"], function(Plotly) {\n",
       "                    window.PLOTLYENV=window.PLOTLYENV || {};\n",
       "                    \n",
       "                if (document.getElementById(\"6a928a2e-1237-4baa-a981-859c3defd417\")) {\n",
       "                    Plotly.newPlot(\n",
       "                        '6a928a2e-1237-4baa-a981-859c3defd417',\n",
       "                        [{\"alignmentgroup\": \"True\", \"hovertemplate\": \"variable=2013_Tot_Arrests<br>PD=%{x}<br>value=%{y}<extra></extra>\", \"legendgroup\": \"2013_Tot_Arrests\", \"marker\": {\"color\": \"#636efa\"}, \"name\": \"2013_Tot_Arrests\", \"offsetgroup\": \"2013_Tot_Arrests\", \"orientation\": \"v\", \"showlegend\": true, \"textposition\": \"auto\", \"type\": \"bar\", \"x\": [\"New York Police Department\", \"Chicago Police Department\", \"Los Angeles Police Department\", \"Philadelphia Police Department\", \"Houston Police Department\", \"Las Vegas Metropolitan Police Department\", \"Phoenix Police Department\", \"San Antonio Police Department\", \"Metropolitan Nashville Police Department\", \"Memphis Police Department\", \"Baltimore Police Department\", \"Dallas Police Department\", \"Milwaukee Police Department\", \"DC Metropolitan Police Department\", \"San Diego Police Department\", \"Tampa Police Department\", \"Indianapolis Metropolitan Police Department\", \"Austin Police Department\", \"Fort Worth Police Department\", \"Tucson Police Department\", \"Louisville Metro Police Department\", \"Miami Police Department\", \"Fresno Police Department\", \"Atlanta Police Department\", \"Albuquerque Police Department\", \"Raleigh Police Department\", \"Jacksonville Sheriff's Office\", \"Mesa Police Department\", \"Virginia Beach Police Department\", \"St. Louis Metropolitan Police Department\", \"Denver Police Department\", \"Aurora Police Department\", \"Minneapolis Police Department\", \"El Paso Police Department\", \"Winston-Salem Police Department\", \"Omaha Police Department\", \"Oklahoma City Police Department\", \"Charlotte-Mecklenburg Police Department\", \"Sacramento Police Department\", \"Long Beach Police Department\", \"Greensboro Police Department\", \"San Jose Police Department\", \"Pittsburgh Police Department\", \"Norfolk Police Department\", \"Anchorage Police Department\", \"San Francisco Police Department\", \"Arlington Police Department\", \"Colorado Springs Police Department\", \"Corpus Christi Police Department\", \"Bakersfield Police Department\", \"Tulsa Police Department\", \"Seattle Police Department\", \"Buffalo Police Department\", \"Detroit Police Department\", \"St. Petersburg Police Department\", \"Newark Police Department\", \"Lincoln Police Department\", \"Columbus Division of Police\", \"Boston Police Department\", \"Reno Police Department\", \"Kansas City Police Department\", \"St. Paul Police Department\", \"Orlando Police Department\", \"Spokane Police Department\", \"Wichita Police Department\", \"Scottsdale Police Department\", \"Irving Police Department\", \"Hialeah Police Department\", \"Henderson Police Department\", \"Madison Police Department\", \"Cleveland Police Department\", \"Lexington Police Department\", \"Chesapeake Police Department\", \"Lubbock Police Department\", \"Plano Police Department\", \"Santa Ana Police Department\", \"Garland Police Department\", \"Jersey City Police Department\", \"Laredo Police Department\", \"Riverside Police Department\", \"Stockton Police Department\", \"Anaheim Police Department\", \"Oakland Police Department\", \"San Bernardino Police Department\", \"Chandler Police Department\", \"Durham Police Department\", \"Glendale Police Department\", \"Chula Vista Police Department\", \"Fremont Police Department\", \"Irvine Police Department\", \"Portland Police Bureau\", \"North Las Vegas Police Department\", \"Fort Wayne Police Department\", \"New Orleans Police Department\", \"Baton Rouge Police Department\", \"Toledo Police Department\", \"Cincinnati Polce Department\", \"Birmingham Police Department\", \"Rochester Police Department\", \"Honolulu Police Department\"], \"xaxis\": \"x\", \"y\": [393809.0, 112862.0, 90436.0, 86253.0, 85551.0, 78230.0, 70691.0, 58324.0, 51672.0, 47866.0, 47560.0, 46332.0, 41870.0, 41630.0, 41444.0, 41318.0, 39493.0, 37024.0, 32694.0, 31892.0, 31716.0, 31210.0, 30580.0, 30505.0, 27700.0, 27458.0, 25922.0, 24509.0, 24359.0, 23094.0, 22343.0, 21182.0, 20797.0, 20469.0, 19742.0, 19407.0, 19330.0, 19087.0, 18467.0, 18346.0, 18013.0, 17994.0, 17868.0, 17611.0, 17601.0, 17451.0, 17258.0, 17106.0, 16900.0, 16786.0, 16360.0, 15100.0, 14774.0, 14737.0, 13997.0, 13648.0, 13366.0, 12745.0, 12716.0, 12196.0, 11828.0, 11758.0, 11427.0, 10654.0, 10566.0, 10468.0, 10329.0, 9403.0, 9279.0, 9265.0, 9245.0, 9189.0, 9177.0, 8861.0, 8832.0, 8715.0, 8597.0, 8239.0, 8202.0, 8117.0, 8008.0, 7891.0, 7562.0, 6996.0, 6257.0, 5793.0, 4530.0, 3935.0, 2913.0, 2742.0, 0.0, 0.0, 0.0, 0.0, 0.0, 0.0, 0.0, 0.0, 0.0, 0.0], \"yaxis\": \"y\"}, {\"alignmentgroup\": \"True\", \"hovertemplate\": \"variable=2014_Tot_Arrests<br>PD=%{x}<br>value=%{y}<extra></extra>\", \"legendgroup\": \"2014_Tot_Arrests\", \"marker\": {\"color\": \"#EF553B\"}, \"name\": \"2014_Tot_Arrests\", \"offsetgroup\": \"2014_Tot_Arrests\", \"orientation\": \"v\", \"showlegend\": true, \"textposition\": \"auto\", \"type\": \"bar\", \"x\": [\"New York Police Department\", \"Chicago Police Department\", \"Los Angeles Police Department\", \"Philadelphia Police Department\", \"Houston Police Department\", \"Las Vegas Metropolitan Police Department\", \"Phoenix Police Department\", \"San Antonio Police Department\", \"Metropolitan Nashville Police Department\", \"Memphis Police Department\", \"Baltimore Police Department\", \"Dallas Police Department\", \"Milwaukee Police Department\", \"DC Metropolitan Police Department\", \"San Diego Police Department\", \"Tampa Police Department\", \"Indianapolis Metropolitan Police Department\", \"Austin Police Department\", \"Fort Worth Police Department\", \"Tucson Police Department\", \"Louisville Metro Police Department\", \"Miami Police Department\", \"Fresno Police Department\", \"Atlanta Police Department\", \"Albuquerque Police Department\", \"Raleigh Police Department\", \"Jacksonville Sheriff's Office\", \"Mesa Police Department\", \"Virginia Beach Police Department\", \"St. Louis Metropolitan Police Department\", \"Denver Police Department\", \"Aurora Police Department\", \"Minneapolis Police Department\", \"El Paso Police Department\", \"Winston-Salem Police Department\", \"Omaha Police Department\", \"Oklahoma City Police Department\", \"Charlotte-Mecklenburg Police Department\", \"Sacramento Police Department\", \"Long Beach Police Department\", \"Greensboro Police Department\", \"San Jose Police Department\", \"Pittsburgh Police Department\", \"Norfolk Police Department\", \"Anchorage Police Department\", \"San Francisco Police Department\", \"Arlington Police Department\", \"Colorado Springs Police Department\", \"Corpus Christi Police Department\", \"Bakersfield Police Department\", \"Tulsa Police Department\", \"Seattle Police Department\", \"Buffalo Police Department\", \"Detroit Police Department\", \"St. Petersburg Police Department\", \"Newark Police Department\", \"Lincoln Police Department\", \"Columbus Division of Police\", \"Boston Police Department\", \"Reno Police Department\", \"Kansas City Police Department\", \"St. Paul Police Department\", \"Orlando Police Department\", \"Spokane Police Department\", \"Wichita Police Department\", \"Scottsdale Police Department\", \"Irving Police Department\", \"Hialeah Police Department\", \"Henderson Police Department\", \"Madison Police Department\", \"Cleveland Police Department\", \"Lexington Police Department\", \"Chesapeake Police Department\", \"Lubbock Police Department\", \"Plano Police Department\", \"Santa Ana Police Department\", \"Garland Police Department\", \"Jersey City Police Department\", \"Laredo Police Department\", \"Riverside Police Department\", \"Stockton Police Department\", \"Anaheim Police Department\", \"Oakland Police Department\", \"San Bernardino Police Department\", \"Chandler Police Department\", \"Durham Police Department\", \"Glendale Police Department\", \"Chula Vista Police Department\", \"Fremont Police Department\", \"Irvine Police Department\", \"Portland Police Bureau\", \"North Las Vegas Police Department\", \"Fort Wayne Police Department\", \"New Orleans Police Department\", \"Baton Rouge Police Department\", \"Toledo Police Department\", \"Cincinnati Polce Department\", \"Birmingham Police Department\", \"Rochester Police Department\", \"Honolulu Police Department\"], \"xaxis\": \"x\", \"y\": [387727.0, 100346.0, 83187.0, 82799.0, 65821.0, 70950.0, 59811.0, 57490.0, 47378.0, 39655.0, 46232.0, 33225.0, 32550.0, 41186.0, 40118.0, 38102.0, 33825.0, 36524.0, 19452.0, 32313.0, 34606.0, 29208.0, 32118.0, 26958.0, 25447.0, 0.0, 25439.0, 24120.0, 23247.0, 19261.0, 29752.0, 20469.0, 17358.0, 19539.0, 18875.0, 20400.0, 19515.0, 23669.0, 19824.0, 19109.0, 16273.0, 17729.0, 15406.0, 15834.0, 14748.0, 14699.0, 16222.0, 20316.0, 17443.0, 20912.0, 14739.0, 13207.0, 12893.0, 13383.0, 13654.0, 10192.0, 14839.0, 8663.0, 13647.0, 12309.0, 12336.0, 9820.0, 11408.0, 18510.0, 9323.0, 9673.0, 7077.0, 8456.0, 9139.0, 9363.0, 8519.0, 8202.0, 8084.0, 7695.0, 3432.0, 8641.0, 8147.0, 7334.0, 8125.0, 11796.0, 7681.0, 8137.0, 9781.0, 7993.0, 6105.0, 5699.0, 3477.0, 3426.0, 3040.0, 2500.0, 20160.0, 6922.0, 5331.0, 0.0, 0.0, 0.0, 0.0, 0.0, 0.0, 0.0], \"yaxis\": \"y\"}, {\"alignmentgroup\": \"True\", \"hovertemplate\": \"variable=2015_Tot_Arrests<br>PD=%{x}<br>value=%{y}<extra></extra>\", \"legendgroup\": \"2015_Tot_Arrests\", \"marker\": {\"color\": \"#00cc96\"}, \"name\": \"2015_Tot_Arrests\", \"offsetgroup\": \"2015_Tot_Arrests\", \"orientation\": \"v\", \"showlegend\": true, \"textposition\": \"auto\", \"type\": \"bar\", \"x\": [\"New York Police Department\", \"Chicago Police Department\", \"Los Angeles Police Department\", \"Philadelphia Police Department\", \"Houston Police Department\", \"Las Vegas Metropolitan Police Department\", \"Phoenix Police Department\", \"San Antonio Police Department\", \"Metropolitan Nashville Police Department\", \"Memphis Police Department\", \"Baltimore Police Department\", \"Dallas Police Department\", \"Milwaukee Police Department\", \"DC Metropolitan Police Department\", \"San Diego Police Department\", \"Tampa Police Department\", \"Indianapolis Metropolitan Police Department\", \"Austin Police Department\", \"Fort Worth Police Department\", \"Tucson Police Department\", \"Louisville Metro Police Department\", \"Miami Police Department\", \"Fresno Police Department\", \"Atlanta Police Department\", \"Albuquerque Police Department\", \"Raleigh Police Department\", \"Jacksonville Sheriff's Office\", \"Mesa Police Department\", \"Virginia Beach Police Department\", \"St. Louis Metropolitan Police Department\", \"Denver Police Department\", \"Aurora Police Department\", \"Minneapolis Police Department\", \"El Paso Police Department\", \"Winston-Salem Police Department\", \"Omaha Police Department\", \"Oklahoma City Police Department\", \"Charlotte-Mecklenburg Police Department\", \"Sacramento Police Department\", \"Long Beach Police Department\", \"Greensboro Police Department\", \"San Jose Police Department\", \"Pittsburgh Police Department\", \"Norfolk Police Department\", \"Anchorage Police Department\", \"San Francisco Police Department\", \"Arlington Police Department\", \"Colorado Springs Police Department\", \"Corpus Christi Police Department\", \"Bakersfield Police Department\", \"Tulsa Police Department\", \"Seattle Police Department\", \"Buffalo Police Department\", \"Detroit Police Department\", \"St. Petersburg Police Department\", \"Newark Police Department\", \"Lincoln Police Department\", \"Columbus Division of Police\", \"Boston Police Department\", \"Reno Police Department\", \"Kansas City Police Department\", \"St. Paul Police Department\", \"Orlando Police Department\", \"Spokane Police Department\", \"Wichita Police Department\", \"Scottsdale Police Department\", \"Irving Police Department\", \"Hialeah Police Department\", \"Henderson Police Department\", \"Madison Police Department\", \"Cleveland Police Department\", \"Lexington Police Department\", \"Chesapeake Police Department\", \"Lubbock Police Department\", \"Plano Police Department\", \"Santa Ana Police Department\", \"Garland Police Department\", \"Jersey City Police Department\", \"Laredo Police Department\", \"Riverside Police Department\", \"Stockton Police Department\", \"Anaheim Police Department\", \"Oakland Police Department\", \"San Bernardino Police Department\", \"Chandler Police Department\", \"Durham Police Department\", \"Glendale Police Department\", \"Chula Vista Police Department\", \"Fremont Police Department\", \"Irvine Police Department\", \"Portland Police Bureau\", \"North Las Vegas Police Department\", \"Fort Wayne Police Department\", \"New Orleans Police Department\", \"Baton Rouge Police Department\", \"Toledo Police Department\", \"Cincinnati Polce Department\", \"Birmingham Police Department\", \"Rochester Police Department\", \"Honolulu Police Department\"], \"xaxis\": \"x\", \"y\": [339470.0, 84215.0, 71732.0, 69324.0, 56317.0, 65575.0, 0.0, 50826.0, 45841.0, 34280.0, 32939.0, 26666.0, 27082.0, 36219.0, 36587.0, 30983.0, 39620.0, 33101.0, 26640.0, 32294.0, 41338.0, 25618.0, 25068.0, 0.0, 22126.0, 0.0, 25969.0, 25723.0, 20259.0, 20493.0, 30118.0, 19155.0, 15019.0, 18192.0, 16146.0, 0.0, 19660.0, 25305.0, 18132.0, 15411.0, 13601.0, 16232.0, 12911.0, 12700.0, 14387.0, 16604.0, 13989.0, 22020.0, 19278.0, 21814.0, 15769.0, 14230.0, 12354.0, 10849.0, 13491.0, 0.0, 13518.0, 9942.0, 11423.0, 11869.0, 10886.0, 9659.0, 10650.0, 23794.0, 9307.0, 8910.0, 5831.0, 7950.0, 8954.0, 9382.0, 6441.0, 13310.0, 5919.0, 8092.0, 9163.0, 8101.0, 7561.0, 7670.0, 8196.0, 8500.0, 6261.0, 8381.0, 10850.0, 6337.0, 6256.0, 4663.0, 3692.0, 4019.0, 2566.0, 2988.0, 0.0, 5922.0, 5054.0, 17017.0, 15244.0, 0.0, 0.0, 0.0, 0.0, 0.0], \"yaxis\": \"y\"}, {\"alignmentgroup\": \"True\", \"hovertemplate\": \"variable=2016_Tot_Arrests<br>PD=%{x}<br>value=%{y}<extra></extra>\", \"legendgroup\": \"2016_Tot_Arrests\", \"marker\": {\"color\": \"#ab63fa\"}, \"name\": \"2016_Tot_Arrests\", \"offsetgroup\": \"2016_Tot_Arrests\", \"orientation\": \"v\", \"showlegend\": true, \"textposition\": \"auto\", \"type\": \"bar\", \"x\": [\"New York Police Department\", \"Chicago Police Department\", \"Los Angeles Police Department\", \"Philadelphia Police Department\", \"Houston Police Department\", \"Las Vegas Metropolitan Police Department\", \"Phoenix Police Department\", \"San Antonio Police Department\", \"Metropolitan Nashville Police Department\", \"Memphis Police Department\", \"Baltimore Police Department\", \"Dallas Police Department\", \"Milwaukee Police Department\", \"DC Metropolitan Police Department\", \"San Diego Police Department\", \"Tampa Police Department\", \"Indianapolis Metropolitan Police Department\", \"Austin Police Department\", \"Fort Worth Police Department\", \"Tucson Police Department\", \"Louisville Metro Police Department\", \"Miami Police Department\", \"Fresno Police Department\", \"Atlanta Police Department\", \"Albuquerque Police Department\", \"Raleigh Police Department\", \"Jacksonville Sheriff's Office\", \"Mesa Police Department\", \"Virginia Beach Police Department\", \"St. Louis Metropolitan Police Department\", \"Denver Police Department\", \"Aurora Police Department\", \"Minneapolis Police Department\", \"El Paso Police Department\", \"Winston-Salem Police Department\", \"Omaha Police Department\", \"Oklahoma City Police Department\", \"Charlotte-Mecklenburg Police Department\", \"Sacramento Police Department\", \"Long Beach Police Department\", \"Greensboro Police Department\", \"San Jose Police Department\", \"Pittsburgh Police Department\", \"Norfolk Police Department\", \"Anchorage Police Department\", \"San Francisco Police Department\", \"Arlington Police Department\", \"Colorado Springs Police Department\", \"Corpus Christi Police Department\", \"Bakersfield Police Department\", \"Tulsa Police Department\", \"Seattle Police Department\", \"Buffalo Police Department\", \"Detroit Police Department\", \"St. Petersburg Police Department\", \"Newark Police Department\", \"Lincoln Police Department\", \"Columbus Division of Police\", \"Boston Police Department\", \"Reno Police Department\", \"Kansas City Police Department\", \"St. Paul Police Department\", \"Orlando Police Department\", \"Spokane Police Department\", \"Wichita Police Department\", \"Scottsdale Police Department\", \"Irving Police Department\", \"Hialeah Police Department\", \"Henderson Police Department\", \"Madison Police Department\", \"Cleveland Police Department\", \"Lexington Police Department\", \"Chesapeake Police Department\", \"Lubbock Police Department\", \"Plano Police Department\", \"Santa Ana Police Department\", \"Garland Police Department\", \"Jersey City Police Department\", \"Laredo Police Department\", \"Riverside Police Department\", \"Stockton Police Department\", \"Anaheim Police Department\", \"Oakland Police Department\", \"San Bernardino Police Department\", \"Chandler Police Department\", \"Durham Police Department\", \"Glendale Police Department\", \"Chula Vista Police Department\", \"Fremont Police Department\", \"Irvine Police Department\", \"Portland Police Bureau\", \"North Las Vegas Police Department\", \"Fort Wayne Police Department\", \"New Orleans Police Department\", \"Baton Rouge Police Department\", \"Toledo Police Department\", \"Cincinnati Polce Department\", \"Birmingham Police Department\", \"Rochester Police Department\", \"Honolulu Police Department\"], \"xaxis\": \"x\", \"y\": [314864.0, 61507.0, 68768.0, 53807.0, 57867.0, 67664.0, 44335.0, 42077.0, 42771.0, 31793.0, 29661.0, 34498.0, 24185.0, 44175.0, 35761.0, 25676.0, 37235.0, 30687.0, 24587.0, 33442.0, 40838.0, 24100.0, 19212.0, 22161.0, 20341.0, 0.0, 24883.0, 22995.0, 19190.0, 20163.0, 29993.0, 17455.0, 11879.0, 16874.0, 15432.0, 18677.0, 18574.0, 23740.0, 16282.0, 14726.0, 11536.0, 13034.0, 11897.0, 11870.0, 13294.0, 15271.0, 11024.0, 20489.0, 19747.0, 21629.0, 14311.0, 14569.0, 10937.0, 10883.0, 10907.0, 8490.0, 13053.0, 10092.0, 10247.0, 12044.0, 10629.0, 9024.0, 9344.0, 0.0, 9120.0, 9066.0, 5281.0, 7153.0, 9846.0, 8324.0, 3883.0, 13034.0, 3500.0, 7679.0, 8885.0, 7349.0, 6973.0, 7732.0, 6945.0, 9122.0, 6154.0, 9415.0, 11083.0, 6714.0, 6151.0, 3546.0, 0.0, 4601.0, 2422.0, 3337.0, 20322.0, 5935.0, 5365.0, 20589.0, 13322.0, 0.0, 0.0, 0.0, 0.0, 0.0], \"yaxis\": \"y\"}, {\"alignmentgroup\": \"True\", \"hovertemplate\": \"variable=2017_Tot_Arrests<br>PD=%{x}<br>value=%{y}<extra></extra>\", \"legendgroup\": \"2017_Tot_Arrests\", \"marker\": {\"color\": \"#FFA15A\"}, \"name\": \"2017_Tot_Arrests\", \"offsetgroup\": \"2017_Tot_Arrests\", \"orientation\": \"v\", \"showlegend\": true, \"textposition\": \"auto\", \"type\": \"bar\", \"x\": [\"New York Police Department\", \"Chicago Police Department\", \"Los Angeles Police Department\", \"Philadelphia Police Department\", \"Houston Police Department\", \"Las Vegas Metropolitan Police Department\", \"Phoenix Police Department\", \"San Antonio Police Department\", \"Metropolitan Nashville Police Department\", \"Memphis Police Department\", \"Baltimore Police Department\", \"Dallas Police Department\", \"Milwaukee Police Department\", \"DC Metropolitan Police Department\", \"San Diego Police Department\", \"Tampa Police Department\", \"Indianapolis Metropolitan Police Department\", \"Austin Police Department\", \"Fort Worth Police Department\", \"Tucson Police Department\", \"Louisville Metro Police Department\", \"Miami Police Department\", \"Fresno Police Department\", \"Atlanta Police Department\", \"Albuquerque Police Department\", \"Raleigh Police Department\", \"Jacksonville Sheriff's Office\", \"Mesa Police Department\", \"Virginia Beach Police Department\", \"St. Louis Metropolitan Police Department\", \"Denver Police Department\", \"Aurora Police Department\", \"Minneapolis Police Department\", \"El Paso Police Department\", \"Winston-Salem Police Department\", \"Omaha Police Department\", \"Oklahoma City Police Department\", \"Charlotte-Mecklenburg Police Department\", \"Sacramento Police Department\", \"Long Beach Police Department\", \"Greensboro Police Department\", \"San Jose Police Department\", \"Pittsburgh Police Department\", \"Norfolk Police Department\", \"Anchorage Police Department\", \"San Francisco Police Department\", \"Arlington Police Department\", \"Colorado Springs Police Department\", \"Corpus Christi Police Department\", \"Bakersfield Police Department\", \"Tulsa Police Department\", \"Seattle Police Department\", \"Buffalo Police Department\", \"Detroit Police Department\", \"St. Petersburg Police Department\", \"Newark Police Department\", \"Lincoln Police Department\", \"Columbus Division of Police\", \"Boston Police Department\", \"Reno Police Department\", \"Kansas City Police Department\", \"St. Paul Police Department\", \"Orlando Police Department\", \"Spokane Police Department\", \"Wichita Police Department\", \"Scottsdale Police Department\", \"Irving Police Department\", \"Hialeah Police Department\", \"Henderson Police Department\", \"Madison Police Department\", \"Cleveland Police Department\", \"Lexington Police Department\", \"Chesapeake Police Department\", \"Lubbock Police Department\", \"Plano Police Department\", \"Santa Ana Police Department\", \"Garland Police Department\", \"Jersey City Police Department\", \"Laredo Police Department\", \"Riverside Police Department\", \"Stockton Police Department\", \"Anaheim Police Department\", \"Oakland Police Department\", \"San Bernardino Police Department\", \"Chandler Police Department\", \"Durham Police Department\", \"Glendale Police Department\", \"Chula Vista Police Department\", \"Fremont Police Department\", \"Irvine Police Department\", \"Portland Police Bureau\", \"North Las Vegas Police Department\", \"Fort Wayne Police Department\", \"New Orleans Police Department\", \"Baton Rouge Police Department\", \"Toledo Police Department\", \"Cincinnati Polce Department\", \"Birmingham Police Department\", \"Rochester Police Department\", \"Honolulu Police Department\"], \"xaxis\": \"x\", \"y\": [286225.0, 57523.0, 64440.0, 52689.0, 47449.0, 68602.0, 49958.0, 52253.0, 40511.0, 30103.0, 29044.0, 31372.0, 24024.0, 53028.0, 35725.0, 22660.0, 40668.0, 28485.0, 23168.0, 30569.0, 42199.0, 19213.0, 19070.0, 22581.0, 21130.0, 0.0, 24313.0, 24344.0, 18668.0, 18729.0, 29372.0, 15907.0, 11955.0, 16838.0, 0.0, 0.0, 17246.0, 23632.0, 13810.0, 12145.0, 13247.0, 13977.0, 13534.0, 12692.0, 13871.0, 13950.0, 8397.0, 21462.0, 16655.0, 16822.0, 12666.0, 14543.0, 10050.0, 9701.0, 10149.0, 7624.0, 0.0, 9412.0, 9994.0, 12837.0, 10710.0, 9557.0, 9059.0, 4951.0, 8322.0, 9619.0, 5464.0, 5026.0, 9414.0, 7925.0, 4417.0, 17257.0, 4080.0, 7129.0, 9335.0, 7397.0, 6958.0, 6071.0, 4564.0, 7573.0, 7435.0, 8869.0, 10518.0, 8120.0, 6660.0, 3772.0, 2949.0, 4118.0, 2405.0, 2782.0, 19107.0, 5750.0, 5694.0, 25089.0, 12829.0, 7426.0, 6971.0, 0.0, 0.0, 0.0], \"yaxis\": \"y\"}, {\"alignmentgroup\": \"True\", \"hovertemplate\": \"variable=2018_Tot_Arrests<br>PD=%{x}<br>value=%{y}<extra></extra>\", \"legendgroup\": \"2018_Tot_Arrests\", \"marker\": {\"color\": \"#19d3f3\"}, \"name\": \"2018_Tot_Arrests\", \"offsetgroup\": \"2018_Tot_Arrests\", \"orientation\": \"v\", \"showlegend\": true, \"textposition\": \"auto\", \"type\": \"bar\", \"x\": [\"New York Police Department\", \"Chicago Police Department\", \"Los Angeles Police Department\", \"Philadelphia Police Department\", \"Houston Police Department\", \"Las Vegas Metropolitan Police Department\", \"Phoenix Police Department\", \"San Antonio Police Department\", \"Metropolitan Nashville Police Department\", \"Memphis Police Department\", \"Baltimore Police Department\", \"Dallas Police Department\", \"Milwaukee Police Department\", \"DC Metropolitan Police Department\", \"San Diego Police Department\", \"Tampa Police Department\", \"Indianapolis Metropolitan Police Department\", \"Austin Police Department\", \"Fort Worth Police Department\", \"Tucson Police Department\", \"Louisville Metro Police Department\", \"Miami Police Department\", \"Fresno Police Department\", \"Atlanta Police Department\", \"Albuquerque Police Department\", \"Raleigh Police Department\", \"Jacksonville Sheriff's Office\", \"Mesa Police Department\", \"Virginia Beach Police Department\", \"St. Louis Metropolitan Police Department\", \"Denver Police Department\", \"Aurora Police Department\", \"Minneapolis Police Department\", \"El Paso Police Department\", \"Winston-Salem Police Department\", \"Omaha Police Department\", \"Oklahoma City Police Department\", \"Charlotte-Mecklenburg Police Department\", \"Sacramento Police Department\", \"Long Beach Police Department\", \"Greensboro Police Department\", \"San Jose Police Department\", \"Pittsburgh Police Department\", \"Norfolk Police Department\", \"Anchorage Police Department\", \"San Francisco Police Department\", \"Arlington Police Department\", \"Colorado Springs Police Department\", \"Corpus Christi Police Department\", \"Bakersfield Police Department\", \"Tulsa Police Department\", \"Seattle Police Department\", \"Buffalo Police Department\", \"Detroit Police Department\", \"St. Petersburg Police Department\", \"Newark Police Department\", \"Lincoln Police Department\", \"Columbus Division of Police\", \"Boston Police Department\", \"Reno Police Department\", \"Kansas City Police Department\", \"St. Paul Police Department\", \"Orlando Police Department\", \"Spokane Police Department\", \"Wichita Police Department\", \"Scottsdale Police Department\", \"Irving Police Department\", \"Hialeah Police Department\", \"Henderson Police Department\", \"Madison Police Department\", \"Cleveland Police Department\", \"Lexington Police Department\", \"Chesapeake Police Department\", \"Lubbock Police Department\", \"Plano Police Department\", \"Santa Ana Police Department\", \"Garland Police Department\", \"Jersey City Police Department\", \"Laredo Police Department\", \"Riverside Police Department\", \"Stockton Police Department\", \"Anaheim Police Department\", \"Oakland Police Department\", \"San Bernardino Police Department\", \"Chandler Police Department\", \"Durham Police Department\", \"Glendale Police Department\", \"Chula Vista Police Department\", \"Fremont Police Department\", \"Irvine Police Department\", \"Portland Police Bureau\", \"North Las Vegas Police Department\", \"Fort Wayne Police Department\", \"New Orleans Police Department\", \"Baton Rouge Police Department\", \"Toledo Police Department\", \"Cincinnati Polce Department\", \"Birmingham Police Department\", \"Rochester Police Department\", \"Honolulu Police Department\"], \"xaxis\": \"x\", \"y\": [246773.0, 78737.0, 58688.0, 46301.0, 43036.0, 75653.0, 52449.0, 61234.0, 35949.0, 31342.0, 25567.0, 29772.0, 19057.0, 47147.0, 33674.0, 20310.0, 34286.0, 24359.0, 19863.0, 28858.0, 41453.0, 20902.0, 22527.0, 0.0, 22254.0, 0.0, 26230.0, 20800.0, 17071.0, 16993.0, 29520.0, 15662.0, 11652.0, 16264.0, 12786.0, 19072.0, 15795.0, 22021.0, 14054.0, 13362.0, 10665.0, 15392.0, 11699.0, 13469.0, 13973.0, 13891.0, 9566.0, 16670.0, 16238.0, 13048.0, 13303.0, 15182.0, 10720.0, 10734.0, 9753.0, 7453.0, 12874.0, 10954.0, 8843.0, 14422.0, 10796.0, 8632.0, 8727.0, 5865.0, 3931.0, 9296.0, 5854.0, 6160.0, 12111.0, 8016.0, 3834.0, 19232.0, 5149.0, 7496.0, 7657.0, 6609.0, 7060.0, 2972.0, 5991.0, 7443.0, 7327.0, 10019.0, 8971.0, 9195.0, 6538.0, 4596.0, 5405.0, 4213.0, 2741.0, 2064.0, 20501.0, 7056.0, 5897.0, 23674.0, 10773.0, 8467.0, 6694.0, 0.0, 0.0, 0.0], \"yaxis\": \"y\"}],\n",
       "                        {\"barmode\": \"group\", \"legend\": {\"title\": {\"text\": \"variable\"}, \"tracegroupgap\": 0}, \"margin\": {\"t\": 60}, \"template\": {\"data\": {\"bar\": [{\"error_x\": {\"color\": \"#2a3f5f\"}, \"error_y\": {\"color\": \"#2a3f5f\"}, \"marker\": {\"line\": {\"color\": \"#E5ECF6\", \"width\": 0.5}}, \"type\": \"bar\"}], \"barpolar\": [{\"marker\": {\"line\": {\"color\": \"#E5ECF6\", \"width\": 0.5}}, \"type\": \"barpolar\"}], \"carpet\": [{\"aaxis\": {\"endlinecolor\": \"#2a3f5f\", \"gridcolor\": \"white\", \"linecolor\": \"white\", \"minorgridcolor\": \"white\", \"startlinecolor\": \"#2a3f5f\"}, \"baxis\": {\"endlinecolor\": \"#2a3f5f\", \"gridcolor\": \"white\", \"linecolor\": \"white\", \"minorgridcolor\": \"white\", \"startlinecolor\": \"#2a3f5f\"}, \"type\": \"carpet\"}], \"choropleth\": [{\"colorbar\": {\"outlinewidth\": 0, \"ticks\": \"\"}, \"type\": \"choropleth\"}], \"contour\": [{\"colorbar\": {\"outlinewidth\": 0, \"ticks\": \"\"}, \"colorscale\": [[0.0, \"#0d0887\"], [0.1111111111111111, \"#46039f\"], [0.2222222222222222, \"#7201a8\"], [0.3333333333333333, \"#9c179e\"], [0.4444444444444444, \"#bd3786\"], [0.5555555555555556, \"#d8576b\"], [0.6666666666666666, \"#ed7953\"], [0.7777777777777778, \"#fb9f3a\"], [0.8888888888888888, \"#fdca26\"], [1.0, \"#f0f921\"]], \"type\": \"contour\"}], \"contourcarpet\": [{\"colorbar\": {\"outlinewidth\": 0, \"ticks\": \"\"}, \"type\": \"contourcarpet\"}], \"heatmap\": [{\"colorbar\": {\"outlinewidth\": 0, \"ticks\": \"\"}, \"colorscale\": [[0.0, \"#0d0887\"], [0.1111111111111111, \"#46039f\"], [0.2222222222222222, \"#7201a8\"], [0.3333333333333333, \"#9c179e\"], [0.4444444444444444, \"#bd3786\"], [0.5555555555555556, \"#d8576b\"], [0.6666666666666666, \"#ed7953\"], [0.7777777777777778, \"#fb9f3a\"], [0.8888888888888888, \"#fdca26\"], [1.0, \"#f0f921\"]], \"type\": \"heatmap\"}], \"heatmapgl\": [{\"colorbar\": {\"outlinewidth\": 0, \"ticks\": \"\"}, \"colorscale\": [[0.0, \"#0d0887\"], [0.1111111111111111, \"#46039f\"], [0.2222222222222222, \"#7201a8\"], [0.3333333333333333, \"#9c179e\"], [0.4444444444444444, \"#bd3786\"], [0.5555555555555556, \"#d8576b\"], [0.6666666666666666, \"#ed7953\"], [0.7777777777777778, \"#fb9f3a\"], [0.8888888888888888, \"#fdca26\"], [1.0, \"#f0f921\"]], \"type\": \"heatmapgl\"}], \"histogram\": [{\"marker\": {\"colorbar\": {\"outlinewidth\": 0, \"ticks\": \"\"}}, \"type\": \"histogram\"}], \"histogram2d\": [{\"colorbar\": {\"outlinewidth\": 0, \"ticks\": \"\"}, \"colorscale\": [[0.0, \"#0d0887\"], [0.1111111111111111, \"#46039f\"], [0.2222222222222222, \"#7201a8\"], [0.3333333333333333, \"#9c179e\"], [0.4444444444444444, \"#bd3786\"], [0.5555555555555556, \"#d8576b\"], [0.6666666666666666, \"#ed7953\"], [0.7777777777777778, \"#fb9f3a\"], [0.8888888888888888, \"#fdca26\"], [1.0, \"#f0f921\"]], \"type\": \"histogram2d\"}], \"histogram2dcontour\": [{\"colorbar\": {\"outlinewidth\": 0, \"ticks\": \"\"}, \"colorscale\": [[0.0, \"#0d0887\"], [0.1111111111111111, \"#46039f\"], [0.2222222222222222, \"#7201a8\"], [0.3333333333333333, \"#9c179e\"], [0.4444444444444444, \"#bd3786\"], [0.5555555555555556, \"#d8576b\"], [0.6666666666666666, \"#ed7953\"], [0.7777777777777778, \"#fb9f3a\"], [0.8888888888888888, \"#fdca26\"], [1.0, \"#f0f921\"]], \"type\": \"histogram2dcontour\"}], \"mesh3d\": [{\"colorbar\": {\"outlinewidth\": 0, \"ticks\": \"\"}, \"type\": \"mesh3d\"}], \"parcoords\": [{\"line\": {\"colorbar\": {\"outlinewidth\": 0, \"ticks\": \"\"}}, \"type\": \"parcoords\"}], \"pie\": [{\"automargin\": true, \"type\": \"pie\"}], \"scatter\": [{\"marker\": {\"colorbar\": {\"outlinewidth\": 0, \"ticks\": \"\"}}, \"type\": \"scatter\"}], \"scatter3d\": [{\"line\": {\"colorbar\": {\"outlinewidth\": 0, \"ticks\": \"\"}}, \"marker\": {\"colorbar\": {\"outlinewidth\": 0, \"ticks\": \"\"}}, \"type\": \"scatter3d\"}], \"scattercarpet\": [{\"marker\": {\"colorbar\": {\"outlinewidth\": 0, \"ticks\": \"\"}}, \"type\": \"scattercarpet\"}], \"scattergeo\": [{\"marker\": {\"colorbar\": {\"outlinewidth\": 0, \"ticks\": \"\"}}, \"type\": \"scattergeo\"}], \"scattergl\": [{\"marker\": {\"colorbar\": {\"outlinewidth\": 0, \"ticks\": \"\"}}, \"type\": \"scattergl\"}], \"scattermapbox\": [{\"marker\": {\"colorbar\": {\"outlinewidth\": 0, \"ticks\": \"\"}}, \"type\": \"scattermapbox\"}], \"scatterpolar\": [{\"marker\": {\"colorbar\": {\"outlinewidth\": 0, \"ticks\": \"\"}}, \"type\": \"scatterpolar\"}], \"scatterpolargl\": [{\"marker\": {\"colorbar\": {\"outlinewidth\": 0, \"ticks\": \"\"}}, \"type\": \"scatterpolargl\"}], \"scatterternary\": [{\"marker\": {\"colorbar\": {\"outlinewidth\": 0, \"ticks\": \"\"}}, \"type\": \"scatterternary\"}], \"surface\": [{\"colorbar\": {\"outlinewidth\": 0, \"ticks\": \"\"}, \"colorscale\": [[0.0, \"#0d0887\"], [0.1111111111111111, \"#46039f\"], [0.2222222222222222, \"#7201a8\"], [0.3333333333333333, \"#9c179e\"], [0.4444444444444444, \"#bd3786\"], [0.5555555555555556, \"#d8576b\"], [0.6666666666666666, \"#ed7953\"], [0.7777777777777778, \"#fb9f3a\"], [0.8888888888888888, \"#fdca26\"], [1.0, \"#f0f921\"]], \"type\": \"surface\"}], \"table\": [{\"cells\": {\"fill\": {\"color\": \"#EBF0F8\"}, \"line\": {\"color\": \"white\"}}, \"header\": {\"fill\": {\"color\": \"#C8D4E3\"}, \"line\": {\"color\": \"white\"}}, \"type\": \"table\"}]}, \"layout\": {\"annotationdefaults\": {\"arrowcolor\": \"#2a3f5f\", \"arrowhead\": 0, \"arrowwidth\": 1}, \"coloraxis\": {\"colorbar\": {\"outlinewidth\": 0, \"ticks\": \"\"}}, \"colorscale\": {\"diverging\": [[0, \"#8e0152\"], [0.1, \"#c51b7d\"], [0.2, \"#de77ae\"], [0.3, \"#f1b6da\"], [0.4, \"#fde0ef\"], [0.5, \"#f7f7f7\"], [0.6, \"#e6f5d0\"], [0.7, \"#b8e186\"], [0.8, \"#7fbc41\"], [0.9, \"#4d9221\"], [1, \"#276419\"]], \"sequential\": [[0.0, \"#0d0887\"], [0.1111111111111111, \"#46039f\"], [0.2222222222222222, \"#7201a8\"], [0.3333333333333333, \"#9c179e\"], [0.4444444444444444, \"#bd3786\"], [0.5555555555555556, \"#d8576b\"], [0.6666666666666666, \"#ed7953\"], [0.7777777777777778, \"#fb9f3a\"], [0.8888888888888888, \"#fdca26\"], [1.0, \"#f0f921\"]], \"sequentialminus\": [[0.0, \"#0d0887\"], [0.1111111111111111, \"#46039f\"], [0.2222222222222222, \"#7201a8\"], [0.3333333333333333, \"#9c179e\"], [0.4444444444444444, \"#bd3786\"], [0.5555555555555556, \"#d8576b\"], [0.6666666666666666, \"#ed7953\"], [0.7777777777777778, \"#fb9f3a\"], [0.8888888888888888, \"#fdca26\"], [1.0, \"#f0f921\"]]}, \"colorway\": [\"#636efa\", \"#EF553B\", \"#00cc96\", \"#ab63fa\", \"#FFA15A\", \"#19d3f3\", \"#FF6692\", \"#B6E880\", \"#FF97FF\", \"#FECB52\"], \"font\": {\"color\": \"#2a3f5f\"}, \"geo\": {\"bgcolor\": \"white\", \"lakecolor\": \"white\", \"landcolor\": \"#E5ECF6\", \"showlakes\": true, \"showland\": true, \"subunitcolor\": \"white\"}, \"hoverlabel\": {\"align\": \"left\"}, \"hovermode\": \"closest\", \"mapbox\": {\"style\": \"light\"}, \"paper_bgcolor\": \"white\", \"plot_bgcolor\": \"#E5ECF6\", \"polar\": {\"angularaxis\": {\"gridcolor\": \"white\", \"linecolor\": \"white\", \"ticks\": \"\"}, \"bgcolor\": \"#E5ECF6\", \"radialaxis\": {\"gridcolor\": \"white\", \"linecolor\": \"white\", \"ticks\": \"\"}}, \"scene\": {\"xaxis\": {\"backgroundcolor\": \"#E5ECF6\", \"gridcolor\": \"white\", \"gridwidth\": 2, \"linecolor\": \"white\", \"showbackground\": true, \"ticks\": \"\", \"zerolinecolor\": \"white\"}, \"yaxis\": {\"backgroundcolor\": \"#E5ECF6\", \"gridcolor\": \"white\", \"gridwidth\": 2, \"linecolor\": \"white\", \"showbackground\": true, \"ticks\": \"\", \"zerolinecolor\": \"white\"}, \"zaxis\": {\"backgroundcolor\": \"#E5ECF6\", \"gridcolor\": \"white\", \"gridwidth\": 2, \"linecolor\": \"white\", \"showbackground\": true, \"ticks\": \"\", \"zerolinecolor\": \"white\"}}, \"shapedefaults\": {\"line\": {\"color\": \"#2a3f5f\"}}, \"ternary\": {\"aaxis\": {\"gridcolor\": \"white\", \"linecolor\": \"white\", \"ticks\": \"\"}, \"baxis\": {\"gridcolor\": \"white\", \"linecolor\": \"white\", \"ticks\": \"\"}, \"bgcolor\": \"#E5ECF6\", \"caxis\": {\"gridcolor\": \"white\", \"linecolor\": \"white\", \"ticks\": \"\"}}, \"title\": {\"x\": 0.05}, \"xaxis\": {\"automargin\": true, \"gridcolor\": \"white\", \"linecolor\": \"white\", \"ticks\": \"\", \"title\": {\"standoff\": 15}, \"zerolinecolor\": \"white\", \"zerolinewidth\": 2}, \"yaxis\": {\"automargin\": true, \"gridcolor\": \"white\", \"linecolor\": \"white\", \"ticks\": \"\", \"title\": {\"standoff\": 15}, \"zerolinecolor\": \"white\", \"zerolinewidth\": 2}}}, \"xaxis\": {\"anchor\": \"y\", \"domain\": [0.0, 1.0], \"title\": {\"text\": \"PD\"}}, \"yaxis\": {\"anchor\": \"x\", \"domain\": [0.0, 1.0], \"title\": {\"text\": \"value\"}}},\n",
       "                        {\"responsive\": true}\n",
       "                    ).then(function(){\n",
       "                            \n",
       "var gd = document.getElementById('6a928a2e-1237-4baa-a981-859c3defd417');\n",
       "var x = new MutationObserver(function (mutations, observer) {{\n",
       "        var display = window.getComputedStyle(gd).display;\n",
       "        if (!display || display === 'none') {{\n",
       "            console.log([gd, 'removed!']);\n",
       "            Plotly.purge(gd);\n",
       "            observer.disconnect();\n",
       "        }}\n",
       "}});\n",
       "\n",
       "// Listen for the removal of the full notebook cells\n",
       "var notebookContainer = gd.closest('#notebook-container');\n",
       "if (notebookContainer) {{\n",
       "    x.observe(notebookContainer, {childList: true});\n",
       "}}\n",
       "\n",
       "// Listen for the clearing of the current output cell\n",
       "var outputEl = gd.closest('.output');\n",
       "if (outputEl) {{\n",
       "    x.observe(outputEl, {childList: true});\n",
       "}}\n",
       "\n",
       "                        })\n",
       "                };\n",
       "                });\n",
       "            </script>\n",
       "        </div>"
      ]
     },
     "metadata": {},
     "output_type": "display_data"
    }
   ],
   "source": [
    "fig = px.bar(tot_arrest, x='PD', y=['2013_Tot_Arrests', '2014_Tot_Arrests', '2015_Tot_Arrests', '2016_Tot_Arrests', '2017_Tot_Arrests','2018_Tot_Arrests'],barmode='group')\n",
    "fig.show()"
   ]
  },
  {
   "cell_type": "code",
   "execution_count": null,
   "metadata": {},
   "outputs": [],
   "source": []
  }
 ],
 "metadata": {
  "kernelspec": {
   "display_name": "Python 3",
   "language": "python",
   "name": "python3"
  },
  "language_info": {
   "codemirror_mode": {
    "name": "ipython",
    "version": 3
   },
   "file_extension": ".py",
   "mimetype": "text/x-python",
   "name": "python",
   "nbconvert_exporter": "python",
   "pygments_lexer": "ipython3",
   "version": "3.7.6"
  }
 },
 "nbformat": 4,
 "nbformat_minor": 4
}
